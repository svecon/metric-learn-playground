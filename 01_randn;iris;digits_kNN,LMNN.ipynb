{
 "cells": [
  {
   "cell_type": "code",
   "execution_count": 57,
   "metadata": {
    "collapsed": false
   },
   "outputs": [],
   "source": [
    "import csv\n",
    "import numpy as np\n",
    "import scipy.linalg as la\n",
    "import matplotlib.pyplot as plt\n",
    "\n",
    "%matplotlib inline  "
   ]
  },
  {
   "cell_type": "code",
   "execution_count": 52,
   "metadata": {
    "collapsed": true
   },
   "outputs": [],
   "source": [
    "def MahalanobisDist(x, y):\n",
    "    covariance_xy = np.cov(x,y, rowvar=0)\n",
    "    inv_covariance_xy = np.linalg.inv(covariance_xy)\n",
    "    xy_mean = np.mean(x),np.mean(y)\n",
    "    x_diff = np.array([x_i - xy_mean[0] for x_i in x])\n",
    "    y_diff = np.array([y_i - xy_mean[1] for y_i in y])\n",
    "    diff_xy = np.transpose([x_diff, y_diff])\n",
    "    print(diff_xy)\n",
    "    \n",
    "    md = []\n",
    "    for i in range(len(diff_xy)):\n",
    "        md.append(np.sqrt(np.dot(np.dot(np.transpose(diff_xy[i]),inv_covariance_xy),diff_xy[i])))\n",
    "    return md"
   ]
  },
  {
   "cell_type": "code",
   "execution_count": 137,
   "metadata": {
    "collapsed": false
   },
   "outputs": [],
   "source": [
    "def randnClusters(M):\n",
    "    ret = []\n",
    "    for cluster in M:\n",
    "        N = cluster[0]\n",
    "        dim = len(cluster)-1\n",
    "        data = np.random.randn(N, dim)\n",
    "        \n",
    "        for d in range(dim):\n",
    "            data[:,d] = cluster[1+d][0] * data[:,d] + cluster[1+d][1]\n",
    "        \n",
    "        if len(ret) == 0:\n",
    "            ret = data\n",
    "        else:\n",
    "            ret = np.vstack([ret, data])\n",
    "            \n",
    "    return ret "
   ]
  },
  {
   "cell_type": "code",
   "execution_count": 183,
   "metadata": {
    "collapsed": false
   },
   "outputs": [
    {
     "data": {
      "image/png": "[encoded data removed]",
      "text/plain": [
       "<matplotlib.figure.Figure at 0x7f6545463f98>"
      ]
     },
     "metadata": {},
     "output_type": "display_data"
    }
   ],
   "source": [
    "pars = [\n",
    "    [50, (10,50), (20,10)],\n",
    "    [50, (10,-5), (2,-10)],\n",
    "    [50, (10,-5), (2,10)],\n",
    "]\n",
    "\n",
    "genClusters = randnClusters(pars)\n",
    "x,y = genClusters[:,0],genClusters[:,1]\n",
    "plt.scatter(x,y, color=((['r']*50)+(['b']*50)+(['g']*50)))\n",
    "\n",
    "covariance_xy = np.cov(x,y, rowvar=0)\n",
    "A = np.linalg.inv(covariance_xy)\n",
    "A12 = la.sqrtm(A)\n",
    "\n",
    "#scaled = ([ np.dot(A12, i) for i in genClusters ])\n",
    "scaled = np.transpose(np.dot(A12, np.transpose(genClusters)))\n",
    "\n",
    "#    3 5 7\n",
    "#    4 6 8\n",
    "#1 2\n",
    "#3 4\n",
    "\n",
    "plt.scatter(scaled[:,0], scaled[:,1], color='brown')\n",
    "plt.show()"
   ]
  },
  {
   "cell_type": "code",
   "execution_count": 213,
   "metadata": {
    "collapsed": false
   },
   "outputs": [
    {
     "data": {
      "text/plain": [
       "<metric_learn.lmnn.python_LMNN at 0x7f65446d8898>"
      ]
     },
     "execution_count": 213,
     "metadata": {},
     "output_type": "execute_result"
    }
   ],
   "source": [
    "from metric_learn import LMNN\n",
    "target = ([0]*50)+([1]*50)+([2]*50)\n",
    "\n",
    "lmnn = LMNN(k=49)\n",
    "lmnn.fit(genClusters, target, verbose=False)"
   ]
  },
  {
   "cell_type": "code",
   "execution_count": 214,
   "metadata": {
    "collapsed": false
   },
   "outputs": [
    {
     "name": "stdout",
     "output_type": "stream",
     "text": [
      "[[ 0.65408164  0.52618711]\n",
      " [ 0.52618711 -1.6213105 ]]\n"
     ]
    },
    {
     "data": {
      "text/plain": [
       "<matplotlib.collections.PathCollection at 0x7f654472acc0>"
      ]
     },
     "execution_count": 214,
     "metadata": {},
     "output_type": "execute_result"
    },
    {
     "data": {
      "image/png": "[encoded data removed]",
      "text/plain": [
       "<matplotlib.figure.Figure at 0x7f6545a99c18>"
      ]
     },
     "metadata": {},
     "output_type": "display_data"
    }
   ],
   "source": [
    "tra = lmnn.transform(genClusters)\n",
    "\n",
    "#L12 = la.sqrtm(lmnn.L)\n",
    "#scaled = ([ np.dot(A12, i) for i in genClusters ])\n",
    "#tra = np.transpose(np.dot(L12, np.transpose(genClusters)))\n",
    "print(lmnn.L)\n",
    "\n",
    "plt.scatter(tra[:,0], tra[:,1], color=((['r']*50)+(['b']*50)+(['g']*50)))"
   ]
  },
  {
   "cell_type": "code",
   "execution_count": 473,
   "metadata": {
    "collapsed": false
   },
   "outputs": [
    {
     "name": "stdout",
     "output_type": "stream",
     "text": [
      "[[ 0.90520851  0.02231087 -0.11583061 -0.20074296]\n",
      " [-0.01153287  0.78433003 -0.23529192 -0.28114876]\n",
      " [-0.18036588 -0.26581595  0.88826448  0.85468377]\n",
      " [-0.14705904 -0.28653687  0.81133363  1.32629514]]\n"
     ]
    },
    {
     "data": {
      "image/png": "[encoded data removed]",
      "text/plain": [
       "<matplotlib.figure.Figure at 0x7f65445d0eb8>"
      ]
     },
     "metadata": {},
     "output_type": "display_data"
    }
   ],
   "source": [
    "import numpy as np\n",
    "from metric_learn import LMNN\n",
    "from sklearn.datasets import load_iris\n",
    "\n",
    "iris_data = load_iris()\n",
    "X = iris_data['data']\n",
    "Y = iris_data['target']\n",
    "\n",
    "#print(X,Y)\n",
    "\n",
    "Ycolors = [ \"r\" if x==0 else \"g\" if x==1 else \"b\" for x in Y]\n",
    "\n",
    "plt.scatter(X[:,3],X[:,2],color=Ycolors)\n",
    "\n",
    "lmnn = LMNN(k=20, learn_rate=1e-6)\n",
    "lmnn.fit(X, Y, verbose=False)\n",
    "print(lmnn.L)"
   ]
  },
  {
   "cell_type": "code",
   "execution_count": 474,
   "metadata": {
    "collapsed": false
   },
   "outputs": [
    {
     "data": {
      "text/plain": [
       "<matplotlib.collections.PathCollection at 0x7f65438b02b0>"
      ]
     },
     "execution_count": 474,
     "metadata": {},
     "output_type": "execute_result"
    },
    {
     "data": {
      "image/png": "[encoded data removed]",
      "text/plain": [
       "<matplotlib.figure.Figure at 0x7f65445e15c0>"
      ]
     },
     "metadata": {},
     "output_type": "display_data"
    }
   ],
   "source": [
    "Xt = lmnn.transform(X)\n",
    "\n",
    "plt.scatter(Xt[:,3],Xt[:,2],color=Ycolors)"
   ]
  },
  {
   "cell_type": "code",
   "execution_count": 502,
   "metadata": {
    "collapsed": false
   },
   "outputs": [
    {
     "name": "stdout",
     "output_type": "stream",
     "text": [
      "Accuracy: 0.9600 (+/- 0.09)\n",
      "[ 1.          1.          1.          0.86666667  1.          0.93333333\n",
      "  1.          0.93333333  0.93333333  0.93333333]\n"
     ]
    }
   ],
   "source": [
    "import random\n",
    "from sklearn import cross_validation\n",
    "from sklearn.neighbors import KNeighborsClassifier\n",
    "\n",
    "#X_train, X_test, y_train, y_test = cross_validation.train_test_split(X, Y, test_size=0.4)\n",
    "\n",
    "neigh = KNeighborsClassifier(n_neighbors=5)\n",
    "#neigh.fit(X_train, y_train) \n",
    "\n",
    "shuffIndexes = list(range(len(Y)))\n",
    "random.shuffle(shuffIndexes)\n",
    "Xshuf = X[shuffIndexes]\n",
    "Yshuf = Y[shuffIndexes]\n",
    "\n",
    "#print(neigh.score(X_test, y_test))\n",
    "scores = cross_validation.cross_val_score(neigh, Xshuf, Yshuf, cv=10)\n",
    "print(\"Accuracy: %0.4f (+/- %0.2f)\" % (scores.mean(), scores.std() * 2))\n",
    "print(scores)"
   ]
  },
  {
   "cell_type": "code",
   "execution_count": 503,
   "metadata": {
    "collapsed": false
   },
   "outputs": [
    {
     "name": "stdout",
     "output_type": "stream",
     "text": [
      "[[ 0.87369366  0.10123238 -0.38166382 -0.52767127]\n",
      " [ 0.10123238  0.76843286 -0.65572266 -0.8322132 ]\n",
      " [-0.38166382 -0.65572266  1.51605506  1.92465729]\n",
      " [-0.52767127 -0.8322132   1.92465729  2.60888549]]\n",
      "Accuracy: 0.9667 (+/- 0.09)\n",
      "[ 1.          1.          1.          0.86666667  1.          0.93333333\n",
      "  1.          1.          0.93333333  0.93333333]\n"
     ]
    }
   ],
   "source": [
    "print(lmnn.metric())\n",
    "neigh2 = KNeighborsClassifier(n_neighbors=5, metric='mahalanobis', metric_params={'VI':lmnn.metric()})\n",
    "#neigh2.fit(X_train, y_train) \n",
    "\n",
    "#print(neigh2.score(X_test, y_test))\n",
    "scores = cross_validation.cross_val_score(neigh2, Xshuf, Yshuf, cv=10)\n",
    "print(\"Accuracy: %0.4f (+/- %0.2f)\" % (scores.mean(), scores.std() * 2))\n",
    "print(scores)"
   ]
  },
  {
   "cell_type": "code",
   "execution_count": 1,
   "metadata": {
    "collapsed": false
   },
   "outputs": [
    {
     "ename": "ImportError",
     "evalue": "cannot import name 'LMNN'",
     "output_type": "error",
     "traceback": [
      "\u001b[1;31m---------------------------------------------------------------------------\u001b[0m",
      "\u001b[1;31mImportError\u001b[0m                               Traceback (most recent call last)",
      "\u001b[1;32m<ipython-input-1-b0019277bc0a>\u001b[0m in \u001b[0;36m<module>\u001b[1;34m()\u001b[0m\n\u001b[1;32m----> 1\u001b[1;33m \u001b[1;32mfrom\u001b[0m \u001b[0mmodshogun\u001b[0m \u001b[1;32mimport\u001b[0m \u001b[0mLMNN\u001b[0m \u001b[1;32mas\u001b[0m \u001b[0mshogun_LMNN\u001b[0m\u001b[1;33m\u001b[0m\u001b[0m\n\u001b[0m",
      "\u001b[1;31mImportError\u001b[0m: cannot import name 'LMNN'"
     ]
    }
   ],
   "source": [
    "from modshogun import LMNN as shogun_LMNN"
   ]
  },
  {
   "cell_type": "code",
   "execution_count": 435,
   "metadata": {
    "collapsed": false
   },
   "outputs": [
    {
     "name": "stdout",
     "output_type": "stream",
     "text": [
      "(1797, 64)\n"
     ]
    },
    {
     "data": {
      "text/plain": [
       "<matplotlib.figure.Figure at 0x7f65458fda58>"
      ]
     },
     "metadata": {},
     "output_type": "display_data"
    },
    {
     "data": {
      "image/png": "[encoded data removed]",
      "text/plain": [
       "<matplotlib.figure.Figure at 0x7f654565dd68>"
      ]
     },
     "metadata": {},
     "output_type": "display_data"
    }
   ],
   "source": [
    "from sklearn.datasets import load_digits\n",
    "digits = load_digits()\n",
    "print(digits.data.shape)\n",
    "import pylab as pl \n",
    "pl.gray() \n",
    "pl.matshow(digits.images[100]) \n",
    "pl.show() "
   ]
  },
  {
   "cell_type": "code",
   "execution_count": 466,
   "metadata": {
    "collapsed": false
   },
   "outputs": [
    {
     "name": "stdout",
     "output_type": "stream",
     "text": [
      "Accuracy: 0.9739 (+/- 0.03)\n",
      "[ 0.92972973  0.98907104  0.97790055  0.97777778  0.96648045  0.98324022\n",
      "  0.98882682  0.98314607  0.97740113  0.96590909]\n"
     ]
    }
   ],
   "source": [
    "neigh = KNeighborsClassifier(n_neighbors=5)\n",
    "\n",
    "scores = cross_validation.cross_val_score(neigh, [x.reshape(64) for x in digits.images], digits.target, cv=10)\n",
    "print(\"Accuracy: %0.4f (+/- %0.2f)\" % (scores.mean(), scores.std() * 2))\n",
    "print(scores)"
   ]
  },
  {
   "cell_type": "code",
   "execution_count": 468,
   "metadata": {
    "collapsed": false
   },
   "outputs": [
    {
     "ename": "KeyboardInterrupt",
     "evalue": "",
     "output_type": "error",
     "traceback": [
      "\u001b[1;31m---------------------------------------------------------------------------\u001b[0m",
      "\u001b[1;31mKeyboardInterrupt\u001b[0m                         Traceback (most recent call last)",
      "\u001b[1;32m<ipython-input-468-bdc1264fb9d8>\u001b[0m in \u001b[0;36m<module>\u001b[1;34m()\u001b[0m\n\u001b[0;32m      1\u001b[0m \u001b[0mlmnn\u001b[0m \u001b[1;33m=\u001b[0m \u001b[0mLMNN\u001b[0m\u001b[1;33m(\u001b[0m\u001b[0mk\u001b[0m\u001b[1;33m=\u001b[0m\u001b[1;36m20\u001b[0m\u001b[1;33m,\u001b[0m \u001b[0mlearn_rate\u001b[0m\u001b[1;33m=\u001b[0m\u001b[1;36m1e-6\u001b[0m\u001b[1;33m)\u001b[0m\u001b[1;33m\u001b[0m\u001b[0m\n\u001b[1;32m----> 2\u001b[1;33m \u001b[0mlmnn\u001b[0m\u001b[1;33m.\u001b[0m\u001b[0mfit\u001b[0m\u001b[1;33m(\u001b[0m\u001b[0mnp\u001b[0m\u001b[1;33m.\u001b[0m\u001b[0marray\u001b[0m\u001b[1;33m(\u001b[0m\u001b[1;33m[\u001b[0m\u001b[0mx\u001b[0m\u001b[1;33m.\u001b[0m\u001b[0mreshape\u001b[0m\u001b[1;33m(\u001b[0m\u001b[1;36m64\u001b[0m\u001b[1;33m)\u001b[0m \u001b[1;32mfor\u001b[0m \u001b[0mx\u001b[0m \u001b[1;32min\u001b[0m \u001b[0mdigits\u001b[0m\u001b[1;33m.\u001b[0m\u001b[0mimages\u001b[0m\u001b[1;33m]\u001b[0m\u001b[1;33m)\u001b[0m\u001b[1;33m,\u001b[0m \u001b[0mdigits\u001b[0m\u001b[1;33m.\u001b[0m\u001b[0mtarget\u001b[0m\u001b[1;33m,\u001b[0m \u001b[0mverbose\u001b[0m\u001b[1;33m=\u001b[0m\u001b[1;32mFalse\u001b[0m\u001b[1;33m)\u001b[0m\u001b[1;33m\u001b[0m\u001b[0m\n\u001b[0m\u001b[0;32m      3\u001b[0m \u001b[1;33m\u001b[0m\u001b[0m\n\u001b[0;32m      4\u001b[0m \u001b[0mneigh2\u001b[0m \u001b[1;33m=\u001b[0m \u001b[0mKNeighborsClassifier\u001b[0m\u001b[1;33m(\u001b[0m\u001b[0mn_neighbors\u001b[0m\u001b[1;33m=\u001b[0m\u001b[1;36m5\u001b[0m\u001b[1;33m,\u001b[0m \u001b[0mmetric\u001b[0m\u001b[1;33m=\u001b[0m\u001b[1;34m'mahalanobis'\u001b[0m\u001b[1;33m,\u001b[0m \u001b[0mmetric_params\u001b[0m\u001b[1;33m=\u001b[0m\u001b[1;33m{\u001b[0m\u001b[1;34m'VI'\u001b[0m\u001b[1;33m:\u001b[0m\u001b[0mlmnn\u001b[0m\u001b[1;33m.\u001b[0m\u001b[0mL\u001b[0m\u001b[1;33m}\u001b[0m\u001b[1;33m)\u001b[0m\u001b[1;33m\u001b[0m\u001b[0m\n\u001b[0;32m      5\u001b[0m \u001b[1;33m\u001b[0m\u001b[0m\n",
      "\u001b[1;32m/home/sveco/anaconda3/lib/python3.5/site-packages/metric_learn/lmnn.py\u001b[0m in \u001b[0;36mfit\u001b[1;34m(self, X, labels, verbose)\u001b[0m\n\u001b[0;32m    121\u001b[0m \u001b[1;33m\u001b[0m\u001b[0m\n\u001b[0;32m    122\u001b[0m         \u001b[0mdf\u001b[0m \u001b[1;33m-=\u001b[0m \u001b[0m_sum_outer_products\u001b[0m\u001b[1;33m(\u001b[0m\u001b[0mself\u001b[0m\u001b[1;33m.\u001b[0m\u001b[0mX\u001b[0m\u001b[1;33m,\u001b[0m \u001b[0min_imp\u001b[0m\u001b[1;33m[\u001b[0m\u001b[0mplus1\u001b[0m\u001b[1;33m]\u001b[0m\u001b[1;33m,\u001b[0m \u001b[0mout_imp\u001b[0m\u001b[1;33m[\u001b[0m\u001b[0mplus1\u001b[0m\u001b[1;33m]\u001b[0m\u001b[1;33m)\u001b[0m\u001b[1;33m\u001b[0m\u001b[0m\n\u001b[1;32m--> 123\u001b[1;33m         \u001b[0mdf\u001b[0m \u001b[1;33m-=\u001b[0m \u001b[0m_sum_outer_products\u001b[0m\u001b[1;33m(\u001b[0m\u001b[0mself\u001b[0m\u001b[1;33m.\u001b[0m\u001b[0mX\u001b[0m\u001b[1;33m,\u001b[0m \u001b[0min_imp\u001b[0m\u001b[1;33m[\u001b[0m\u001b[0mplus2\u001b[0m\u001b[1;33m]\u001b[0m\u001b[1;33m,\u001b[0m \u001b[0mout_imp\u001b[0m\u001b[1;33m[\u001b[0m\u001b[0mplus2\u001b[0m\u001b[1;33m]\u001b[0m\u001b[1;33m)\u001b[0m\u001b[1;33m\u001b[0m\u001b[0m\n\u001b[0m\u001b[0;32m    124\u001b[0m \u001b[1;33m\u001b[0m\u001b[0m\n\u001b[0;32m    125\u001b[0m         \u001b[0ma1\u001b[0m\u001b[1;33m[\u001b[0m\u001b[0mnn_idx\u001b[0m\u001b[1;33m]\u001b[0m \u001b[1;33m=\u001b[0m \u001b[0mact1\u001b[0m\u001b[1;33m\u001b[0m\u001b[0m\n",
      "\u001b[1;32m/home/sveco/anaconda3/lib/python3.5/site-packages/metric_learn/lmnn.py\u001b[0m in \u001b[0;36m_sum_outer_products\u001b[1;34m(data, a_inds, b_inds, weights)\u001b[0m\n\u001b[0;32m    227\u001b[0m   \u001b[1;32mif\u001b[0m \u001b[0mweights\u001b[0m \u001b[1;32mis\u001b[0m \u001b[1;32mnot\u001b[0m \u001b[1;32mNone\u001b[0m\u001b[1;33m:\u001b[0m\u001b[1;33m\u001b[0m\u001b[0m\n\u001b[0;32m    228\u001b[0m     \u001b[1;32mreturn\u001b[0m \u001b[0mnp\u001b[0m\u001b[1;33m.\u001b[0m\u001b[0mdot\u001b[0m\u001b[1;33m(\u001b[0m\u001b[0mXab\u001b[0m\u001b[1;33m.\u001b[0m\u001b[0mT\u001b[0m\u001b[1;33m,\u001b[0m \u001b[0mXab\u001b[0m \u001b[1;33m*\u001b[0m \u001b[0mweights\u001b[0m\u001b[1;33m[\u001b[0m\u001b[1;33m:\u001b[0m\u001b[1;33m,\u001b[0m\u001b[1;32mNone\u001b[0m\u001b[1;33m]\u001b[0m\u001b[1;33m)\u001b[0m\u001b[1;33m\u001b[0m\u001b[0m\n\u001b[1;32m--> 229\u001b[1;33m   \u001b[1;32mreturn\u001b[0m \u001b[0mnp\u001b[0m\u001b[1;33m.\u001b[0m\u001b[0mdot\u001b[0m\u001b[1;33m(\u001b[0m\u001b[0mXab\u001b[0m\u001b[1;33m.\u001b[0m\u001b[0mT\u001b[0m\u001b[1;33m,\u001b[0m \u001b[0mXab\u001b[0m\u001b[1;33m)\u001b[0m\u001b[1;33m\u001b[0m\u001b[0m\n\u001b[0m\u001b[0;32m    230\u001b[0m \u001b[1;33m\u001b[0m\u001b[0m\n\u001b[0;32m    231\u001b[0m \u001b[1;33m\u001b[0m\u001b[0m\n",
      "\u001b[1;31mKeyboardInterrupt\u001b[0m: "
     ]
    }
   ],
   "source": [
    "lmnn = LMNN(k=20, learn_rate=1e-6)\n",
    "lmnn.fit(np.array([x.reshape(64) for x in digits.images]), digits.target, verbose=False)\n",
    "\n",
    "neigh2 = KNeighborsClassifier(n_neighbors=5, metric='mahalanobis', metric_params={'VI':lmnn.L})\n",
    "\n",
    "scores = cross_validation.cross_val_score(neigh2, [x.reshape(64) for x in digits.images], digits.target, cv=10)\n",
    "print(\"Accuracy: %0.4f (+/- %0.2f)\" % (scores.mean(), scores.std() * 2))\n",
    "print(scores)"
   ]
  }
 ],
 "metadata": {
  "kernelspec": {
   "display_name": "Python 3",
   "language": "python",
   "name": "python3"
  },
  "language_info": {
   "codemirror_mode": {
    "name": "ipython",
    "version": 3
   },
   "file_extension": ".py",
   "mimetype": "text/x-python",
   "name": "python",
   "nbconvert_exporter": "python",
   "pygments_lexer": "ipython3",
   "version": "3.5.1"
  }
 },
 "nbformat": 4,
 "nbformat_minor": 0
}
