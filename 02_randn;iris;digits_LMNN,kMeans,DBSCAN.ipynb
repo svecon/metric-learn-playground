{
 "cells": [
  {
   "cell_type": "code",
   "execution_count": null,
   "metadata": {
    "collapsed": false
   },
   "outputs": [],
   "source": [
    "import csv\n",
    "import random\n",
    "import numpy as np\n",
    "import scipy.linalg as la\n",
    "import matplotlib.pyplot as plt\n",
    "\n",
    "from sklearn import metrics\n",
    "from metric_learn import LMNN\n",
    "from metric_learn import NCA\n",
    "from sklearn.datasets import load_iris\n",
    "from sklearn.cluster import KMeans\n",
    "from sklearn.cluster import DBSCAN\n",
    "\n",
    "# 3D scatter plot\n",
    "import pylab\n",
    "from mpl_toolkits.mplot3d import Axes3D\n",
    "\n",
    "%matplotlib inline  "
   ]
  },
  {
   "cell_type": "code",
   "execution_count": null,
   "metadata": {
    "collapsed": false
   },
   "outputs": [],
   "source": [
    "def confusionMatrixFromRandomClusters(truth, prediction):\n",
    "    if len(truth) != len(prediction):\n",
    "        raise ValueError(\"Truth labels and prediction labels must have same length\")\n",
    "    \n",
    "    truthLength = len(set(truth))\n",
    "    predictionLength = len(set(prediction))\n",
    "    \n",
    "    M = np.zeros(shape=(truthLength,predictionLength))\n",
    "    for i in range(len(truth)):\n",
    "        M[truth[i]][prediction[i]] += 1\n",
    "    \n",
    "    # rename (reorder) clusters so that it matches predictions (heuristic: sort by largest )\n",
    "    perm = np.argmax(M, axis=1)\n",
    "    permAll = list(range(predictionLength))\n",
    "    result = [i for i in permAll if not i in set(perm) ]\n",
    "    permOrdered = np.concatenate((perm, result)).astype(int)\n",
    "    \n",
    "    # return matrix with clusters ordered/renamed\n",
    "    return (M[:, permOrdered], renameLabels(prediction, permOrdered))\n",
    "\n",
    "def renameLabels(labels, permutation):\n",
    "    ordering = np.argsort(permutation)\n",
    "    # negative prediction can be returned by DBSCAN\n",
    "    return [x if x < 0 else ordering[x] for x in labels]\n",
    "\n",
    "def sizesFunction(x, truth, numberOfClusters):\n",
    "    if x == truth:\n",
    "        return 50 # correct cluster/label\n",
    "    elif 0 <= x <= numberOfClusters:\n",
    "        return 200 # incorrect cluster/label\n",
    "    else:\n",
    "        return 100 # new cluster\n",
    "\n",
    "def sizesForMislabeledData(data, truth, numberOfClusters = -1):\n",
    "    if numberOfClusters == -1:\n",
    "        numberOfClusters = max(truth)\n",
    "    return [sizesFunction(x,t,numberOfClusters) for x,t in zip(data, truth)]\n",
    "\n",
    "def edgesForMislabeledData(data, truth):\n",
    "    return ['black' if x==t else 'red' for x,t in zip(data, truth)]\n"
   ]
  },
  {
   "cell_type": "code",
   "execution_count": null,
   "metadata": {
    "collapsed": true
   },
   "outputs": [],
   "source": [
    "def MahalanobisDist(x, y):\n",
    "    covariance_xy = np.cov(x,y, rowvar=0)\n",
    "    inv_covariance_xy = np.linalg.inv(covariance_xy)\n",
    "    xy_mean = np.mean(x),np.mean(y)\n",
    "    x_diff = np.array([x_i - xy_mean[0] for x_i in x])\n",
    "    y_diff = np.array([y_i - xy_mean[1] for y_i in y])\n",
    "    diff_xy = np.transpose([x_diff, y_diff])\n",
    "    print(diff_xy)\n",
    "    \n",
    "    md = []\n",
    "    for i in range(len(diff_xy)):\n",
    "        md.append(np.sqrt(np.dot(np.dot(np.transpose(diff_xy[i]),inv_covariance_xy),diff_xy[i])))\n",
    "    return md"
   ]
  },
  {
   "cell_type": "code",
   "execution_count": null,
   "metadata": {
    "collapsed": false
   },
   "outputs": [],
   "source": [
    "def randnClusters(M):\n",
    "    ret = []\n",
    "    for cluster in M:\n",
    "        N = cluster[0]\n",
    "        dim = len(cluster)-1\n",
    "        data = np.random.randn(N, dim)\n",
    "        \n",
    "        for d in range(dim):\n",
    "            data[:,d] = cluster[1+d][0] * data[:,d] + cluster[1+d][1]\n",
    "        \n",
    "        if len(ret) == 0:\n",
    "            ret = data\n",
    "        else:\n",
    "            ret = np.vstack([ret, data])\n",
    "            \n",
    "    return ret "
   ]
  },
  {
   "cell_type": "code",
   "execution_count": null,
   "metadata": {
    "collapsed": false
   },
   "outputs": [],
   "source": [
    "pars = [\n",
    "    [50, (10,50), (20,10)],\n",
    "    [50, (10,-5), (2,-10)],\n",
    "    [50, (10,-5), (2,10)],\n",
    "]\n",
    "\n",
    "genClusters = randnClusters(pars)\n",
    "x,y = genClusters[:,0],genClusters[:,1]\n",
    "plt.scatter(x,y, color=((['r']*50)+(['b']*50)+(['g']*50)))\n",
    "\n",
    "covariance_xy = np.cov(x,y, rowvar=0)\n",
    "A = np.linalg.inv(covariance_xy)\n",
    "A12 = la.sqrtm(A)\n",
    "\n",
    "#scaled = ([ np.dot(A12, i) for i in genClusters ])\n",
    "scaled = np.transpose(np.dot(A12, np.transpose(genClusters)))\n",
    "\n",
    "#    3 5 7\n",
    "#    4 6 8\n",
    "#1 2\n",
    "#3 4\n",
    "\n",
    "plt.scatter(scaled[:,0], scaled[:,1], color='brown')\n",
    "plt.show()"
   ]
  },
  {
   "cell_type": "code",
   "execution_count": null,
   "metadata": {
    "collapsed": false
   },
   "outputs": [],
   "source": [
    "target = ([0]*50)+([1]*50)+([2]*50)\n",
    "\n",
    "lmnn = LMNN(k=10, verbose=False)\n",
    "lmnn.fit(genClusters, target)"
   ]
  },
  {
   "cell_type": "code",
   "execution_count": null,
   "metadata": {
    "collapsed": false
   },
   "outputs": [],
   "source": [
    "tra = lmnn.transform(genClusters)\n",
    "\n",
    "#L12 = la.sqrtm(lmnn.L)\n",
    "#scaled = ([ np.dot(A12, i) for i in genClusters ])\n",
    "#tra = np.transpose(np.dot(L12, np.transpose(genClusters)))\n",
    "print(lmnn.L)\n",
    "\n",
    "plt.scatter(tra[:,0], tra[:,1], color=((['r']*50)+(['b']*50)+(['g']*50)))"
   ]
  },
  {
   "cell_type": "code",
   "execution_count": null,
   "metadata": {
    "collapsed": false
   },
   "outputs": [],
   "source": [
    "iris_data = load_iris()\n",
    "X = iris_data['data']\n",
    "Y = iris_data['target']\n",
    "\n",
    "#print(X,Y)\n",
    "\n",
    "Ycolors = [ \"r\" if x==0 else \"g\" if x==1 else \"b\" for x in Y]\n",
    "\n",
    "plt.scatter(X[:,3],X[:,2],color=Ycolors)\n",
    "\n",
    "lmnn = LMNN(k=20, learn_rate=1e-6, verbose=True)\n",
    "nca = NCA()\n",
    "lmnn.fit(X, Y)\n",
    "nca.fit(X, Y)\n",
    "print(lmnn.L)\n",
    "print(lmnn.metric())\n",
    "print(nca.metric())"
   ]
  },
  {
   "cell_type": "code",
   "execution_count": null,
   "metadata": {
    "collapsed": false,
    "scrolled": true
   },
   "outputs": [],
   "source": [
    "Xt = lmnn.transform(X)\n",
    "\n",
    "plt.scatter(Xt[:,3],Xt[:,2],color=Ycolors)\n",
    "plt.show()"
   ]
  },
  {
   "cell_type": "code",
   "execution_count": null,
   "metadata": {
    "collapsed": false
   },
   "outputs": [],
   "source": [
    "Xtnca = nca.transform(X)\n",
    "\n",
    "plt.scatter(Xtnca[:,3],Xtnca[:,2],color=Ycolors)\n",
    "plt.show()"
   ]
  },
  {
   "cell_type": "code",
   "execution_count": null,
   "metadata": {
    "collapsed": false
   },
   "outputs": [],
   "source": [
    "#%matplotlib qt \n",
    "\n",
    "neigh = KMeans(n_clusters=3)\n",
    "neigh.fit(X) \n",
    "\n",
    "contTable, predictedLabels = confusionMatrixFromRandomClusters(Y, neigh.labels_)\n",
    "\n",
    "colors = [\"green\", \"blue\", \"yellow\", \"purple\", \"orange\", \"purple\"]\n",
    "colors = plt.cm.rainbow(np.linspace(0, 1, 7))\n",
    "colors = [(31, 119, 180, alpha), (255, 127, 14, alpha), (70, 171, 70, alpha), (214, 39, 40, alpha), (148, 103, 189, alpha),\n",
    "          (140, 86, 75, alpha), (227, 119, 194, alpha), (127, 127, 127, alpha), (188, 189, 34, alpha), (23, 190, 207, alpha)]\n",
    "colors = [(254, 232, 37, alpha), (39, 148, 140, alpha), (119, 63, 72, alpha)]\n",
    "colors = [[y/255.0 for y in x] for x in colors]\n",
    "YpredColors = [ colors[x] for x in predictedLabels]\n",
    "YpredColors = [ x[0] if x[1]==x[2] else colors[x[1]] for x in zip(YpredColors, Y, predictedLabels)]\n",
    "\n",
    "# ax = Axes3D(pylab.figure())\n",
    "# ax.scatter(X[:,0],X[:,2],X[:,3],s=sizesForMislabeledData(predictedLabels, Y),c=YpredColors,edgecolor=edgesForMislabeledData(predictedLabels, Y))\n",
    "plt.scatter(X[:,0],X[:,2],s=sizesForMislabeledData(predictedLabels, Y),c=YpredColors, edgecolor=edgesForMislabeledData(predictedLabels, Y))\n",
    "# plt.savefig(\"foo.pdf\", bbox_inches='tight')\n",
    "\n",
    "score = metrics.adjusted_rand_score(Y, neigh.labels_)\n",
    "print(score)\n",
    "print(contTable)"
   ]
  },
  {
   "cell_type": "code",
   "execution_count": null,
   "metadata": {
    "collapsed": false,
    "scrolled": true
   },
   "outputs": [],
   "source": [
    "neigh = KMeans(n_clusters=3)\n",
    "neigh.fit(Xt) \n",
    "\n",
    "contTable, predictedLabels = confusionMatrixFromRandomClusters(Y, neigh.labels_)\n",
    "\n",
    "alpha=200\n",
    "colors = [(31, 119, 180, alpha), (255, 127, 14, alpha), (70, 171, 70, alpha), (214, 39, 40, alpha), (148, 103, 189, alpha),\n",
    "          (140, 86, 75, alpha), (227, 119, 194, alpha), (127, 127, 127, alpha), (188, 189, 34, alpha), (23, 190, 207, alpha)]\n",
    "colors = [(254, 232, 37, alpha), (39, 148, 140, alpha), (119, 63, 72, alpha)]\n",
    "colors = [[y/255.0 for y in x] for x in colors]\n",
    "YpredColors = [ colors[x] for x in predictedLabels]\n",
    "YpredColors = [ x[0] if x[1]==x[2] else colors[x[1]] for x in zip(YpredColors, Y, predictedLabels)]\n",
    "\n",
    "# ax = Axes3D(pylab.figure())\n",
    "# ax.scatter(Xt[:,0],Xt[:,2],Xt[:,3],s=sizesForMislabeledData(predictedLabels, Y),c=YpredColors)\n",
    "plt.scatter(Xt[:,0],Xt[:,2],s=sizesForMislabeledData(predictedLabels, Y),c=YpredColors, edgecolor=edgesForMislabeledData(predictedLabels, Y))\n",
    "\n",
    "score = metrics.adjusted_rand_score(Y, neigh.labels_)\n",
    "print(score)\n",
    "print(contTable)"
   ]
  },
  {
   "cell_type": "code",
   "execution_count": null,
   "metadata": {
    "collapsed": false
   },
   "outputs": [],
   "source": [
    "neigh = KMeans(n_clusters=3)\n",
    "neigh.fit(Xtnca) \n",
    "\n",
    "contTable, predictedLabels = confusionMatrixFromRandomClusters(Y, neigh.labels_)\n",
    "\n",
    "colors = [\"green\", \"blue\", \"yellow\", \"purple\", \"pink\"]\n",
    "YpredColors = [ colors[x] for x in predictedLabels]\n",
    "YpredColors = [ x[0] if x[1]==x[2] else \"r\" for x in zip(YpredColors, Y, predictedLabels)]\n",
    "\n",
    "ax = Axes3D(pylab.figure())\n",
    "ax.scatter(Xtnca[:,1],Xtnca[:,2],Xtnca[:,3],s=sizesForMislabeledData(predictedLabels, Y),c=YpredColors)\n",
    "\n",
    "score = metrics.adjusted_rand_score(Y, neigh.labels_)\n",
    "print(score)\n",
    "print(contTable)"
   ]
  },
  {
   "cell_type": "code",
   "execution_count": null,
   "metadata": {
    "collapsed": false
   },
   "outputs": [],
   "source": [
    "neigh = DBSCAN(eps=0.4, min_samples=4)\n",
    "neigh.fit(X) \n",
    "\n",
    "contTable, predictedLabels = confusionMatrixFromRandomClusters(Y, neigh.labels_)\n",
    "\n",
    "ax = Axes3D(pylab.figure())\n",
    "ax.scatter(X[:,1],X[:,2],X[:,3],s=sizesForMislabeledData(predictedLabels, Y),c=predictedLabels)\n",
    "\n",
    "score = metrics.adjusted_rand_score(Y, neigh.labels_)\n",
    "print(score)\n",
    "print(contTable)"
   ]
  },
  {
   "cell_type": "code",
   "execution_count": null,
   "metadata": {
    "collapsed": false
   },
   "outputs": [],
   "source": [
    "neigh = DBSCAN(eps=0.55, min_samples=4)\n",
    "neigh.fit(Xt) \n",
    "\n",
    "contTable, predictedLabels = confusionMatrixFromRandomClusters(Y, neigh.labels_)\n",
    "\n",
    "ax = Axes3D(pylab.figure())\n",
    "ax.scatter(Xt[:,1],Xt[:,2],Xt[:,3],s=sizesForMislabeledData(predictedLabels, Y),c=neigh.labels_)\n",
    "\n",
    "score = metrics.adjusted_rand_score(Y, neigh.labels_)\n",
    "print(score)\n",
    "print(contTable)"
   ]
  },
  {
   "cell_type": "code",
   "execution_count": null,
   "metadata": {
    "collapsed": false
   },
   "outputs": [],
   "source": [
    "import warnings\n",
    "warnings.filterwarnings('ignore')\n",
    "\n",
    "neigh = DBSCAN(eps=0.55, min_samples=4, metric=lambda X,Y:metrics.pairwise.pairwise_distances(X,Y,metric='mahalanobis',VI=lmnn.metric()))\n",
    "neigh.fit(X)\n",
    "\n",
    "contTable, predictedLabels = confusionMatrixFromRandomClusters(Y, neigh.labels_)\n",
    "\n",
    "ax = Axes3D(pylab.figure())\n",
    "ax.scatter(X[:,1],X[:,2],X[:,3],s=sizesForMislabeledData(predictedLabels, Y),c=neigh.labels_)\n",
    "\n",
    "score = metrics.adjusted_rand_score(Y, neigh.labels_)\n",
    "print(score)\n",
    "print(contTable)"
   ]
  },
  {
   "cell_type": "code",
   "execution_count": null,
   "metadata": {
    "collapsed": false
   },
   "outputs": [],
   "source": [
    "import warnings\n",
    "warnings.filterwarnings('ignore')\n",
    "\n",
    "neigh = DBSCAN(eps=0.55, min_samples=4)\n",
    "neigh.fit(Xtnca)\n",
    "\n",
    "contTable, predictedLabels = confusionMatrixFromRandomClusters(Y, neigh.labels_)\n",
    "\n",
    "ax = Axes3D(pylab.figure())\n",
    "ax.scatter(Xtnca[:,1],Xtnca[:,2],Xtnca[:,3],s=sizesForMislabeledData(predictedLabels, Y),c=neigh.labels_)\n",
    "\n",
    "score = metrics.adjusted_rand_score(Y, neigh.labels_)\n",
    "print(score)\n",
    "print(contTable)"
   ]
  },
  {
   "cell_type": "code",
   "execution_count": null,
   "metadata": {
    "collapsed": true
   },
   "outputs": [],
   "source": []
  }
 ],
 "metadata": {
  "kernelspec": {
   "display_name": "Python 3",
   "language": "python",
   "name": "python3"
  },
  "language_info": {
   "codemirror_mode": {
    "name": "ipython",
    "version": 3
   },
   "file_extension": ".py",
   "mimetype": "text/x-python",
   "name": "python",
   "nbconvert_exporter": "python",
   "pygments_lexer": "ipython3",
   "version": "3.5.2"
  }
 },
 "nbformat": 4,
 "nbformat_minor": 0
}
