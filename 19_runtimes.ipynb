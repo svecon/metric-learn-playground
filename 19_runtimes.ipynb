{
 "cells": [
  {
   "cell_type": "markdown",
   "metadata": {},
   "source": [
    "Runtimes\n",
    "========"
   ]
  },
  {
   "cell_type": "code",
   "execution_count": null,
   "metadata": {
    "collapsed": false
   },
   "outputs": [],
   "source": [
    "import numpy as np\n",
    "import pandas as pd\n",
    "import glob, os, os.path, sys, warnings, math, time, re\n",
    "\n",
    "%matplotlib inline\n",
    "import matplotlib.pyplot as plt\n",
    "from plotting.plots import *\n",
    "\n",
    "from sklearn.model_selection import train_test_split\n",
    "from sklearn.neighbors import KNeighborsClassifier\n",
    "from sklearn.pipeline import Pipeline\n",
    "from sklearn.preprocessing import Imputer, StandardScaler, LabelEncoder\n",
    "from sklearn.decomposition import PCA\n",
    "from sklearn.manifold import TSNE\n",
    "\n",
    "from techniques import sortedTechniques\n",
    "from metric_learn import LMNN, NCA, LFDA, Covariance, MetricEvolution, NeuralNetworkTransformer, FullMatrixTransformer, DiagonalMatrixTransformer\n",
    "from metric_learn import ITML_Supervised, SDML_Supervised, LSML_Supervised, RCA_Supervised\n",
    "\n",
    "\n",
    "datasetsDirectory = 'datasets'\n",
    "resultsDirectory = 'results/runtimes'\n",
    "\n",
    "if not os.path.exists(resultsDirectory):\n",
    "    os.makedirs(resultsDirectory)\n",
    "\n",
    "# np.set_printoptions(precision=7, suppress=True, threshold=np.nan)\n",
    "np.set_printoptions(formatter={'float': lambda x: \"{0:0.5f}\".format(x)})\n",
    "\n",
    "import pickle\n",
    "def save_obj(obj, name):\n",
    "    with open('{}/{}.pkl'.format(resultsDirectory, name), 'wb') as f:\n",
    "        pickle.dump(obj, f, pickle.HIGHEST_PROTOCOL)\n",
    "\n",
    "def load_obj(name):\n",
    "    with open('{}/{}.pkl'.format(resultsDirectory, name), 'rb') as f:\n",
    "        return pickle.load(f)\n",
    "    \n",
    "def exists_obj(name):\n",
    "    return os.path.exists('{}/{}.pkl'.format(resultsDirectory, name))"
   ]
  },
  {
   "cell_type": "code",
   "execution_count": null,
   "metadata": {
    "collapsed": false,
    "scrolled": true
   },
   "outputs": [],
   "source": [
    "import glob, os\n",
    "\n",
    "datasets = []\n",
    "for file in glob.glob(\"{}/*.csv\".format(datasetsDirectory)):\n",
    "    datasets.append(file)\n",
    "datasets.sort()\n",
    "\n",
    "# datasets.remove('datasets/gaussians.csv')\n",
    "# datasets.remove('datasets/ionosphere.csv')\n",
    "# datasets.remove('datasets/mice-protein.csv')\n",
    "# datasets.remove('datasets/sonar.csv')\n",
    "# datasets.remove('datasets/soybean-large.csv')\n",
    "\n",
    "for x in datasets:\n",
    "    X = pd.read_csv(x, sep=',', skiprows=1, header=0)\n",
    "    print(x, X.shape, X['class'].nunique())"
   ]
  },
  {
   "cell_type": "code",
   "execution_count": null,
   "metadata": {
    "collapsed": false
   },
   "outputs": [],
   "source": [
    "common_ea_params = {\n",
    "    's__stats': None,\n",
    "    's__n_gen': 200,\n",
    "    'transformer': 'full',\n",
    "}\n",
    "\n",
    "bestAlgorithms = [\n",
    "    (['full'], 'stand+Cov+kNN', Covariance()),\n",
    "    (['full'], 'stand+LMNN+kNN', LMNN(k=4, regularization=0.9, learn_rate=1e-8, max_iter=200)),\n",
    "    (['full'], 'stand+NCA+kNN', NCA(max_iter=200, learning_rate=0.01)),\n",
    "    (['full'], 'stand+LFDA+kNN', LFDA(k=3, num_dims=None)),\n",
    "    \n",
    "    (['full', 'diagonal'], 'stand+CMAES+kNN', MetricEvolution(**common_ea_params, strategy='cmaes', fitnesses=[('knn', {'n_neighbors':8})])),\n",
    "    (['full', 'diagonal'], 'stand+CMAESFme+kNN', MetricEvolution(**common_ea_params, strategy='cmaes', fitnesses='wfme')),\n",
    "    \n",
    "#     (['full', 'diagonal'], 'stand+JDE+kNN', MetricEvolution(**common_ea_params, strategy='jde', fitnesses='wfme')),\n",
    "#     (['full', 'diagonal'], 'stand+JDEkNN+kNN', MetricEvolution(**common_ea_params, strategy='jde', fitnesses=[('knn', {'n_neighbors':8})])),\n",
    "]"
   ]
  },
  {
   "cell_type": "code",
   "execution_count": null,
   "metadata": {
    "collapsed": false
   },
   "outputs": [],
   "source": [
    "for _ in range(10):\n",
    "    for filename in datasets:\n",
    "        data = pd.read_csv(filename, sep=',', skiprows=1, header=0)\n",
    "\n",
    "        y = data['class']\n",
    "        X = data.drop(['class'], axis=1).values\n",
    "\n",
    "        le = LabelEncoder()\n",
    "        y = le.fit_transform(y)\n",
    "\n",
    "        X_train, X_test, y_train, y_test = train_test_split(X, y, test_size=0.33)\n",
    "\n",
    "        imputer = Imputer(missing_values='NaN', strategy='mean', axis=0, verbose=0, copy=False)\n",
    "        X_train = imputer.fit_transform(X_train)\n",
    "        X_test = imputer.transform(X_test)\n",
    "\n",
    "        standard = StandardScaler()\n",
    "        X_train = standard.fit_transform(X_train)\n",
    "        X_test = standard.transform(X_test)\n",
    "\n",
    "        for transformers, methodName, method in bestAlgorithms:\n",
    "            for transformer in transformers:\n",
    "                if transformer=='full' and filename in ['datasets\\\\digits10.csv', 'datasets\\\\digits6.csv', 'datasets\\\\mice-protein.csv', 'datasets\\\\sonar.csv']:\n",
    "                    continue\n",
    "                \n",
    "                datasetName = filename[len(datasetsDirectory)+1:-4]\n",
    "\n",
    "                dump_filename = '{}__{}__{}'.format(datasetName, methodName, transformer)\n",
    "                if not exists_obj(dump_filename):\n",
    "                    save_obj([], dump_filename)\n",
    "\n",
    "                prev_runtimes = load_obj(dump_filename)\n",
    "\n",
    "                if len(prev_runtimes)>=1: # MAKE THIS 10 !!!!!!!!!!!!!!!!!!!!!!!!!!!!!!!!!!!!!!!!########$#%$^%*(*&)\n",
    "                    print('skipping {}, already exists'.format(dump_filename))\n",
    "                    continue\n",
    "\n",
    "                print(\"starting {} ({})\".format(dump_filename, X.shape))\n",
    "                print(\"{} runs so far: {}\".format(len(prev_runtimes), prev_runtimes))\n",
    "\n",
    "                try:\n",
    "                    start = time.clock()\n",
    "\n",
    "                    me = method\n",
    "                    if isinstance(me, MetricEvolution): me.params['transformer'] = transformer\n",
    "                    me.fit(X_train, y_train)\n",
    "\n",
    "                    end = time.clock()\n",
    "\n",
    "                    save_obj(prev_runtimes+[end-start], dump_filename)\n",
    "                except:\n",
    "                    print(\"Unexpected error:\", sys.exc_info()[0])"
   ]
  },
  {
   "cell_type": "code",
   "execution_count": null,
   "metadata": {
    "collapsed": false
   },
   "outputs": [],
   "source": []
  },
  {
   "cell_type": "code",
   "execution_count": null,
   "metadata": {
    "collapsed": false
   },
   "outputs": [],
   "source": [
    "# ## RENAMING results for full/diag\n",
    "# results = []\n",
    "# for file in glob.glob(\"{}/*.pkl\".format(resultsDirectory)):\n",
    "#     results.append(file)\n",
    "# results.sort()\n",
    "# results\n",
    "\n",
    "# for x in results:\n",
    "#     os.rename(x, x.replace('.pkl', '__full.pkl'))"
   ]
  }
 ],
 "metadata": {
  "anaconda-cloud": {},
  "kernelspec": {
   "display_name": "Python 3",
   "language": "python",
   "name": "python3"
  },
  "language_info": {
   "codemirror_mode": {
    "name": "ipython",
    "version": 3
   },
   "file_extension": ".py",
   "mimetype": "text/x-python",
   "name": "python",
   "nbconvert_exporter": "python",
   "pygments_lexer": "ipython3",
   "version": "3.5.2"
  }
 },
 "nbformat": 4,
 "nbformat_minor": 0
}
