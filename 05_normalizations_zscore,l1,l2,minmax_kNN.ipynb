{
 "cells": [
  {
   "cell_type": "markdown",
   "metadata": {
    "slideshow": {
     "slide_type": "slide"
    }
   },
   "source": [
    "Feature scaling2\n",
    "===============\n",
    "https://en.wikipedia.org/wiki/Feature_scaling\n",
    "\n",
    "http://sebastianraschka.com/Articles/2014_about_feature_scaling.html\n",
    "\n",
    "http://stats.stackexchange.com/questions/41704/how-and-why-do-normalization-and-feature-scaling-work"
   ]
  },
  {
   "cell_type": "code",
   "execution_count": null,
   "metadata": {
    "collapsed": false,
    "slideshow": {
     "slide_type": "fragment"
    }
   },
   "outputs": [],
   "source": [
    "import csv\n",
    "import numpy as np\n",
    "import scipy.linalg as la\n",
    "import matplotlib.pyplot as plt\n",
    "import pandas as pd\n",
    "\n",
    "from sklearn.cross_validation import train_test_split\n",
    "from sklearn.utils import shuffle\n",
    "from sklearn import metrics\n",
    "from sklearn.metrics import confusion_matrix\n",
    "from sklearn.neighbors import KNeighborsClassifier\n",
    "from sklearn.decomposition import PCA\n",
    "\n",
    "import plotly.offline as py\n",
    "import plotly.graph_objs as go\n",
    "from plotly.offline import download_plotlyjs\n",
    "# download_plotlyjs('https://cdn.plot.ly/plotly-latest.min.js')\n",
    "py.init_notebook_mode()\n",
    "\n",
    "defaultScatterMarker=dict(\n",
    "    size=10,\n",
    "    colorscale='Viridis',\n",
    "    opacity=0.5\n",
    ")\n",
    "\n",
    "# np.set_printoptions(precision=7, suppress=True, threshold=np.nan)\n",
    "np.set_printoptions(formatter={'float': lambda x: \"{0:0.10f}\".format(x)})"
   ]
  },
  {
   "cell_type": "code",
   "execution_count": null,
   "metadata": {
    "collapsed": false,
    "slideshow": {
     "slide_type": "notes"
    }
   },
   "outputs": [],
   "source": [
    "def plotScatter(X, y):\n",
    "    pca = PCA(n_components=2)\n",
    "    pca.fit(X)\n",
    "\n",
    "    print(pca.explained_variance_ratio_)\n",
    "\n",
    "    X_train_pca = pca.transform(X).T\n",
    "    y_train_num = [families.index(x) for x in y]\n",
    "    print(X_train_pca.shape)\n",
    "    \n",
    "    trace1 = go.Scatter(x=X_train_pca[0], y=X_train_pca[1], #z=X_train_pca[2],\n",
    "        text=y, mode='markers', marker={**defaultScatterMarker, 'color':y_train_num}\n",
    "    )\n",
    "\n",
    "    layout = go.Layout(\n",
    "#         margin=dict(l=0, r=0, b=0, t=0),\n",
    "#         width=780,\n",
    "#         height=600,\n",
    "    )\n",
    "    \n",
    "    fig = go.Figure(data=[trace1], layout=layout)\n",
    "    py.iplot(fig)\n",
    "\n",
    "def plotScatter3d(X, y):\n",
    "    pca = PCA(n_components=3)\n",
    "    pca.fit(X)\n",
    "    print(pca.explained_variance_ratio_)\n",
    "\n",
    "    X_train_pca = pca.transform(X).T\n",
    "    y_train_num = [families.index(x) for x in y]\n",
    "    print(X_train_pca.shape)\n",
    "    \n",
    "    trace1 = go.Scatter3d(x=X_train_pca[0], y=X_train_pca[1], z=X_train_pca[2],\n",
    "        text=y, mode='markers', marker={**defaultScatterMarker, 'color':y_train_num}\n",
    "    )\n",
    "    \n",
    "    layout = go.Layout(\n",
    "         margin=dict(l=0, r=0, b=0, t=0),\n",
    "    )\n",
    "\n",
    "    fig = go.Figure(data=[trace1], layout=layout)\n",
    "    py.iplot(fig)"
   ]
  },
  {
   "cell_type": "code",
   "execution_count": null,
   "metadata": {
    "collapsed": true,
    "slideshow": {
     "slide_type": "slide"
    }
   },
   "outputs": [],
   "source": [
    "def evaluateKnn(X_train, y_train, X_test, y_test, k=1):\n",
    "    knn = KNeighborsClassifier(k)\n",
    "    knn.fit(X_train, y_train)\n",
    "    \n",
    "    predicted = knn.predict(X_test)\n",
    "    print( sum(predicted == y_test)/len(y_test)*100, '% success' )\n",
    "    return sum(predicted == y_test)/len(y_test)*100"
   ]
  },
  {
   "cell_type": "code",
   "execution_count": null,
   "metadata": {
    "collapsed": false,
    "slideshow": {
     "slide_type": "slide"
    }
   },
   "outputs": [],
   "source": [
    "import glob, os\n",
    "\n",
    "families = []\n",
    "files = []\n",
    "for file in glob.glob(\"data/sample_families/*.csv\"):\n",
    "    files.append(file)\n",
    "    families.append(file[21:])\n",
    "# files.remove('data/sample_families\\\\cleanpup_plus_prev.csv')\n",
    "print(files)"
   ]
  },
  {
   "cell_type": "code",
   "execution_count": null,
   "metadata": {
    "collapsed": false,
    "slideshow": {
     "slide_type": "slide"
    }
   },
   "outputs": [],
   "source": [
    "data = [ pd.read_csv(x, sep=';') for x in files ]\n",
    "familiesCounts = [x.shape[0] for x in data]\n",
    "df = pd.concat(data)\n",
    "df = df.drop(df.columns[-1], axis=1)\n",
    "\n",
    "#print(df.columns)\n",
    "pd.set_option('display.max_columns', None)\n",
    "print(df.shape)\n",
    "df.describe()\n",
    "\n",
    "targets = np.array([ x for f,c in zip(families, familiesCounts) for x in [f]*c])\n",
    "print(targets.shape)"
   ]
  },
  {
   "cell_type": "code",
   "execution_count": null,
   "metadata": {
    "collapsed": false
   },
   "outputs": [],
   "source": [
    "data = [\n",
    "    go.Histogram(\n",
    "        x=targets\n",
    "    )\n",
    "]\n",
    "py.iplot(data)"
   ]
  },
  {
   "cell_type": "code",
   "execution_count": null,
   "metadata": {
    "collapsed": false,
    "slideshow": {
     "slide_type": "skip"
    }
   },
   "outputs": [],
   "source": [
    "numericHeaders = ['subsys', 'sects', 'res_cnt', 'imp_cnt', 'file_size', 'insns', 'eff_insns', 'code_rank', 'mem_w', 'w_size', 'mem_r'\n",
    "                  , 'r_size', 'exc_cnt', 'api_cnt', 'alc_rat', 'rat_ari', 'rat_stack', 'rat_comp', 'rat_codefl', 'rat_assign', 'rat_str'\n",
    "                  , 'rat_oth', 'rat_fpu', 'rat_reg8', 'rat_reg16', 'rat_reg32', 'rat_mem8', 'rat_mem16', 'rat_mem32', 'rat_imm8', 'rat_imm16'\n",
    "                  , 'rat_imm32', 'cnt_qtst', 'cnt_qmod', 'cnt_dreg']\n",
    "\n",
    "D = len(numericHeaders)\n",
    "df = df.loc[:, numericHeaders]\n",
    "print(df.shape)"
   ]
  },
  {
   "cell_type": "code",
   "execution_count": null,
   "metadata": {
    "collapsed": false,
    "scrolled": true,
    "slideshow": {
     "slide_type": "slide"
    }
   },
   "outputs": [],
   "source": [
    "df.describe()"
   ]
  },
  {
   "cell_type": "markdown",
   "metadata": {
    "slideshow": {
     "slide_type": "slide"
    }
   },
   "source": [
    "Missing values\n",
    "=============="
   ]
  },
  {
   "cell_type": "code",
   "execution_count": null,
   "metadata": {
    "collapsed": false,
    "slideshow": {
     "slide_type": "subslide"
    }
   },
   "outputs": [],
   "source": [
    "df.isnull().sum(axis=0)"
   ]
  },
  {
   "cell_type": "code",
   "execution_count": null,
   "metadata": {
    "collapsed": false,
    "slideshow": {
     "slide_type": "subslide"
    }
   },
   "outputs": [],
   "source": [
    "X_train, X_test, y_train, y_test = train_test_split(df, targets, train_size=0.7, stratify=targets)"
   ]
  },
  {
   "cell_type": "markdown",
   "metadata": {
    "slideshow": {
     "slide_type": "slide"
    }
   },
   "source": [
    "Filling missing values\n",
    "====="
   ]
  },
  {
   "cell_type": "code",
   "execution_count": null,
   "metadata": {
    "collapsed": true,
    "slideshow": {
     "slide_type": "subslide"
    }
   },
   "outputs": [],
   "source": [
    "X_train_filled = X_train.fillna(X_train.max())\n",
    "X_test_filled = X_test.fillna(X_train.max())"
   ]
  },
  {
   "cell_type": "markdown",
   "metadata": {
    "slideshow": {
     "slide_type": "subslide"
    }
   },
   "source": [
    "Original dataset\n",
    "================"
   ]
  },
  {
   "cell_type": "code",
   "execution_count": null,
   "metadata": {
    "collapsed": false,
    "slideshow": {
     "slide_type": "slide"
    }
   },
   "outputs": [],
   "source": [
    "evaluateKnn(X_train_filled, y_train, X_test_filled, y_test, k=1)\n",
    "plotScatter(X_train_filled, y_train)"
   ]
  },
  {
   "cell_type": "markdown",
   "metadata": {
    "slideshow": {
     "slide_type": "slide"
    }
   },
   "source": [
    "Standardization\n",
    "========="
   ]
  },
  {
   "cell_type": "code",
   "execution_count": null,
   "metadata": {
    "collapsed": false,
    "slideshow": {
     "slide_type": "subslide"
    }
   },
   "outputs": [],
   "source": [
    "X_train_znorm = (X_train_filled - X_train_filled.mean()) / X_train_filled.std()\n",
    "X_train_znorm.describe()\n",
    "\n",
    "X_test_znorm = (X_test_filled - X_train_filled.mean()) / X_train_filled.std()"
   ]
  },
  {
   "cell_type": "code",
   "execution_count": null,
   "metadata": {
    "collapsed": false,
    "slideshow": {
     "slide_type": "subslide"
    }
   },
   "outputs": [],
   "source": [
    "evaluateKnn(X_train_znorm, y_train, X_test_znorm, y_test)\n",
    "plotScatter(X_train_znorm, y_train)"
   ]
  },
  {
   "cell_type": "markdown",
   "metadata": {
    "slideshow": {
     "slide_type": "slide"
    }
   },
   "source": [
    "Rescaling\n",
    "========="
   ]
  },
  {
   "cell_type": "code",
   "execution_count": null,
   "metadata": {
    "collapsed": false,
    "slideshow": {
     "slide_type": "slide"
    }
   },
   "outputs": [],
   "source": [
    "X_train_minmax = (X_train_filled - X_train_filled.min()) / (X_train_filled.max() - X_train_filled.min())\n",
    "X_train_minmax.describe()\n",
    "\n",
    "X_test_minmax = (X_test_filled - X_train_filled.min()) / (X_train_filled.max() - X_train_filled.min())"
   ]
  },
  {
   "cell_type": "code",
   "execution_count": null,
   "metadata": {
    "collapsed": false,
    "scrolled": true,
    "slideshow": {
     "slide_type": "slide"
    }
   },
   "outputs": [],
   "source": [
    "evaluateKnn(X_train_minmax, y_train, X_test_minmax, y_test)\n",
    "plotScatter(X_train_minmax, y_train)"
   ]
  },
  {
   "cell_type": "markdown",
   "metadata": {
    "slideshow": {
     "slide_type": "slide"
    }
   },
   "source": [
    "Scaling to unit length: L1 norm\n",
    "====="
   ]
  },
  {
   "cell_type": "code",
   "execution_count": null,
   "metadata": {
    "collapsed": false,
    "slideshow": {
     "slide_type": "slide"
    }
   },
   "outputs": [],
   "source": [
    "X_train_l1norm = X_train_filled.div(X_train_filled.abs().sum(axis=1), axis=0)\n",
    "# print(X_train_l1norm.iloc[0, :])\n",
    "X_train_l1norm.describe()\n",
    "\n",
    "X_test_l1norm = X_test_filled.div(X_test_filled.abs().sum(axis=1), axis=0)"
   ]
  },
  {
   "cell_type": "code",
   "execution_count": null,
   "metadata": {
    "collapsed": false,
    "slideshow": {
     "slide_type": "slide"
    }
   },
   "outputs": [],
   "source": [
    "evaluateKnn(X_train_l1norm, y_train, X_test_l1norm, y_test)\n",
    "plotScatter(X_train_l1norm, y_train)"
   ]
  },
  {
   "cell_type": "markdown",
   "metadata": {
    "collapsed": true,
    "slideshow": {
     "slide_type": "slide"
    }
   },
   "source": [
    "Scaling to unit length: L2 norm\n",
    "====="
   ]
  },
  {
   "cell_type": "code",
   "execution_count": null,
   "metadata": {
    "collapsed": false,
    "slideshow": {
     "slide_type": "subslide"
    }
   },
   "outputs": [],
   "source": [
    "from sklearn import preprocessing\n",
    "X_train_l2norm = X_train_znorm.div(np.sqrt(np.square(X_train_znorm).sum(axis=1)), axis=0)\n",
    "# print(X_train_l1norm.iloc[0, :])\n",
    "X_train_l2norm.describe()\n",
    "\n",
    "X_test_l2norm = X_test_znorm.div(np.sqrt(np.square(X_test_znorm).sum(axis=1)), axis=0)"
   ]
  },
  {
   "cell_type": "code",
   "execution_count": null,
   "metadata": {
    "collapsed": false,
    "slideshow": {
     "slide_type": "subslide"
    }
   },
   "outputs": [],
   "source": [
    "evaluateKnn(X_train_l2norm, y_train, X_test_l2norm, y_test)\n",
    "plotScatter(X_train_l2norm, y_train)"
   ]
  },
  {
   "cell_type": "code",
   "execution_count": null,
   "metadata": {
    "collapsed": false
   },
   "outputs": [],
   "source": [
    "# results = []\n",
    "# for k in range(1,50):\n",
    "#     results.append( evaluateKnn(X_train_l2norm, y_train, X_test_l2norm, y_test, k=k) )"
   ]
  },
  {
   "cell_type": "code",
   "execution_count": null,
   "metadata": {
    "collapsed": false
   },
   "outputs": [],
   "source": [
    "results = [99.597837676062923, 99.405173865060519, 99.40143282018667, 99.277978339350184, 99.22560371111652, 99.171358560445938, 99.13394811170761, 99.055386169357106, 98.96186004751128, 98.926320121209855, 98.881427582723859, 98.860851835917771, 98.817829819868692, 98.7186921307121, 98.709339518527528, 98.670058547352284, 98.593367127438697, 98.52976936458353, 98.51667570752511, 98.462430556854528, 98.417538018368532, 98.400703316436278, 98.395091749125527, 98.36329286769795, 98.236097341987616, 98.232356297113782, 98.155664877200195, 98.168758534258615, 98.168758534258615, 98.155664877200195, 98.138830175267955, 98.11638390602495, 98.086455547034291, 98.084585024597374, 98.069620845102037, 98.058397710480534, 98.058397710480534, 98.047174575859046, 97.983576813003864, 97.957389498887039, 97.934943229644048, 97.903144348216458, 97.875086511662715, 97.86573389947813, 97.85264024241971, 97.830193973176705, 97.794654046875294, 97.747890985952381, 97.645012251921955]"
   ]
  },
  {
   "cell_type": "code",
   "execution_count": null,
   "metadata": {
    "collapsed": false
   },
   "outputs": [],
   "source": [
    "py.iplot([go.Scatter(\n",
    "    x = list(range(1,50)),\n",
    "    y = results,\n",
    "    mode = 'lines+markers',\n",
    "    name = 'kNN classifier'\n",
    ")])"
   ]
  },
  {
   "cell_type": "code",
   "execution_count": null,
   "metadata": {
    "collapsed": false
   },
   "outputs": [],
   "source": [
    "from sklearn.ensemble import RandomForestClassifier\n",
    "\n",
    "rf = RandomForestClassifier(n_estimators=1000, criterion='gini', max_depth=None, min_samples_split=2,\n",
    "                            min_samples_leaf=1, min_weight_fraction_leaf=0.0, max_features='auto',\n",
    "                            max_leaf_nodes=None, bootstrap=True, oob_score=False, n_jobs=4, random_state=None,\n",
    "                            verbose=0, warm_start=False, class_weight=weights)\n",
    "rf.fit(X_train_filled, y_train)\n",
    "print(rf.score(X_test_filled, y_test))"
   ]
  },
  {
   "cell_type": "code",
   "execution_count": null,
   "metadata": {
    "collapsed": false
   },
   "outputs": [],
   "source": [
    "print(familiesCounts)\n",
    "print(y_test)\n",
    "\n",
    "weights = {}\n",
    "for l,c in zip(families, familiesCounts):\n",
    "    print(l,c)\n",
    "    weights[l] = c\n",
    "print(weights)"
   ]
  },
  {
   "cell_type": "code",
   "execution_count": null,
   "metadata": {
    "collapsed": false
   },
   "outputs": [],
   "source": [
    "print(confusion_matrix(y_test, rf.predict(X_test_filled)))"
   ]
  }
 ],
 "metadata": {
  "kernelspec": {
   "display_name": "Python 3",
   "language": "python",
   "name": "python3"
  },
  "language_info": {
   "codemirror_mode": {
    "name": "ipython",
    "version": 3
   },
   "file_extension": ".py",
   "mimetype": "text/x-python",
   "name": "python",
   "nbconvert_exporter": "python",
   "pygments_lexer": "ipython3",
   "version": "3.5.2"
  }
 },
 "nbformat": 4,
 "nbformat_minor": 0
}
