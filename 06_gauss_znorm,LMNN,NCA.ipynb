{
 "cells": [
  {
   "cell_type": "markdown",
   "metadata": {},
   "source": [
    "Z-normalization vs Distance Metric Learning\n",
    "======"
   ]
  },
  {
   "cell_type": "code",
   "execution_count": null,
   "metadata": {
    "collapsed": false
   },
   "outputs": [],
   "source": [
    "import csv\n",
    "import numpy as np\n",
    "import scipy.linalg as la\n",
    "import matplotlib.pyplot as plt\n",
    "import pandas as pd\n",
    "\n",
    "from svecon.KNNClassifierPerClass import KNNClassifierPerClass\n",
    "\n",
    "from sklearn.model_selection import train_test_split\n",
    "from sklearn.utils import shuffle\n",
    "from sklearn import metrics\n",
    "from sklearn.metrics import confusion_matrix\n",
    "from sklearn.neighbors import KNeighborsClassifier\n",
    "from sklearn.decomposition import PCA\n",
    "\n",
    "import plotly.offline as py\n",
    "import plotly.graph_objs as go\n",
    "from plotly.offline import download_plotlyjs\n",
    "# download_plotlyjs('https://cdn.plot.ly/plotly-latest.min.js')\n",
    "py.init_notebook_mode()\n",
    "\n",
    "defaultScatterMarker=dict(\n",
    "    size=10,\n",
    "    colorscale='Viridis',\n",
    "    opacity=0.5\n",
    ")\n",
    "\n",
    "# np.set_printoptions(precision=7, suppress=True, threshold=np.nan)\n",
    "np.set_printoptions(threshold=np.nan)\n",
    "np.set_printoptions(formatter={'float': lambda x: \"{0:0.10f}\".format(x)})\n",
    "\n",
    "from metric_learn import LMNN\n",
    "from metric_learn import NCA, LFDA, MetricEvolution, NeuralNetworkTransformer"
   ]
  },
  {
   "cell_type": "code",
   "execution_count": null,
   "metadata": {
    "collapsed": true
   },
   "outputs": [],
   "source": [
    "def evaluateKnn(X_train, y_train, X_test, y_test, k=1):\n",
    "    knn = KNeighborsClassifier(k)\n",
    "    knn.fit(X_train, y_train)\n",
    "    \n",
    "    predicted = knn.predict(X_test)\n",
    "    wrongVec = predicted!=y_test\n",
    "    N = len(y_test)\n",
    "    print('{}% success ({}/{})'.format((1-sum(wrongVec)/N)*100, N-sum(wrongVec), N) )\n",
    "    \n",
    "    print(confusion_matrix(y_test, predicted, labels=range(len(set(y_test)))))\n",
    "    \n",
    "    return wrongVec"
   ]
  },
  {
   "cell_type": "code",
   "execution_count": null,
   "metadata": {
    "collapsed": true
   },
   "outputs": [],
   "source": [
    "def evaluateKnnNormPerClass(X_train, y_train, X_test, y_test, k=1):\n",
    "    knn = KNNClassifierPerClass(k)\n",
    "    knn.fit(X_train, y_train)\n",
    "    \n",
    "    predicted = knn.predict(X_test)\n",
    "    wrongVec = predicted!=y_test\n",
    "    N = len(y_test)\n",
    "    print('{}% success ({}/{})'.format((1-sum(wrongVec)/N)*100, N-sum(wrongVec), N) )\n",
    "    \n",
    "    print(confusion_matrix(y_test, predicted, labels=range(len(set(y_test)))))\n",
    "    \n",
    "    return wrongVec"
   ]
  },
  {
   "cell_type": "code",
   "execution_count": null,
   "metadata": {
    "collapsed": false
   },
   "outputs": [],
   "source": [
    "def plotScatter(X, y, wrong=None):\n",
    "    if wrong is None: wrong=np.array([0]*len(y))\n",
    "    \n",
    "    if X.shape[1]==2:\n",
    "        X_train_pca = X.T\n",
    "    else:\n",
    "        pca = PCA(n_components=2)\n",
    "        pca.fit(X)\n",
    "        X_train_pca = pca.transform(X).T\n",
    "        print('USING PCA')\n",
    "#     print(pca.explained_variance_ratio_)\n",
    "    \n",
    "    assert(X_train_pca.shape[0]==2)\n",
    "    trace1 = go.Scatter(x=X_train_pca[0], y=X_train_pca[1], #z=X_train_pca[2],\n",
    "        text=y+1, mode='markers', marker={**defaultScatterMarker, 'color':y, 'size':wrong*10+10}\n",
    "    )\n",
    "\n",
    "    layout = go.Layout(\n",
    "         margin=dict(l=0, r=0, b=0, t=0),\n",
    "    )\n",
    "    \n",
    "    fig = go.Figure(data=[trace1], layout={})\n",
    "    py.iplot(fig)\n",
    "\n",
    "def plotScatterTT(X, y, X_test, y_test, wrong=None):\n",
    "    trainLen = len(y)\n",
    "    \n",
    "    if wrong is None: wrong=np.zeros(trainLen)\n",
    "    \n",
    "    wrong = np.concatenate((np.zeros(trainLen), wrong))\n",
    "    X = np.vstack((X, X_test))\n",
    "    y = np.concatenate((y, y_test))\n",
    "    \n",
    "#     y[:trainLen] = y[:trainLen]+len(set(y))\n",
    "    \n",
    "    if X.shape[1]==2:\n",
    "        X_train_pca = X.T\n",
    "    else:\n",
    "        pca = PCA(n_components=2)\n",
    "        pca.fit(X)\n",
    "        X_train_pca = pca.transform(X).T\n",
    "        print('USING PCA')\n",
    "#     print(pca.explained_variance_ratio_)\n",
    "\n",
    "    assert(X_train_pca.shape[0]==2)\n",
    "    trace1 = go.Scatter(x=X_train_pca[0], y=X_train_pca[1], #z=X_train_pca[2],\n",
    "        text=y+1, mode='markers', marker={**defaultScatterMarker, 'color':y, 'size':wrong*10+10}\n",
    "    )\n",
    "\n",
    "    minl = np.amin(X_train_pca)\n",
    "    maxl = np.amax(X_train_pca)\n",
    "    minl -= (maxl-minl)/25\n",
    "    maxl += (maxl-minl)/25\n",
    "    \n",
    "    layout = go.Layout(\n",
    "        margin=dict(l=0, r=0, b=0, t=0),\n",
    "#         xaxis=dict(\n",
    "#             range=[minl, maxl]\n",
    "#         ),\n",
    "#         yaxis=dict(\n",
    "#             range=[minl, maxl]\n",
    "#         ),\n",
    "#         width=800,height=800,\n",
    "    )\n",
    "    \n",
    "    fig = go.Figure(data=[trace1], layout=layout)\n",
    "    py.iplot(fig)\n",
    "\n",
    "    \n",
    "def plotScatter3d(X, y, wrong=None):\n",
    "    if wrong is None: wrong=np.array([0]*len(y))\n",
    "    \n",
    "    if(X.shape[1] <= 3):\n",
    "        X_train_pca = X.T\n",
    "    else:\n",
    "        pca = PCA(n_components=3)\n",
    "        pca.fit(X)\n",
    "\n",
    "        print(pca.explained_variance_ratio_)\n",
    "\n",
    "        X_train_pca = pca.transform(X).T\n",
    "        print(X_train_pca.shape)\n",
    "    \n",
    "    trace1 = go.Scatter3d(x=X_train_pca[0], y=X_train_pca[1], z=X_train_pca[2],\n",
    "        text=y+1, mode='markers', marker={**defaultScatterMarker, 'color':y, 'size':wrong*10+10}\n",
    "    )\n",
    "\n",
    "    layout = go.Layout(\n",
    "         margin=dict(l=0, r=0, b=0, t=0),\n",
    "    )\n",
    "    \n",
    "    fig = go.Figure(data=[trace1], layout={})\n",
    "    py.iplot(fig)\n",
    "    \n",
    "def plotScatter3dTT(X, y, X_test, y_test, wrong=None):\n",
    "    trainLen = len(y)\n",
    "    \n",
    "    if wrong is None: wrong=np.zeros(trainLen)\n",
    "    \n",
    "    wrong = np.concatenate((np.zeros(trainLen), wrong))\n",
    "    X = np.vstack((X, X_test))\n",
    "    y = np.concatenate((y, y_test))\n",
    "    \n",
    "    y[:trainLen] = y[:trainLen]+len(set(y))\n",
    "    \n",
    "    if(X.shape[1] <= 3):\n",
    "        X_train_pca = X.T\n",
    "    else:\n",
    "        pca = PCA(n_components=3)\n",
    "        pca.fit(X)\n",
    "\n",
    "        print(pca.explained_variance_ratio_)\n",
    "\n",
    "        X_train_pca = pca.transform(X).T\n",
    "        print(X_train_pca.shape)\n",
    "    \n",
    "    trace1 = go.Scatter3d(x=X_train_pca[0], y=X_train_pca[1], z=X_train_pca[2],\n",
    "        text=y+1, mode='markers', marker={**defaultScatterMarker, 'color':y, 'size':wrong*10+10}\n",
    "    )\n",
    "\n",
    "    layout = go.Layout(\n",
    "         margin=dict(l=0, r=0, b=0, t=0),\n",
    "    )\n",
    "    \n",
    "    fig = go.Figure(data=[trace1], layout={})\n",
    "    py.iplot(fig)"
   ]
  },
  {
   "cell_type": "code",
   "execution_count": null,
   "metadata": {
    "collapsed": false
   },
   "outputs": [],
   "source": [
    "from sklearn.datasets import load_iris\n",
    "\n",
    "iris_data = load_iris()\n",
    "\n",
    "y_iris = iris_data['target']\n",
    "X_iris = pd.DataFrame(data=iris_data['data'], index=range(len(y_iris)), columns=['F1', 'F2', 'F3', 'F4'])\n",
    "\n",
    "X_iris_train, X_iris_test, y_iris_train, y_iris_test = train_test_split(X_iris, y_iris, train_size=0.5, stratify=y_iris)\n",
    "\n",
    "X_iris.describe()"
   ]
  },
  {
   "cell_type": "markdown",
   "metadata": {},
   "source": [
    "Original data\n",
    "======"
   ]
  },
  {
   "cell_type": "code",
   "execution_count": null,
   "metadata": {
    "collapsed": false
   },
   "outputs": [],
   "source": [
    "evaluateKnn(X_iris_train, y_iris_train, X_iris_test, y_iris_test, k=5)\n",
    "evaluateKnnNormPerClass(X_iris_train.values, y_iris_train, X_iris_test.values, y_iris_test, k=5)\n",
    "plotScatter(X_iris_train, y_iris_train)"
   ]
  },
  {
   "cell_type": "markdown",
   "metadata": {},
   "source": [
    "Normalized data\n",
    "======"
   ]
  },
  {
   "cell_type": "code",
   "execution_count": null,
   "metadata": {
    "collapsed": false
   },
   "outputs": [],
   "source": [
    "X_iris_train_norm = (X_iris_train - X_iris_train.mean()) / X_iris_train.std()\n",
    "X_iris_test_norm = (X_iris_test - X_iris_train.mean()) / X_iris_train.std()\n",
    "\n",
    "X_iris_train_norm.describe()"
   ]
  },
  {
   "cell_type": "code",
   "execution_count": null,
   "metadata": {
    "collapsed": false
   },
   "outputs": [],
   "source": [
    "evaluateKnn(X_iris_train_norm, y_iris_train, X_iris_test_norm, y_iris_test, k=7)\n",
    "evaluateKnnNormPerClass(X_iris_train.values, y_iris_train, X_iris_test.values, y_iris_test, k=7)\n",
    "plotScatter(X_iris_train_norm, y_iris_train)"
   ]
  },
  {
   "cell_type": "markdown",
   "metadata": {},
   "source": [
    "LMNN\n",
    "======"
   ]
  },
  {
   "cell_type": "code",
   "execution_count": null,
   "metadata": {
    "collapsed": false
   },
   "outputs": [],
   "source": [
    "lmnn = LMNN(k=10, learn_rate=1e-5, max_iter=500, verbose=False)\n",
    "lmnn.fit(X_iris_train.values, y_iris_train)\n",
    "print(\"matrix L:\", lmnn.L)\n",
    "print(\"metric:\", lmnn.metric())"
   ]
  },
  {
   "cell_type": "code",
   "execution_count": null,
   "metadata": {
    "collapsed": false
   },
   "outputs": [],
   "source": [
    "evaluateKnn(lmnn.transform(X_iris_train), y_iris_train, lmnn.transform(X_iris_test), y_iris_test, k=7)\n",
    "plotScatter(lmnn.transform(X_iris_train), y_iris_train)"
   ]
  },
  {
   "cell_type": "markdown",
   "metadata": {},
   "source": [
    "Normalized data + LMNN\n",
    "======"
   ]
  },
  {
   "cell_type": "code",
   "execution_count": null,
   "metadata": {
    "collapsed": false
   },
   "outputs": [],
   "source": [
    "lmnn_norm = LMNN(k=7, learn_rate=1e-5, max_iter=1000, verbose=False)\n",
    "lmnn_norm.fit(X_iris_train_norm.values, y_iris_train)\n",
    "print(lmnn_norm.L)"
   ]
  },
  {
   "cell_type": "code",
   "execution_count": null,
   "metadata": {
    "collapsed": false
   },
   "outputs": [],
   "source": [
    "evaluateKnn(lmnn_norm.transform(X_iris_train_norm), y_iris_train, lmnn_norm.transform(X_iris_test_norm), y_iris_test, k=30)\n",
    "plotScatter(lmnn_norm.transform(X_iris_train_norm), y_iris_train)"
   ]
  },
  {
   "cell_type": "markdown",
   "metadata": {},
   "source": [
    "NCA\n",
    "====="
   ]
  },
  {
   "cell_type": "code",
   "execution_count": null,
   "metadata": {
    "collapsed": false
   },
   "outputs": [],
   "source": [
    "nca = NCA()\n",
    "nca.fit(X_iris_train.values, y_iris_train)"
   ]
  },
  {
   "cell_type": "code",
   "execution_count": null,
   "metadata": {
    "collapsed": false
   },
   "outputs": [],
   "source": [
    "evaluateKnn(nca.transform(X_iris_train), y_iris_train, nca.transform(X_iris_test), y_iris_test, k=7)\n",
    "plotScatter(nca.transform(X_iris_train), y_iris_train)"
   ]
  },
  {
   "cell_type": "markdown",
   "metadata": {
    "collapsed": true
   },
   "source": [
    "Normalized data + NCA\n",
    "====="
   ]
  },
  {
   "cell_type": "code",
   "execution_count": null,
   "metadata": {
    "collapsed": false
   },
   "outputs": [],
   "source": [
    "nca_norm = NCA()\n",
    "nca_norm.fit(X_iris_train_norm.values, y_iris_train)"
   ]
  },
  {
   "cell_type": "code",
   "execution_count": null,
   "metadata": {
    "collapsed": false
   },
   "outputs": [],
   "source": [
    "evaluateKnn(nca_norm.transform(X_iris_train_norm), y_iris_train, nca_norm.transform(X_iris_test_norm), y_iris_test, k=15)\n",
    "plotScatter(nca_norm.transform(X_iris_train_norm), y_iris_train)"
   ]
  },
  {
   "cell_type": "markdown",
   "metadata": {},
   "source": [
    "Multivariate normal distributions\n",
    "===="
   ]
  },
  {
   "cell_type": "code",
   "execution_count": null,
   "metadata": {
    "collapsed": false
   },
   "outputs": [],
   "source": [
    "c = 6\n",
    "N = 100\n",
    "X_mn =                   np.random.multivariate_normal([0, 15, 0], [[10, 0, 0], [0, 10, 0], [0, 0, 10]], N)\n",
    "X_mn = np.vstack( [X_mn, np.random.multivariate_normal([0, -15, 0], [[10, 0, 0], [0, 10, 0], [0, 0, 10]], N)] )\n",
    "X_mn = np.vstack( [X_mn, np.random.multivariate_normal([15, 0, 0], [[10, 0, 0], [0, 10, 0], [0, 0, 10]], N)] )\n",
    "X_mn = np.vstack( [X_mn, np.random.multivariate_normal([-15, 0, 0], [[10, 0, 0], [0, 10, 0], [0, 0, 10]], N)] )\n",
    "X_mn = np.vstack( [X_mn, np.random.multivariate_normal([0, 0, 15], [[10, 0, 0], [0, 10, 0], [0, 0, 10]], N)] )\n",
    "X_mn = np.vstack( [X_mn, np.random.multivariate_normal([0, 0, -15], [[10, 0, 0], [0, 10, 0], [0, 0, 10]], N)] )\n",
    "\n",
    "y_mn = np.ndarray.flatten(np.array([[x]*N for x in range(c)]))\n",
    "\n",
    "X_mn_train, X_mn_test, y_mn_train, y_mn_test = train_test_split(X_mn, y_mn, train_size=0.7)\n",
    "print(X_mn_train.shape, y_mn_train.shape, X_mn_test.shape, y_mn_test.shape)"
   ]
  },
  {
   "cell_type": "code",
   "execution_count": null,
   "metadata": {
    "collapsed": false
   },
   "outputs": [],
   "source": [
    "evaluateKnn(X_mn_train, y_mn_train, X_mn_test, y_mn_test, k=5)\n",
    "plotScatter(X_mn, y_mn)\n",
    "plotScatterTT(X_mn_train, y_mn_train, X_mn_test, y_mn_test, wrong)"
   ]
  },
  {
   "cell_type": "code",
   "execution_count": null,
   "metadata": {
    "collapsed": false
   },
   "outputs": [],
   "source": [
    "pca = PCA(n_components=2)\n",
    "pca.fit(X_mn_train, y_mn_train)\n",
    "wrong = evaluateKnn(pca.transform(X_mn_train), y_mn_train, pca.transform(X_mn_test), y_mn_test, k=1)\n",
    "plotScatterTT(pca.transform(X_mn_train), y_mn_train, pca.transform(X_mn_test), y_mn_test, wrong)"
   ]
  },
  {
   "cell_type": "code",
   "execution_count": null,
   "metadata": {
    "collapsed": false
   },
   "outputs": [],
   "source": [
    "nca = MetricEvolution(n_gens=500, fitnesses=[('knn', {'n_neighbors':3})], t__n_components=2)\n",
    "nca.fit(X_mn_train, y_mn_train)\n",
    "wrong = evaluateKnn(nca.transform(X_mn_train), y_mn_train, nca.transform(X_mn_test), y_mn_test, k=1)\n",
    "plotScatterTT(nca.transform(X_mn_train), y_mn_train, nca.transform(X_mn_test), y_mn_test, wrong)"
   ]
  },
  {
   "cell_type": "code",
   "execution_count": null,
   "metadata": {
    "collapsed": false
   },
   "outputs": [],
   "source": [
    "nca = MetricEvolution(n_gens=500, fitnesses=[('knn', {'n_neighbors':3})], t__n_components=3)\n",
    "nca.fit(X_mn_train, y_mn_train)\n",
    "wrong = evaluateKnn(nca.transform(X_mn_train), y_mn_train, nca.transform(X_mn_test), y_mn_test, k=1)\n",
    "plotScatterTT(nca.transform(X_mn_train), y_mn_train, nca.transform(X_mn_test), y_mn_test, wrong)"
   ]
  },
  {
   "cell_type": "markdown",
   "metadata": {},
   "source": [
    "Normalized data\n",
    "====="
   ]
  },
  {
   "cell_type": "code",
   "execution_count": null,
   "metadata": {
    "collapsed": false
   },
   "outputs": [],
   "source": [
    "X_mn_train_norm = (X_mn_train - X_mn_train.mean(axis=0)) / X_mn_train.std(axis=0)\n",
    "X_mn_test_norm = (X_mn_test - X_mn_train.mean(axis=0)) / X_mn_train.std(axis=0)"
   ]
  },
  {
   "cell_type": "code",
   "execution_count": null,
   "metadata": {
    "collapsed": false
   },
   "outputs": [],
   "source": [
    "evaluateKnn(X_mn_train_norm, y_mn_train, X_mn_test_norm, y_mn_test, k=10)\n",
    "plotScatter(X_mn_train_norm, y_mn_train)"
   ]
  },
  {
   "cell_type": "code",
   "execution_count": null,
   "metadata": {
    "collapsed": false
   },
   "outputs": [],
   "source": [
    "pca = PCA(n_components=2)\n",
    "pca.fit(X_mn_train_norm, y_mn_train)\n",
    "wrong = evaluateKnn(pca.transform(X_mn_train_norm), y_mn_train, pca.transform(X_mn_test_norm), y_mn_test, k=1)\n",
    "plotScatterTT(pca.transform(X_mn_train_norm), y_mn_train, pca.transform(X_mn_test_norm), y_mn_test, wrong)"
   ]
  },
  {
   "cell_type": "markdown",
   "metadata": {},
   "source": [
    "LMNN\n",
    "====="
   ]
  },
  {
   "cell_type": "code",
   "execution_count": null,
   "metadata": {
    "collapsed": false,
    "scrolled": true
   },
   "outputs": [],
   "source": [
    "lmnn = LMNN(k=5, learn_rate=1e-7, max_iter=500, verbose=False, )\n",
    "lmnn.fit(X_mn_train, y_mn_train)\n",
    "print(lmnn.L)"
   ]
  },
  {
   "cell_type": "code",
   "execution_count": null,
   "metadata": {
    "collapsed": false
   },
   "outputs": [],
   "source": [
    "wrong = evaluateKnn(lmnn.transform(X_mn_train), y_mn_train, lmnn.transform(X_mn_test), y_mn_test, k=2)\n",
    "plotScatter(lmnn.transform(X_mn_train), y_mn_train)\n",
    "plotScatterTT(lmnn.transform(X_mn_train), y_mn_train, lmnn.transform(X_mn_test), y_mn_test, wrong)"
   ]
  },
  {
   "cell_type": "markdown",
   "metadata": {},
   "source": [
    "Normalized + LMNN\n",
    "====="
   ]
  },
  {
   "cell_type": "code",
   "execution_count": null,
   "metadata": {
    "collapsed": false
   },
   "outputs": [],
   "source": [
    "lmnn_norm = LMNN(k=7, learn_rate=1e-5, max_iter=1000, verbose=False)\n",
    "lmnn_norm.fit(X_mn_train_norm, y_mn_train)\n",
    "print(lmnn.L)"
   ]
  },
  {
   "cell_type": "code",
   "execution_count": null,
   "metadata": {
    "collapsed": false
   },
   "outputs": [],
   "source": [
    "evaluateKnn(lmnn_norm.transform(X_mn_train_norm), y_mn_train, lmnn_norm.transform(X_mn_test_norm), y_mn_test, k=30)\n",
    "plotScatter(lmnn_norm.transform(X_mn_train_norm), y_mn_train)"
   ]
  },
  {
   "cell_type": "markdown",
   "metadata": {},
   "source": [
    "NCA\n",
    "====="
   ]
  },
  {
   "cell_type": "code",
   "execution_count": null,
   "metadata": {
    "collapsed": false
   },
   "outputs": [],
   "source": [
    "nca = NCA(max_iter=100)\n",
    "nca.fit(X_mn_train, y_mn_train)"
   ]
  },
  {
   "cell_type": "code",
   "execution_count": null,
   "metadata": {
    "collapsed": false
   },
   "outputs": [],
   "source": [
    "evaluateKnn(nca.transform(X_mn_train), y_mn_train, nca.transform(X_mn_test), y_mn_test, k=7)\n",
    "plotScatter(nca.transform(X_mn_train), y_mn_train)"
   ]
  },
  {
   "cell_type": "markdown",
   "metadata": {},
   "source": [
    "Normalized + NCA\n",
    "====="
   ]
  },
  {
   "cell_type": "code",
   "execution_count": null,
   "metadata": {
    "collapsed": false
   },
   "outputs": [],
   "source": [
    "nca_norm = NCA()\n",
    "nca_norm.fit(X_mn_train_norm, y_mn_train)"
   ]
  },
  {
   "cell_type": "code",
   "execution_count": null,
   "metadata": {
    "collapsed": false
   },
   "outputs": [],
   "source": [
    "evaluateKnn(nca_norm.transform(X_mn_train_norm), y_mn_train, nca_norm.transform(X_mn_test_norm), y_mn_test, k=15)\n",
    "plotScatter(nca_norm.transform(X_mn_train_norm), y_mn_train)"
   ]
  },
  {
   "cell_type": "markdown",
   "metadata": {
    "collapsed": true
   },
   "source": [
    "Unscaled 2D data\n",
    "======="
   ]
  },
  {
   "cell_type": "code",
   "execution_count": null,
   "metadata": {
    "collapsed": false
   },
   "outputs": [],
   "source": [
    "Ns = [50, 500]\n",
    "X_ns =                   np.random.multivariate_normal([0, 0], [[2, 0], [0, 100]], Ns[0])\n",
    "X_ns = np.vstack( [X_ns, np.random.multivariate_normal([5, -15], [[2, 0], [0, 100]], Ns[1])] )\n",
    "# X_ns = np.vstack( [X_ns, np.random.multivariate_normal([0, 0, -110], [[10, 0, 0], [0, 1000, 0], [0, 0, 10]], N)] )\n",
    "# X_ns = np.vstack( [X_ns, np.random.multivariate_normal([0, 0, -100], [[10, 0, 0], [0, 1000, 0], [0, 0, 10]], N)] )\n",
    "# X_ns = np.vstack( [X_ns, np.random.multivariate_normal([0, 0, 15], [[10, 0, 0], [0, 10, 0], [0, 0, 10]], N)] )\n",
    "# X_ns = np.vstack( [X_ns, np.random.multivariate_normal([0, 0, -15], [[10, 0, 0], [0, 10, 0], [0, 0, 1000]], N)] )\n",
    "\n",
    "y_ns = np.array([])\n",
    "for i,N in enumerate(Ns):\n",
    "    y_ns = np.concatenate( (y_ns, [i]*N) )\n",
    "\n",
    "X_ns_train, X_ns_test, y_ns_train, y_ns_test = train_test_split(X_ns, y_ns, train_size=0.7)\n",
    "print(X_ns_train.shape, y_ns_train.shape, X_ns_test.shape, y_ns_test.shape)"
   ]
  },
  {
   "cell_type": "code",
   "execution_count": null,
   "metadata": {
    "collapsed": false
   },
   "outputs": [],
   "source": [
    "wrong = evaluateKnn(X_ns_train, y_ns_train, X_ns_test, y_ns_test, k=1)\n",
    "plotScatterTT(X_ns_train, y_ns_train, X_ns_test, y_ns_test, wrong)"
   ]
  },
  {
   "cell_type": "markdown",
   "metadata": {},
   "source": [
    "Normalized data\n",
    "====="
   ]
  },
  {
   "cell_type": "code",
   "execution_count": null,
   "metadata": {
    "collapsed": false
   },
   "outputs": [],
   "source": [
    "X_ns_train_norm = (X_ns_train - X_ns_train.mean(axis=0)) / X_ns_train.std(axis=0)\n",
    "X_ns_test_norm = (X_ns_test - X_ns_train.mean(axis=0)) / X_ns_train.std(axis=0)"
   ]
  },
  {
   "cell_type": "code",
   "execution_count": null,
   "metadata": {
    "collapsed": false
   },
   "outputs": [],
   "source": [
    "wrong = evaluateKnn(X_ns_train_norm, y_ns_train, X_ns_test_norm, y_ns_test, k=10)\n",
    "plotScatterTT(X_ns_train_norm, y_ns_train, X_ns_test_norm, y_ns_test, wrong)"
   ]
  },
  {
   "cell_type": "markdown",
   "metadata": {
    "collapsed": true
   },
   "source": [
    "Unscaled data v2\n",
    "========="
   ]
  },
  {
   "cell_type": "code",
   "execution_count": null,
   "metadata": {
    "collapsed": false
   },
   "outputs": [],
   "source": [
    "# Ns = [100,100]\n",
    "# X_ns =                   np.random.multivariate_normal([0,0], [[100000000,0], [0,100]], Ns[0])\n",
    "# X_ns = np.vstack( [X_ns, np.random.multivariate_normal([0,75], [[100000000,0], [0,100]], Ns[1])] )\n",
    "\n",
    "# Ns = [100, 100, 100, 100, 100]\n",
    "# X_ns =                   np.random.multivariate_normal([0,0,0], [[100000,0,0], [0,100,0], [0,0,2]], Ns[0])\n",
    "# X_ns = np.vstack( [X_ns, np.random.multivariate_normal([0,10,0], [[100000,0,0], [0,100,0], [0,0,2]], Ns[1])] )\n",
    "# X_ns = np.vstack( [X_ns, np.random.multivariate_normal([0,-10,0], [[100000,0,0], [0,100,0], [0,0,2]], Ns[2])] )\n",
    "# X_ns = np.vstack( [X_ns, np.random.multivariate_normal([0,0,10], [[100000,0,0], [0,100, 0], [0,0,2]], Ns[3])] )\n",
    "# X_ns = np.vstack( [X_ns, np.random.multivariate_normal([0,0,-10], [[100000,0,0], [0,100,0], [0,0,2]], Ns[4])] )\n",
    "\n",
    "Ns = [100, 100, 100, 100]#, 100, 100]\n",
    "X_ns =                   np.random.multivariate_normal([10,0,0,2], [[100000000,0,0,0], [0,100,0,0], [0,0,2,0], [0,0,0,1]], Ns[0])\n",
    "X_ns = np.vstack( [X_ns, np.random.multivariate_normal([0,10,0,-2], [[100000000,0,0,0], [0,100,0,0], [0,0,2,0], [0,0,0,1]], Ns[1])] )\n",
    "# X_ns = np.vstack( [X_ns, np.random.multivariate_normal([0,-10,0,0], [[100000000,0,0,0], [0,100,0,0], [0,0,2,0], [0,0,0,1]], Ns[2])] )\n",
    "X_ns = np.vstack( [X_ns, np.random.multivariate_normal([0,0,10,-2], [[100000000,0,0,0], [0,100, 0,0], [0,0,2,0], [0,0,0,1]], Ns[1])] )\n",
    "X_ns = np.vstack( [X_ns, np.random.multivariate_normal([0,0,-10,2], [[100000000,0,0,0], [0,100,0,0], [0,0,2,0], [0,0,0,1]], Ns[2])] )\n",
    "\n",
    "y_ns = np.array([])\n",
    "for i,N in enumerate(Ns):\n",
    "    y_ns = np.concatenate( (y_ns, [i]*N) )\n",
    "\n",
    "X_ns_train, X_ns_test, y_ns_train, y_ns_test = train_test_split(X_ns, y_ns, train_size=0.7, stratify=y_ns)\n",
    "print(X_ns_train.shape, y_ns_train.shape, X_ns_test.shape, y_ns_test.shape)"
   ]
  },
  {
   "cell_type": "code",
   "execution_count": null,
   "metadata": {
    "collapsed": false
   },
   "outputs": [],
   "source": [
    "wrong = evaluateKnn(X_ns_train, y_ns_train, X_ns_test, y_ns_test, k=1)\n",
    "plotScatterTT(X_ns_train, y_ns_train, X_ns_test, y_ns_test, wrong)"
   ]
  },
  {
   "cell_type": "code",
   "execution_count": null,
   "metadata": {
    "collapsed": true
   },
   "outputs": [],
   "source": [
    "X_ns_train_norm = (X_ns_train - X_ns_train.mean(axis=0)) / X_ns_train.std(axis=0)\n",
    "X_ns_test_norm = (X_ns_test - X_ns_train.mean(axis=0)) / X_ns_train.std(axis=0)"
   ]
  },
  {
   "cell_type": "code",
   "execution_count": null,
   "metadata": {
    "collapsed": false
   },
   "outputs": [],
   "source": [
    "wrong1 = evaluateKnn(X_ns_train_norm, y_ns_train, X_ns_test_norm, y_ns_test, k=1)\n",
    "wrong2 = evaluateKnnNormPerClass(X_ns_train, y_ns_train, X_ns_test, y_ns_test, k=1)\n",
    "plotScatterTT(X_ns_train_norm, y_ns_train, X_ns_test_norm, y_ns_test, wrong1)"
   ]
  },
  {
   "cell_type": "code",
   "execution_count": null,
   "metadata": {
    "collapsed": false
   },
   "outputs": [],
   "source": [
    "nca = LFDA(k=2, dim=2)\n",
    "nca.fit(X_ns_train, y_ns_train)\n",
    "evaluateKnn(nca.transform(X_ns_train), y_ns_train, nca.transform(X_ns_test), y_ns_test, k=7)\n",
    "plotScatter(nca.transform(X_ns_train), y_ns_train)"
   ]
  },
  {
   "cell_type": "code",
   "execution_count": null,
   "metadata": {
    "collapsed": false
   },
   "outputs": [],
   "source": [
    "nca = MetricEvolution(n_gens=100, fitnesses=[('knn', {'n_neighbors':1})])\n",
    "nca.fit(X_ns_train, y_ns_train)\n",
    "print(nca.transformer().L)\n",
    "nca\n",
    "evaluateKnn(nca.transform(X_ns_train), y_ns_train, nca.transform(X_ns_test), y_ns_test, k=7)\n",
    "plotScatter(nca.transform(X_ns_train), y_ns_train)"
   ]
  },
  {
   "cell_type": "code",
   "execution_count": null,
   "metadata": {
    "collapsed": false
   },
   "outputs": [],
   "source": [
    "nca = MetricEvolution(n_gens=100, fitnesses=[('knn', {'n_neighbors':7})], transformer=NeuralNetworkTransformer(layers=(4,3,2), activation=None))\n",
    "nca.fit(X_ns_train, y_ns_train)"
   ]
  },
  {
   "cell_type": "code",
   "execution_count": null,
   "metadata": {
    "collapsed": false
   },
   "outputs": [],
   "source": [
    "knn = KNeighborsClassifier(n_neighbors=2)\n",
    "knn.fit(nca.transform(X_ns_train), y_ns_train)\n",
    "wrong = knn.predict(nca.transform(X_ns_test)) != y_ns_test\n",
    "wrong\n",
    "X_ns_test[0], nca.transform(X_ns_test[0])"
   ]
  },
  {
   "cell_type": "code",
   "execution_count": null,
   "metadata": {
    "collapsed": false
   },
   "outputs": [],
   "source": [
    "wrong = evaluateKnn(nca.transform(X_ns_train), y_ns_train, nca.transform(X_ns_test), y_ns_test, k=2)\n",
    "plotScatter(nca.transform(X_ns_train), y_ns_train)\n",
    "plotScatter(nca.transform(X_ns_test), y_ns_test, wrong)\n",
    "plotScatterTT(nca.transform(X_ns_train), y_ns_train, nca.transform(X_ns_test), y_ns_test, wrong)"
   ]
  },
  {
   "cell_type": "code",
   "execution_count": null,
   "metadata": {
    "collapsed": true
   },
   "outputs": [],
   "source": []
  }
 ],
 "metadata": {
  "kernelspec": {
   "display_name": "Python 3",
   "language": "python",
   "name": "python3"
  },
  "language_info": {
   "codemirror_mode": {
    "name": "ipython",
    "version": 3
   },
   "file_extension": ".py",
   "mimetype": "text/x-python",
   "name": "python",
   "nbconvert_exporter": "python",
   "pygments_lexer": "ipython3",
   "version": "3.5.2"
  }
 },
 "nbformat": 4,
 "nbformat_minor": 0
}
