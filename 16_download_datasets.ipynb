{
 "cells": [
  {
   "cell_type": "code",
   "execution_count": null,
   "metadata": {
    "collapsed": true
   },
   "outputs": [],
   "source": [
    "import numpy as np\n",
    "import pandas as pd\n",
    "\n",
    "\n",
    "datasetsDir = 'datasets'"
   ]
  },
  {
   "cell_type": "code",
   "execution_count": null,
   "metadata": {
    "collapsed": true
   },
   "outputs": [],
   "source": []
  },
  {
   "cell_type": "code",
   "execution_count": null,
   "metadata": {
    "collapsed": false
   },
   "outputs": [],
   "source": [
    "# OFaces\n",
    "filename = '{}/ofaces.csv'.format(datasetsDir)\n",
    "from sklearn.datasets import fetch_olivetti_faces\n",
    "faces = fetch_olivetti_faces()\n",
    "X, y = faces.data, faces.target\n",
    "print(X.shape, y.shape)\n",
    "xxx = pd.DataFrame(X)\n",
    "xxx['class'] = pd.Series(y, index=xxx.index)\n",
    "xxx.to_csv(filename, index=False)\n",
    "with open(filename, 'r') as original: data = original.read()\n",
    "with open(filename, 'w') as modified: modified.write(\"http://scikit-learn.org/stable/datasets/olivetti_faces.html http://www.cl.cam.ac.uk/research/dtg/attarchive/facedatabase.html\\n\" + data)"
   ]
  },
  {
   "cell_type": "code",
   "execution_count": null,
   "metadata": {
    "collapsed": false
   },
   "outputs": [],
   "source": [
    "# MNIST\n",
    "filename = '{}/mnist.csv'.format(datasetsDir)\n",
    "from sklearn.datasets import fetch_mldata\n",
    "faces = fetch_mldata('MNIST original')\n",
    "X, y = faces.data, faces.target\n",
    "print(X.shape, y.shape)\n",
    "xxx = pd.DataFrame(X)\n",
    "xxx['class'] = pd.Series(y, index=xxx.index)\n",
    "xxx.to_csv(filename, index=False)\n",
    "with open(filename, 'r') as original: data = original.read()\n",
    "with open(filename, 'w') as modified: modified.write(\"http://yann.lecun.com/exdb/mnist/\\n\" + data)"
   ]
  },
  {
   "cell_type": "code",
   "execution_count": null,
   "metadata": {
    "collapsed": false
   },
   "outputs": [],
   "source": [
    "# Letters\n",
    "filename = '{}/letters.csv'.format(datasetsDir)\n",
    "from sklearn.datasets import fetch_mldata\n",
    "faces = fetch_mldata('datasets-uci-letter')\n",
    "y, X = faces.data[:, 0], faces.target.T\n",
    "y = np.array(list(map(lambda x: x[0], y)))\n",
    "print(X.shape, y.shape)\n",
    "xxx = pd.DataFrame(X)\n",
    "xxx['class'] = pd.Series(y, index=xxx.index)\n",
    "xxx.to_csv(filename, index=False)\n",
    "with open(filename, 'r') as original: data = original.read()\n",
    "with open(filename, 'w') as modified: modified.write(\"http://mldata.org/repository/data/viewslug/datasets-uci-letter/ https://archive.ics.uci.edu/ml/datasets/Letter+Recognition\\n\" + data)"
   ]
  },
  {
   "cell_type": "code",
   "execution_count": null,
   "metadata": {
    "collapsed": false
   },
   "outputs": [],
   "source": [
    "# Digits6\n",
    "filename = '{}/digits6.csv'.format(datasetsDir)\n",
    "from sklearn.datasets import load_digits\n",
    "X, y = load_digits(n_class=6, return_X_y=True)\n",
    "print(X.shape, y.shape)\n",
    "xxx = pd.DataFrame(X)\n",
    "xxx['class'] = pd.Series(y, index=xxx.index)\n",
    "xxx.to_csv(filename, index=False)\n",
    "with open(filename, 'r') as original: data = original.read()\n",
    "with open(filename, 'w') as modified: modified.write(\"http://scikit-learn.org/stable/modules/generated/sklearn.datasets.load_digits.html\\n\" + data)"
   ]
  },
  {
   "cell_type": "code",
   "execution_count": null,
   "metadata": {
    "collapsed": false
   },
   "outputs": [],
   "source": [
    "# Digits10\n",
    "filename = '{}/digits10.csv'.format(datasetsDir)\n",
    "from sklearn.datasets import load_digits\n",
    "X, y = load_digits(n_class=10, return_X_y=True)\n",
    "print(X.shape, y.shape)\n",
    "xxx = pd.DataFrame(X)\n",
    "xxx['class'] = pd.Series(y, index=xxx.index)\n",
    "xxx.to_csv(filename, index=False)\n",
    "with open(filename, 'r') as original: data = original.read()\n",
    "with open(filename, 'w') as modified: modified.write(\"http://scikit-learn.org/stable/modules/generated/sklearn.datasets.load_digits.html\\n\" + data)"
   ]
  },
  {
   "cell_type": "code",
   "execution_count": null,
   "metadata": {
    "collapsed": true
   },
   "outputs": [],
   "source": []
  },
  {
   "cell_type": "code",
   "execution_count": null,
   "metadata": {
    "collapsed": true
   },
   "outputs": [],
   "source": [
    "def prependFile(filename, text):\n",
    "    with open(filename, 'r') as original: data = original.read()\n",
    "    with open(filename, 'w') as modified: modified.write(\"{}\\n\".format(text) + data)\n",
    "\n",
    "def renameCol(last):\n",
    "    def l(x):\n",
    "        if x==last:\n",
    "            return 'class'\n",
    "        return x\n",
    "    return l"
   ]
  },
  {
   "cell_type": "code",
   "execution_count": null,
   "metadata": {
    "collapsed": true
   },
   "outputs": [],
   "source": [
    "# # Balance scale\n",
    "# filename = '{}/balance-scale.csv'.format(datasetsDir)\n",
    "# url = \"http://archive.ics.uci.edu/ml/machine-learning-databases/balance-scale/balance-scale.data\"\n",
    "# df = pd.read_csv(url, header=None, na_values='?')\n",
    "# y = df[0]\n",
    "# df = df.drop(0, axis=1)\n",
    "# df['class'] = pd.Series(y, index=df.index)\n",
    "# df.to_csv(filename, index=False)\n",
    "# prependFile(filename, \"http://archive.ics.uci.edu/ml/datasets/Balance+Scale\")"
   ]
  },
  {
   "cell_type": "code",
   "execution_count": null,
   "metadata": {
    "collapsed": true
   },
   "outputs": [],
   "source": [
    "# # breast-cancer-wisconsin\n",
    "# filename = '{}/breast-cancer-wisconsin.csv'.format(datasetsDir)\n",
    "# url = \"https://archive.ics.uci.edu/ml/machine-learning-databases/breast-cancer-wisconsin/breast-cancer-wisconsin.data\"\n",
    "# df = pd.read_csv(url, header=None, na_values='?')\n",
    "# df.rename(columns=renameCol(df.columns[-1]), inplace=True)\n",
    "# df = df.drop(0, axis=1)\n",
    "# df.to_csv(filename, index=False, float_format='%g')\n",
    "# prependFile(filename, \"https://archive.ics.uci.edu/ml/datasets/Breast+Cancer+Wisconsin+(Original)\")"
   ]
  },
  {
   "cell_type": "code",
   "execution_count": null,
   "metadata": {
    "collapsed": true
   },
   "outputs": [],
   "source": [
    "# # Ionosphere\n",
    "# filename = '{}/ionosphere.csv'.format(datasetsDir)\n",
    "# url = \"http://archive.ics.uci.edu/ml/machine-learning-databases/ionosphere/ionosphere.data\"\n",
    "# df = pd.read_csv(url, header=None, na_values='?')\n",
    "# df.rename(columns=renameCol(df.columns[-1]), inplace=True)\n",
    "# df.to_csv(filename, index=False, float_format='%g')\n",
    "# prependFile(filename, \"http://archive.ics.uci.edu/ml/datasets/Ionosphere\")"
   ]
  },
  {
   "cell_type": "code",
   "execution_count": null,
   "metadata": {
    "collapsed": false
   },
   "outputs": [],
   "source": [
    "# # IRIS\n",
    "# filename = '{}/iris.csv'.format(datasetsDir)\n",
    "# url = \"http://archive.ics.uci.edu/ml/machine-learning-databases/iris/iris.data\"\n",
    "# df = pd.read_csv(url, header=None, na_values='?')\n",
    "# df.rename(columns=renameCol(df.columns[-1]), inplace=True)\n",
    "# df.to_csv(filename, index=False)\n",
    "# prependFile(filename, \"http://archive.ics.uci.edu/ml/datasets/Iris\")"
   ]
  },
  {
   "cell_type": "code",
   "execution_count": null,
   "metadata": {
    "collapsed": true
   },
   "outputs": [],
   "source": [
    "# # Pima indians\n",
    "# filename = '{}/pima-indians-diabetes.csv'.format(datasetsDir)\n",
    "# url = \"https://archive.ics.uci.edu/ml/machine-learning-databases/pima-indians-diabetes/pima-indians-diabetes.data\"\n",
    "# df = pd.read_csv(url, header=None, na_values='?')\n",
    "# df.rename(columns=renameCol(df.columns[-1]), inplace=True)\n",
    "# df.to_csv(filename, index=False)\n",
    "# prependFile(filename, \"https://archive.ics.uci.edu/ml/datasets/Pima+Indians+Diabetes\")"
   ]
  },
  {
   "cell_type": "code",
   "execution_count": null,
   "metadata": {
    "collapsed": true
   },
   "outputs": [],
   "source": [
    "# # Sonar\n",
    "# filename = '{}/sonar.csv'.format(datasetsDir)\n",
    "# url = \"http://archive.ics.uci.edu/ml/machine-learning-databases/undocumented/connectionist-bench/sonar/sonar.all-data\"\n",
    "# df = pd.read_csv(url, header=None, na_values='?')\n",
    "# df.rename(columns=renameCol(df.columns[-1]), inplace=True)\n",
    "# df.to_csv(filename, index=False)\n",
    "# prependFile(filename, \"http://archive.ics.uci.edu/ml/datasets/Connectionist+Bench+%28Sonar%2C+Mines+vs.+Rocks%29\")"
   ]
  },
  {
   "cell_type": "code",
   "execution_count": null,
   "metadata": {
    "collapsed": false
   },
   "outputs": [],
   "source": [
    "# # Soybean-large\n",
    "# filename = '{}/soybean-large.csv'.format(datasetsDir)\n",
    "# url = \"http://archive.ics.uci.edu/ml/machine-learning-databases/soybean/soybean-large.data\"\n",
    "# df = pd.read_csv(url, header=None, na_values='?')\n",
    "# y = df[0]\n",
    "# df = df.drop(0, axis=1)\n",
    "# df['class'] = pd.Series(y, index=df.index)\n",
    "# df.to_csv(filename, index=False)\n",
    "# prependFile(filename, \"http://archive.ics.uci.edu/ml/datasets/Soybean+%28Large%29\")"
   ]
  },
  {
   "cell_type": "code",
   "execution_count": null,
   "metadata": {
    "collapsed": false
   },
   "outputs": [],
   "source": [
    "# # Wine\n",
    "# filename = '{}/wine.csv'.format(datasetsDir)\n",
    "# url = \"http://archive.ics.uci.edu/ml/machine-learning-databases/wine/wine.data\"\n",
    "# df = pd.read_csv(url, header=None, na_values='?')\n",
    "# y = df[0]\n",
    "# df = df.drop(0, axis=1)\n",
    "# df['class'] = pd.Series(y, index=df.index)\n",
    "# df.to_csv(filename, index=False)\n",
    "# prependFile(filename, \"http://archive.ics.uci.edu/ml/datasets/Wine\")"
   ]
  },
  {
   "cell_type": "code",
   "execution_count": null,
   "metadata": {
    "collapsed": true
   },
   "outputs": [],
   "source": []
  },
  {
   "cell_type": "code",
   "execution_count": null,
   "metadata": {
    "collapsed": false
   },
   "outputs": [],
   "source": [
    "data = pd.read_csv(filename, sep=',', skiprows=1, header=0)\n",
    "y = data['class']\n",
    "X = data.drop(['class'], axis=1).values\n",
    "X.shape, y.shape"
   ]
  },
  {
   "cell_type": "code",
   "execution_count": null,
   "metadata": {
    "collapsed": false
   },
   "outputs": [],
   "source": []
  }
 ],
 "metadata": {
  "kernelspec": {
   "display_name": "Python [conda root]",
   "language": "python",
   "name": "conda-root-py"
  },
  "language_info": {
   "codemirror_mode": {
    "name": "ipython",
    "version": 3
   },
   "file_extension": ".py",
   "mimetype": "text/x-python",
   "name": "python",
   "nbconvert_exporter": "python",
   "pygments_lexer": "ipython3",
   "version": "3.5.2"
  }
 },
 "nbformat": 4,
 "nbformat_minor": 1
}
