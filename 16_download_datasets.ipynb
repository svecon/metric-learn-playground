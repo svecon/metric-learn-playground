{
 "cells": [
  {
   "cell_type": "code",
   "execution_count": null,
   "metadata": {
    "collapsed": true
   },
   "outputs": [],
   "source": [
    "import numpy as np\n",
    "import pandas as pd\n",
    "\n",
    "\n",
    "datasetsDir = 'datasets'"
   ]
  },
  {
   "cell_type": "code",
   "execution_count": null,
   "metadata": {
    "collapsed": true
   },
   "outputs": [],
   "source": []
  },
  {
   "cell_type": "code",
   "execution_count": null,
   "metadata": {
    "collapsed": false
   },
   "outputs": [],
   "source": [
    "# OFaces\n",
    "filename = '{}/ofaces.csv'.format(datasetsDir)\n",
    "from sklearn.datasets import fetch_olivetti_faces\n",
    "faces = fetch_olivetti_faces()\n",
    "X, y = faces.data, faces.target\n",
    "print(X.shape, y.shape)\n",
    "xxx = pd.DataFrame(X)\n",
    "xxx['class'] = pd.Series(y, index=xxx.index)\n",
    "xxx.to_csv(filename, index=False)\n",
    "with open(filename, 'r') as original: data = original.read()\n",
    "with open(filename, 'w') as modified: modified.write(\"http://scikit-learn.org/stable/datasets/olivetti_faces.html#olivetti-faces\\n\" + data)"
   ]
  },
  {
   "cell_type": "code",
   "execution_count": null,
   "metadata": {
    "collapsed": false
   },
   "outputs": [],
   "source": [
    "# MNIST\n",
    "filename = '{}/mnist.csv'.format(datasetsDir)\n",
    "from sklearn.datasets import fetch_mldata\n",
    "faces = fetch_mldata('MNIST original')\n",
    "X, y = faces.data, faces.target\n",
    "print(X.shape, y.shape)\n",
    "xxx = pd.DataFrame(X)\n",
    "xxx['class'] = pd.Series(y, index=xxx.index)\n",
    "xxx.to_csv(filename, index=False)\n",
    "with open(filename, 'r') as original: data = original.read()\n",
    "with open(filename, 'w') as modified: modified.write(\"http://yann.lecun.com/exdb/mnist/\\n\" + data)"
   ]
  },
  {
   "cell_type": "code",
   "execution_count": null,
   "metadata": {
    "collapsed": false
   },
   "outputs": [],
   "source": [
    "# Letters\n",
    "filename = '{}/letters.csv'.format(datasetsDir)\n",
    "from sklearn.datasets import fetch_mldata\n",
    "faces = fetch_mldata('datasets-uci-letter')\n",
    "y, X = faces.data[:, 0], faces.target.T\n",
    "y = np.array(list(map(lambda x: x[0], y)))\n",
    "print(X.shape, y.shape)\n",
    "xxx = pd.DataFrame(X)\n",
    "xxx['class'] = pd.Series(y, index=xxx.index)\n",
    "xxx.to_csv(filename, index=False)\n",
    "with open(filename, 'r') as original: data = original.read()\n",
    "with open(filename, 'w') as modified: modified.write(\"http://scikit-learn.org/stable/modules/generated/sklearn.datasets.load_digits.html\\n\" + data)"
   ]
  },
  {
   "cell_type": "code",
   "execution_count": null,
   "metadata": {
    "collapsed": false
   },
   "outputs": [],
   "source": [
    "# Digits6\n",
    "filename = '{}/digits6.csv'.format(datasetsDir)\n",
    "from sklearn.datasets import load_digits\n",
    "X, y = load_digits(n_class=6, return_X_y=True)\n",
    "print(X.shape, y.shape)\n",
    "xxx = pd.DataFrame(X)\n",
    "xxx['class'] = pd.Series(y, index=xxx.index)\n",
    "xxx.to_csv(filename, index=False)\n",
    "with open(filename, 'r') as original: data = original.read()\n",
    "with open(filename, 'w') as modified: modified.write(\"http://scikit-learn.org/stable/modules/generated/sklearn.datasets.load_digits.html#sklearn.datasets.load_digits\\n\" + data)"
   ]
  },
  {
   "cell_type": "code",
   "execution_count": null,
   "metadata": {
    "collapsed": false
   },
   "outputs": [],
   "source": [
    "# Digits10\n",
    "filename = '{}/digits10.csv'.format(datasetsDir)\n",
    "from sklearn.datasets import load_digits\n",
    "X, y = load_digits(n_class=10, return_X_y=True)\n",
    "print(X.shape, y.shape)\n",
    "xxx = pd.DataFrame(X)\n",
    "xxx['class'] = pd.Series(y, index=xxx.index)\n",
    "xxx.to_csv(filename, index=False)\n",
    "with open(filename, 'r') as original: data = original.read()\n",
    "with open(filename, 'w') as modified: modified.write(\"http://scikit-learn.org/stable/modules/generated/sklearn.datasets.load_digits.html#sklearn.datasets.load_digits\\n\" + data)"
   ]
  },
  {
   "cell_type": "code",
   "execution_count": null,
   "metadata": {
    "collapsed": true
   },
   "outputs": [],
   "source": []
  },
  {
   "cell_type": "code",
   "execution_count": null,
   "metadata": {
    "collapsed": false
   },
   "outputs": [],
   "source": [
    "data = pd.read_csv(filename, sep=',', skiprows=1, header=0)\n",
    "y = data['class']\n",
    "X = data.drop(['class'], axis=1).values\n",
    "X.shape, y.shape"
   ]
  },
  {
   "cell_type": "code",
   "execution_count": null,
   "metadata": {
    "collapsed": true
   },
   "outputs": [],
   "source": []
  }
 ],
 "metadata": {
  "kernelspec": {
   "display_name": "Python [conda root]",
   "language": "python",
   "name": "conda-root-py"
  },
  "language_info": {
   "codemirror_mode": {
    "name": "ipython",
    "version": 3
   },
   "file_extension": ".py",
   "mimetype": "text/x-python",
   "name": "python",
   "nbconvert_exporter": "python",
   "pygments_lexer": "ipython3",
   "version": "3.5.2"
  }
 },
 "nbformat": 4,
 "nbformat_minor": 1
}
