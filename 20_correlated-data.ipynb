{
 "cells": [
  {
   "cell_type": "code",
   "execution_count": null,
   "metadata": {
    "collapsed": true
   },
   "outputs": [],
   "source": [
    "import numpy as np\n",
    "import matplotlib.pyplot as plt\n",
    "from matplotlib.colors import LogNorm\n",
    "from sklearn import mixture\n",
    "%matplotlib inline\n",
    "\n",
    "from plotting.plots import *\n",
    "\n",
    "# generate random sample, two components\n",
    "np.random.seed(0)"
   ]
  },
  {
   "cell_type": "code",
   "execution_count": null,
   "metadata": {
    "collapsed": false
   },
   "outputs": [],
   "source": [
    "n_samples = 300\n",
    "\n",
    "# generate spherical data centered on (20, 20)\n",
    "shifted_gaussian = np.random.randn(n_samples, 2) + np.array([20, 20])\n",
    "\n",
    "# generate zero centered stretched Gaussian data\n",
    "C = np.array([[0., -0.4], [3, .6]])\n",
    "stretched_gaussian = np.dot(np.random.randn(n_samples, 2), C)\n",
    "\n",
    "# concatenate the two datasets into the final training set\n",
    "X_train = np.vstack([shifted_gaussian, stretched_gaussian])\n",
    "X_train = stretched_gaussian\n",
    "X_o = np.array([[0,1], [2,0], [0,0]])\n",
    "\n",
    "# fit a Gaussian Mixture Model with two components\n",
    "clf = mixture.GaussianMixture(n_components=1, covariance_type='full')\n",
    "clf.fit(X_train)\n",
    "\n",
    "# display predicted scores by the model as a contour plot\n",
    "x = np.linspace(-10., 10.)\n",
    "y = np.linspace(-2.5, 2.5)\n",
    "X, Y = np.meshgrid(x, y)\n",
    "XX = np.array([X.ravel(), Y.ravel()]).T\n",
    "Z = -clf.score_samples(XX)\n",
    "Z = Z.reshape(X.shape)\n",
    "\n",
    "CS = plt.contour(X, Y, Z, cmap=plt.cm.RdBu, levels=np.logspace(0, 1, 6), linewidths=(1,))\n",
    "# CB = plt.colorbar(CS, shrink=0.8, extend='both')\n",
    "plt.scatter(X_train[:, 0], X_train[:, 1], 5)\n",
    "plt.plot(X_o[:, 0], X_o[:, 1], 'or')\n",
    "\n",
    "arrowd = dict(\n",
    "    arrowstyle=\"wedge,tail_width=1.\",\n",
    "    fc=(1.0, 0.7, 0.7, .5), ec=(1., .7, .7, .0),\n",
    "    patchA=None, #patchB=el,\n",
    "    relpos=(0.2, 0.8),\n",
    "    connectionstyle=\"arc3,rad=-0.1\"\n",
    ")\n",
    "\n",
    "commond = dict(\n",
    "    xycoords='data', textcoords='offset points',\n",
    "    bbox=dict(boxstyle=\"round\", fc=(1., .7, .7), ec=(.0, .0, .0, 0), ),\n",
    "    arrowprops=arrowd\n",
    ")\n",
    "\n",
    "plt.annotate('O', xy=(X_o[2,0], X_o[2,1]), xytext=(-8, -50), size=20, **commond)\n",
    "plt.annotate('A', xy=(X_o[1,0], X_o[1,1]), xytext=(20, -40), size=20, **commond)\n",
    "plt.annotate('B', xy=(X_o[0,0], X_o[0,1]), xytext=(-50, 10), size=20, **commond)\n",
    "\n",
    "\n",
    "# plt.title('Correlated data')\n",
    "plt.axis('tight')\n",
    "\n",
    "commonStyles(plt.gca())\n",
    "plt.gcf().set_size_inches(10, 2.5)\n",
    "plt.tight_layout(pad=0.0, w_pad=1.0, h_pad=3.0)\n",
    "plt.savefig('../thesis-distance-metric-learning/graphs/correlated_data.pdf')\n",
    "plt.show()"
   ]
  },
  {
   "cell_type": "code",
   "execution_count": null,
   "metadata": {
    "collapsed": false
   },
   "outputs": [],
   "source": [
    "from metric_learn import Covariance\n",
    "\n",
    "# generate random sample, two components\n",
    "np.random.seed(0)\n",
    "\n",
    "n_samples = 300\n",
    "\n",
    "# generate spherical data centered on (20, 20)\n",
    "shifted_gaussian = np.random.randn(n_samples, 2) + np.array([20, 20])\n",
    "\n",
    "# generate zero centered stretched Gaussian data\n",
    "C = np.array([[0., -0.4], [3, .6]])\n",
    "stretched_gaussian = np.dot(np.random.randn(n_samples, 2), C)\n",
    "\n",
    "# concatenate the two datasets into the final training set\n",
    "X_train = np.vstack([shifted_gaussian, stretched_gaussian])\n",
    "tr = Covariance()\n",
    "X_train_t = tr.fit_transform(stretched_gaussian)\n",
    "X_o = np.array([[0,1], [2,0], [0,0]])\n",
    "X_o = tr.transform(X_o)\n",
    "\n",
    "# fit a Gaussian Mixture Model with two components\n",
    "clf = mixture.GaussianMixture(n_components=1, covariance_type='full')\n",
    "clf.fit(X_train_t)\n",
    "\n",
    "# display predicted scores by the model as a contour plot\n",
    "x = np.linspace(-10., 10.)\n",
    "y = np.linspace(-2.5, 2.5)\n",
    "X, Y = np.meshgrid(x, y)\n",
    "XX = np.array([X.ravel(), Y.ravel()]).T\n",
    "Z = -clf.score_samples(XX)\n",
    "Z = Z.reshape(X.shape)\n",
    "\n",
    "CS = plt.contour(X, Y, Z, cmap=plt.cm.RdBu, levels=np.logspace(0, 1, 6), linewidths=(1,))\n",
    "# CB = plt.colorbar(CS, shrink=0.8, extend='both')\n",
    "plt.scatter(X_train_t[:, 0], X_train_t[:, 1], 5)\n",
    "plt.plot(X_o[:, 0], X_o[:, 1], 'or')\n",
    "\n",
    "plt.annotate('O', xy=(X_o[2,0], X_o[2,1]), xytext=(-60, -50), size=20, **commond)\n",
    "plt.annotate('A', xy=(X_o[1,0], X_o[1,1]), xytext=(40, -30), size=20, **commond)\n",
    "plt.annotate('B', xy=(X_o[0,0], X_o[0,1]), xytext=(40, -20), size=20, **commond)\n",
    "\n",
    "# plt.title('Correlated data')\n",
    "plt.axis('tight')\n",
    "\n",
    "commonStyles(plt.gca())\n",
    "plt.gcf().set_size_inches(10, 2.5)\n",
    "plt.tight_layout(pad=0.0, w_pad=1.0, h_pad=3.0)\n",
    "plt.savefig('../thesis-distance-metric-learning/graphs/uncorrelated_data.pdf')\n",
    "plt.show()"
   ]
  },
  {
   "cell_type": "code",
   "execution_count": null,
   "metadata": {
    "collapsed": false
   },
   "outputs": [],
   "source": [
    "from sklearn.decomposition import PCA\n",
    "\n",
    "pca = PCA(n_components=2, whiten=True)\n",
    "X_train_t = pca.fit_transform(stretched_gaussian)\n",
    "X_o = np.array([[0,1], [2,0], [0,0]])\n",
    "X_o = tr.transform(X_o)\n",
    "\n",
    "# fit a Gaussian Mixture Model with two components\n",
    "clf = mixture.GaussianMixture(n_components=1, covariance_type='full')\n",
    "clf.fit(X_train_t)\n",
    "\n",
    "# display predicted scores by the model as a contour plot\n",
    "x = np.linspace(-10., 10.)\n",
    "y = np.linspace(-2.5, 2.5)\n",
    "X, Y = np.meshgrid(x, y)\n",
    "XX = np.array([X.ravel(), Y.ravel()]).T\n",
    "Z = -clf.score_samples(XX)\n",
    "Z = Z.reshape(X.shape)\n",
    "\n",
    "CS = plt.contour(X, Y, Z, cmap=plt.cm.RdBu, levels=np.logspace(0, 1, 6), linewidths=(1,))\n",
    "# CB = plt.colorbar(CS, shrink=0.8, extend='both')\n",
    "plt.scatter(X_train_t[:, 0], X_train_t[:, 1], 5)\n",
    "plt.plot(X_o[:, 0], X_o[:, 1], 'or')\n",
    "\n",
    "# plt.title('Correlated data')\n",
    "plt.axis('tight')\n",
    "\n",
    "commonStyles(plt.gca())\n",
    "plt.gcf().set_size_inches(10, 2.5)\n",
    "plt.tight_layout(pad=0.0, w_pad=1.0, h_pad=3.0)\n",
    "# plt.savefig('../thesis-distance-metric-learning/thesis/graphs/uncorrelated_data.pdf')\n",
    "plt.show()"
   ]
  },
  {
   "cell_type": "code",
   "execution_count": null,
   "metadata": {
    "collapsed": false
   },
   "outputs": [],
   "source": [
    "clf.precisions_cholesky_"
   ]
  },
  {
   "cell_type": "code",
   "execution_count": null,
   "metadata": {
    "collapsed": false
   },
   "outputs": [],
   "source": [
    "tr.M_"
   ]
  },
  {
   "cell_type": "code",
   "execution_count": null,
   "metadata": {
    "collapsed": false
   },
   "outputs": [],
   "source": [
    "tr.transformer()"
   ]
  },
  {
   "cell_type": "code",
   "execution_count": null,
   "metadata": {
    "collapsed": true
   },
   "outputs": [],
   "source": [
    "from sklearn.decomposition import PCA"
   ]
  },
  {
   "cell_type": "code",
   "execution_count": null,
   "metadata": {
    "collapsed": true
   },
   "outputs": [],
   "source": [
    "pca = PCA(whiten=True)"
   ]
  },
  {
   "cell_type": "code",
   "execution_count": null,
   "metadata": {
    "collapsed": false
   },
   "outputs": [],
   "source": [
    "pca.fit_transform(X_train)"
   ]
  },
  {
   "cell_type": "code",
   "execution_count": null,
   "metadata": {
    "collapsed": false
   },
   "outputs": [],
   "source": [
    "pca.get_covariance()"
   ]
  },
  {
   "cell_type": "code",
   "execution_count": null,
   "metadata": {
    "collapsed": false
   },
   "outputs": [],
   "source": [
    "pca.components_"
   ]
  },
  {
   "cell_type": "code",
   "execution_count": null,
   "metadata": {
    "collapsed": true
   },
   "outputs": [],
   "source": []
  }
 ],
 "metadata": {
  "kernelspec": {
   "display_name": "Python [default]",
   "language": "python",
   "name": "python3"
  },
  "language_info": {
   "codemirror_mode": {
    "name": "ipython",
    "version": 3
   },
   "file_extension": ".py",
   "mimetype": "text/x-python",
   "name": "python",
   "nbconvert_exporter": "python",
   "pygments_lexer": "ipython3",
   "version": "3.5.2"
  }
 },
 "nbformat": 4,
 "nbformat_minor": 0
}
