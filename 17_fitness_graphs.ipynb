{
 "cells": [
  {
   "cell_type": "markdown",
   "metadata": {},
   "source": [
    "Fitness evaluation\n",
    "========"
   ]
  },
  {
   "cell_type": "code",
   "execution_count": null,
   "metadata": {
    "collapsed": false
   },
   "outputs": [],
   "source": [
    "import numpy as np\n",
    "import pandas as pd\n",
    "import glob, os, os.path, sys, warnings, math, time, re\n",
    "\n",
    "%matplotlib inline\n",
    "import matplotlib.pyplot as plt\n",
    "from plotting.plots import *\n",
    "\n",
    "from techniques import sortedTechniques\n",
    "\n",
    "from sklearn.model_selection import train_test_split\n",
    "from sklearn.neighbors import KNeighborsClassifier\n",
    "from sklearn.pipeline import Pipeline\n",
    "from sklearn.preprocessing import Imputer, StandardScaler, LabelEncoder\n",
    "from sklearn.decomposition import PCA\n",
    "from sklearn.manifold import TSNE\n",
    "\n",
    "from metric_learn import LMNN, NCA, LFDA, Covariance, MetricEvolution, NeuralNetworkTransformer, FullMatrixTransformer, DiagonalMatrixTransformer\n",
    "from metric_learn import ITML_Supervised, SDML_Supervised, LSML_Supervised, RCA_Supervised\n",
    "ME = MetricEvolution\n",
    "\n",
    "datasetsDirectory = 'datasets'\n",
    "resultsDirectory = 'results/fitness'\n",
    "graphsDirectory = 'img/fitness'\n",
    "\n",
    "if not os.path.exists(resultsDirectory):\n",
    "    os.makedirs(resultsDirectory)\n",
    "    \n",
    "if not os.path.exists(graphsDirectory):\n",
    "    os.makedirs(graphsDirectory)\n",
    "\n",
    "# np.set_printoptions(precision=7, suppress=True, threshold=np.nan)\n",
    "np.set_printoptions(formatter={'float': lambda x: \"{0:0.5f}\".format(x)})\n",
    "\n",
    "import pickle\n",
    "def save_obj(obj, name):\n",
    "    with open('{}/{}.pkl'.format(resultsDirectory, name), 'wb') as f:\n",
    "        pickle.dump(obj, f, pickle.HIGHEST_PROTOCOL)\n",
    "\n",
    "def load_obj(name):\n",
    "    with open('{}/{}.pkl'.format(resultsDirectory, name), 'rb') as f:\n",
    "        return pickle.load(f)\n",
    "    \n",
    "def exists_obj(name):\n",
    "    return os.path.exists('{}/{}.pkl'.format(resultsDirectory, name))"
   ]
  },
  {
   "cell_type": "code",
   "execution_count": null,
   "metadata": {
    "collapsed": false
   },
   "outputs": [],
   "source": [
    "import glob, os\n",
    "\n",
    "datasets = []\n",
    "for file in glob.glob(\"{}/*.csv\".format(datasetsDirectory)):\n",
    "    datasets.append(file)\n",
    "datasets.sort()\n",
    "\n",
    "# datasets.remove('datasets/gaussians.csv')\n",
    "# datasets.remove('datasets/ionosphere.csv')\n",
    "# datasets.remove('datasets/mice-protein.csv')\n",
    "# datasets.remove('datasets/sonar.csv')\n",
    "# datasets.remove('datasets/soybean-large.csv')\n",
    "# datasets.remove('datasets/digits6.csv')\n",
    "# datasets.remove('datasets/digits10.csv')\n",
    "# datasets.remove('datasets/mice-protein.csv')\n",
    "# datasets.remove('datasets/sonar.csv')\n",
    "\n",
    "datasets = ['datasets/digits6.csv','datasets/digits10.csv','datasets/mice-protein.csv','datasets/sonar.csv']\n",
    "\n",
    "for x in datasets:\n",
    "    X = pd.read_csv(x, sep=',', skiprows=1, header=0)\n",
    "    print(x, X.shape, X['class'].nunique())\n",
    "    \n",
    "# datasets = ['datasets/breast-cancer.csv']"
   ]
  },
  {
   "cell_type": "code",
   "execution_count": null,
   "metadata": {
    "collapsed": true
   },
   "outputs": [],
   "source": [
    "def evaluateAllIndividuals(me, individuals, X_train, y_train, X_test, y_test, dim=None, k=4):\n",
    "    results = []\n",
    "    for individual in individuals:\n",
    "        individual = me._strategy.cut_individual(individual)\n",
    "        if X_train.shape[1]==len(individual):\n",
    "            tr = DiagonalMatrixTransformer()\n",
    "        else:\n",
    "            tr = FullMatrixTransformer(n_components=dim)\n",
    "        tr.fit(X_train, y_train, individual)\n",
    "        knn = KNeighborsClassifier(n_neighbors=k)\n",
    "        knn.fit(tr.transform(X_train), y_train)\n",
    "        results.append(knn.score(tr.transform(X_test), y_test))\n",
    "    return results\n",
    "\n",
    "from operator import attrgetter\n",
    "def select_best_worst_mean(individuals):\n",
    "    x = sorted(individuals, key=attrgetter(\"fitness\"))\n",
    "    return x[-1], x[0], x[len(x)//2]"
   ]
  },
  {
   "cell_type": "code",
   "execution_count": null,
   "metadata": {
    "collapsed": false
   },
   "outputs": [],
   "source": [
    "common_params = {\n",
    "    's__stats': 'identity',\n",
    "    's__n_gen': 1000,\n",
    "    'transformer': 'diagonal',\n",
    "}\n",
    "methods = [\n",
    "    ('stand+CMAES+kNN', MetricEvolution(**common_params, strategy='cmaes', fitnesses=[('knn', {'n_neighbors':8})])),\n",
    "    ('stand+CMAESFme+kNN', MetricEvolution(**common_params, strategy='cmaes', fitnesses='wfme')),\n",
    "    ('stand+JDEkNN+kNN', MetricEvolution(**common_params, strategy='jde', fitnesses=[('knn', {'n_neighbors':8})])),\n",
    "    ('stand+JDE+kNN', MetricEvolution(**common_params, strategy='jde', fitnesses='wfme')),\n",
    "]\n",
    "\n",
    "for filename in datasets:\n",
    "    \n",
    "    data = pd.read_csv(filename, sep=',', skiprows=1, header=0)\n",
    "\n",
    "    y = data['class']\n",
    "    X = data.drop(['class'], axis=1).values\n",
    "\n",
    "    X_train, X_test, y_train, y_test = train_test_split(X, y, test_size=0.33)\n",
    "\n",
    "    le = LabelEncoder()\n",
    "    y = le.fit_transform(y)\n",
    "\n",
    "    imputer = Imputer(missing_values='NaN', strategy='mean', axis=0, verbose=0, copy=False)\n",
    "    X_train = imputer.fit_transform(X_train)\n",
    "    X_test = imputer.transform(X_test)\n",
    "    \n",
    "    standard = StandardScaler()\n",
    "    X_train = standard.fit_transform(X_train)\n",
    "    X_test = standard.transform(X_test)\n",
    "\n",
    "    knn = KNeighborsClassifier(n_neighbors=4)\n",
    "    knn.fit(X_train, y_train)\n",
    "    baseline = knn.score(X_test, y_test)\n",
    "    \n",
    "    for methodName, method in methods:\n",
    "        datasetName = filename[len(datasetsDirectory)+1:-4]\n",
    "\n",
    "        diagParam = '*d' if common_params['transformer']=='diagonal' else ''\n",
    "        dump_filename = '{}__{}{}'.format(datasetName, methodName, diagParam)\n",
    "        if exists_obj(dump_filename):\n",
    "            print('skipping {}, already exists'.format(dump_filename))\n",
    "            continue\n",
    "\n",
    "        print(\"starting dataset {} {} using {}\".format(datasetName, X.shape, methodName))\n",
    "\n",
    "        try:\n",
    "            start = time.clock()\n",
    "\n",
    "            me = method\n",
    "            me.fit(X_train, y_train)\n",
    "\n",
    "            end = time.clock()\n",
    "\n",
    "            logbook = me._strategy.logbook\n",
    "            individuals = np.asarray([[ ind for ind in x['id']] for x in logbook])\n",
    "            fitnesses = np.asarray([[ ind.fitness.wvalues for ind in x['id']] for x in logbook])\n",
    "\n",
    "            print(individuals.shape)\n",
    "\n",
    "            best,worst,mean = zip(*[select_best_worst_mean(x['id']) for x in logbook])\n",
    "            best,worst,mean = np.asarray(best),np.asarray(worst),np.asarray(mean)\n",
    "\n",
    "            best_results = evaluateAllIndividuals(me, best, X_train, y_train, X_test, y_test)\n",
    "            worst_results = evaluateAllIndividuals(me, worst, X_train, y_train, X_test, y_test)\n",
    "            mean_results = evaluateAllIndividuals(me, mean, X_train, y_train, X_test, y_test)\n",
    "\n",
    "    # SORTING MULTIDIMENSIONAL ARRAY USING ARGMAX\n",
    "    # index = fitnesses.argsort(axis=1)\n",
    "    # x, y, z = np.indices(index.shape)\n",
    "    # fitnesses.shape, fitnesses[x, index, z].argmin(axis=1).shape\n",
    "\n",
    "            save_obj({\n",
    "                    'fitnesses': fitnesses,\n",
    "    #                 'individuals': individuals,\n",
    "                    'best_results': best_results,\n",
    "                    'worst_results': worst_results,\n",
    "                    'mean_results': mean_results,\n",
    "                    'best_individuals': np.asarray(best),\n",
    "                    'worst_individuals': np.asarray(worst),\n",
    "                    'mean_individuals': np.asarray(mean),\n",
    "                    'runtime': end-start,\n",
    "                    'baseline': baseline,\n",
    "                    'X_train': X_train,\n",
    "                    'y_train': y_train,\n",
    "                    'X_test': X_test,\n",
    "                    'y_test': y_test,\n",
    "                }, dump_filename)\n",
    "        except:\n",
    "            print(\"Unexpected error:\", sys.exc_info()[0])"
   ]
  },
  {
   "cell_type": "code",
   "execution_count": null,
   "metadata": {
    "collapsed": false
   },
   "outputs": [],
   "source": [
    "results = []\n",
    "for file in glob.glob(\"{}/*.pkl\".format(resultsDirectory)):\n",
    "    results.append(file)\n",
    "results.sort()\n",
    "\n",
    "resultsByDataset = {}\n",
    "for x in results:\n",
    "    _,_,filename = re.split('/|\\\\\\\\', x)\n",
    "    datasetName,methodName = filename[:-4].split('__')\n",
    "    \n",
    "    if datasetName not in resultsByDataset:\n",
    "        resultsByDataset[datasetName] = {}\n",
    "\n",
    "    resultsByDataset[datasetName][methodName] = load_obj(filename[:-4])"
   ]
  },
  {
   "cell_type": "code",
   "execution_count": null,
   "metadata": {
    "collapsed": false
   },
   "outputs": [],
   "source": [
    "methodTitles = list(filter(lambda x:x[0][:5]=='stand', sortedTechniques))[-4:]"
   ]
  },
  {
   "cell_type": "code",
   "execution_count": null,
   "metadata": {
    "collapsed": false,
    "scrolled": false
   },
   "outputs": [],
   "source": [
    "legend = [\n",
    "    \"Maximal fitness\",\n",
    "    \"Median fitness\",\n",
    "    \"Successrate using best\",\n",
    "    \"Successrate using worst\",\n",
    "#     \"Successrate using mean\",\n",
    "    \"Minimal fitness\",\n",
    "    \"Baseline successrate\",\n",
    "]\n",
    "    \n",
    "for datasetName, alldata in sorted(resultsByDataset.items()):\n",
    "    N = sum([1 if x in alldata else 0 for x,y in methodTitles])\n",
    "    \n",
    "    fig, axes = startGraphing('`{}` dataset'.format(datasetName), 4, N, size=(10, 2), sharey=False)\n",
    "    i = 0\n",
    "    for method, title in methodTitles:\n",
    "        \n",
    "        if method not in alldata:\n",
    "            continue\n",
    "        \n",
    "        data = alldata[method]\n",
    "#         print(datasetName, title, math.ceil(data['runtime']))\n",
    "        plotFitness(axes[i],**data, title=title, min_gen=0, max_gen=1000, sigma=10)\n",
    "        i += 1\n",
    "\n",
    "    endGraphing(fig, legend, '{}/{}'.format(graphsDirectory, datasetName))"
   ]
  },
  {
   "cell_type": "code",
   "execution_count": null,
   "metadata": {
    "collapsed": true
   },
   "outputs": [],
   "source": []
  },
  {
   "cell_type": "code",
   "execution_count": null,
   "metadata": {
    "collapsed": true
   },
   "outputs": [],
   "source": []
  },
  {
   "cell_type": "code",
   "execution_count": null,
   "metadata": {
    "collapsed": true
   },
   "outputs": [],
   "source": [
    "# ## REMOVING item from file\n",
    "# results = []\n",
    "# for file in glob.glob(\"{}/*.pkl\".format(resultsDirectory)):\n",
    "#     results.append(file)\n",
    "# results.sort()\n",
    "\n",
    "# resultsByDataset = {}\n",
    "# for x in results:\n",
    "#     _,_,filename = re.split('/|\\\\\\\\', x)\n",
    "#     datasetName,methodName = filename[:-4].split('__')\n",
    "\n",
    "#     X = load_obj(filename[:-4])\n",
    "#     X.pop('individuals')\n",
    "#     save_obj(X, filename[:-4])"
   ]
  }
 ],
 "metadata": {
  "anaconda-cloud": {},
  "kernelspec": {
   "display_name": "Python [default]",
   "language": "python",
   "name": "python3"
  },
  "language_info": {
   "codemirror_mode": {
    "name": "ipython",
    "version": 3
   },
   "file_extension": ".py",
   "mimetype": "text/x-python",
   "name": "python",
   "nbconvert_exporter": "python",
   "pygments_lexer": "ipython3",
   "version": "3.5.2"
  }
 },
 "nbformat": 4,
 "nbformat_minor": 0
}
