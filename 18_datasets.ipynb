{
 "cells": [
  {
   "cell_type": "markdown",
   "metadata": {},
   "source": [
    "Datasets\n",
    "========"
   ]
  },
  {
   "cell_type": "code",
   "execution_count": null,
   "metadata": {
    "collapsed": false
   },
   "outputs": [],
   "source": [
    "import numpy as np\n",
    "import pandas as pd\n",
    "import glob\n",
    "import os.path\n",
    "import sys\n",
    "\n",
    "# np.set_printoptions(precision=7, suppress=True, threshold=np.nan)\n",
    "np.set_printoptions(formatter={'float': lambda x: \"{0:0.5f}\".format(x)})\n",
    "\n",
    "datasetsDirectory = 'datasets'"
   ]
  },
  {
   "cell_type": "code",
   "execution_count": null,
   "metadata": {
    "collapsed": false
   },
   "outputs": [],
   "source": [
    "import glob, os\n",
    "\n",
    "datasets = []\n",
    "for file in glob.glob(\"{}/*.csv\".format(datasetsDirectory)):\n",
    "    datasets.append(file)\n",
    "datasets.sort()\n",
    "\n",
    "for x in datasets:\n",
    "    X = pd.read_csv(x, sep=',', skiprows=1, header=0)\n",
    "    print(x, X.shape, X['class'].nunique())"
   ]
  },
  {
   "cell_type": "code",
   "execution_count": null,
   "metadata": {
    "collapsed": false
   },
   "outputs": [],
   "source": [
    "for x in datasets:\n",
    "    X = pd.read_csv(x, sep=',', skiprows=1, header=0)\n",
    "    X = X.drop(['class'], axis=1)\n",
    "    na = X.isnull().sum().sum() or \"\"\n",
    "    X = X.fillna(method='backfill', axis=1)\n",
    "    X = X.fillna(method='pad', axis=1)\n",
    "#     print(\"{} & {} & {:.2f} & {:.2f} & {:.2f} & {:.2f} \\\\\\\\\".format(x[9:-4], na, X.values.min(), X.values.max(), X.values.mean(), X.values.std()))\n",
    "    print(\"{} & {:.2f} & {:.2f} & {:.2f} & {:.2f} \\\\\\\\\".format(x[9:-4], X.values.min(), X.values.max(), X.values.mean(), X.values.std()))"
   ]
  },
  {
   "cell_type": "code",
   "execution_count": null,
   "metadata": {
    "collapsed": false
   },
   "outputs": [],
   "source": []
  }
 ],
 "metadata": {
  "anaconda-cloud": {},
  "kernelspec": {
   "display_name": "Python 3",
   "language": "python",
   "name": "python3"
  },
  "language_info": {
   "codemirror_mode": {
    "name": "ipython",
    "version": 3
   },
   "file_extension": ".py",
   "mimetype": "text/x-python",
   "name": "python",
   "nbconvert_exporter": "python",
   "pygments_lexer": "ipython3",
   "version": "3.5.2"
  }
 },
 "nbformat": 4,
 "nbformat_minor": 0
}
