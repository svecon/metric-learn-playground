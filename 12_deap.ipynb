{
 "cells": [
  {
   "cell_type": "code",
   "execution_count": null,
   "metadata": {
    "collapsed": false
   },
   "outputs": [],
   "source": [
    "import array\n",
    "import random\n",
    "import numpy as np\n",
    "import pandas as pd\n",
    "import glob\n",
    "import os.path\n",
    "import sys\n",
    "from datetime import datetime\n",
    "\n",
    "from sklearn.neighbors import KNeighborsClassifier\n",
    "from sklearn.pipeline import Pipeline\n",
    "from sklearn.preprocessing import Imputer, StandardScaler, LabelEncoder\n",
    "from sklearn.model_selection import train_test_split\n",
    "from sklearn.metrics import confusion_matrix, precision_recall_fscore_support, mean_squared_error\n",
    "\n",
    "from metric_learn import LMNN, NCA, LFDA\n",
    "#from metric_learn import ITML_Supervised, SDML_Supervised, LSML_Supervised, RCA_Supervised\n",
    "\n",
    "from deap import algorithms\n",
    "from deap import base\n",
    "from deap import benchmarks\n",
    "from deap import cma\n",
    "from deap import creator\n",
    "from deap import tools\n",
    "\n",
    "from concurrent.futures import ThreadPoolExecutor "
   ]
  },
  {
   "cell_type": "code",
   "execution_count": null,
   "metadata": {
    "collapsed": false
   },
   "outputs": [],
   "source": [
    "data = pd.read_csv('datasets/breast-cancer-wisconsin.csv', sep=',', skiprows=1, header=0)\n",
    "\n",
    "y = data['class']\n",
    "X = data.drop(['class'], axis=1).values\n",
    "\n",
    "# Problem size\n",
    "N=X.shape[1]\n",
    "\n",
    "X.shape, y.shape"
   ]
  },
  {
   "cell_type": "code",
   "execution_count": null,
   "metadata": {
    "collapsed": false
   },
   "outputs": [],
   "source": [
    "X_train, X_test, y_train, y_test = train_test_split(X, y, test_size=0.10, random_state=47)\n",
    "X_train.shape, y_train.shape, X_test.shape, y_test.shape"
   ]
  },
  {
   "cell_type": "code",
   "execution_count": null,
   "metadata": {
    "collapsed": true
   },
   "outputs": [],
   "source": [
    "imputer = Imputer(missing_values='NaN', strategy='mean', axis=0, verbose=0, copy=False)\n",
    "X_train = imputer.fit_transform(X_train)\n",
    "X_test = imputer.transform(X_test)"
   ]
  },
  {
   "cell_type": "code",
   "execution_count": null,
   "metadata": {
    "collapsed": false
   },
   "outputs": [],
   "source": [
    "knn = KNeighborsClassifier(n_neighbors=1, n_jobs=-1)\n",
    "knn.fit(X_train, y_train)\n",
    "knn.score(X_test, y_test)"
   ]
  },
  {
   "cell_type": "code",
   "execution_count": null,
   "metadata": {
    "collapsed": false
   },
   "outputs": [],
   "source": [
    "class ESMetric():\n",
    "    def __init__(self, L, N, isFull=False):\n",
    "        self.params = {}\n",
    "        self.N = N\n",
    "        if N == len(L):\n",
    "            self.L = np.diag(L)\n",
    "        elif N**2 == len(L):\n",
    "            self.L = np.reshape(L, (N, N))\n",
    "        else:\n",
    "            raise Error('Invalid size of N')\n",
    "\n",
    "    def transform(self, X):\n",
    "        return X.dot(self.transformer().T)\n",
    "        \n",
    "    def transformer(self):\n",
    "        return self.L"
   ]
  },
  {
   "cell_type": "code",
   "execution_count": null,
   "metadata": {
    "collapsed": true
   },
   "outputs": [],
   "source": [
    "def knnEvaluation(ind):\n",
    "    es = ESMetric(ind, N)\n",
    "    X_train_trans = es.transform(X_train)\n",
    "    X_test_trans = es.transform(X_test)\n",
    "    knn = KNeighborsClassifier(n_neighbors=8, n_jobs=-1)\n",
    "    knn.fit(X_train_trans, y_train)\n",
    "    score = knn.score(X_test_trans, y_test)\n",
    "#     print(score)\n",
    "    return [score]\n",
    "    return [score - mean_squared_error(ind, np.ones(N))]\n",
    "    return [score - np.sum(np.absolute(ind))]"
   ]
  },
  {
   "cell_type": "code",
   "execution_count": null,
   "metadata": {
    "collapsed": false
   },
   "outputs": [],
   "source": [
    "creator.create(\"FitnessMin\", base.Fitness, weights=(1.0,))\n",
    "creator.create(\"Individual\", list, fitness=creator.FitnessMin)\n",
    "\n",
    "toolbox = base.Toolbox()\n",
    "toolbox.register(\"evaluate\", knnEvaluation)\n",
    "toolbox.register(\"map\", ThreadPoolExecutor(max_workers=None).map)"
   ]
  },
  {
   "cell_type": "code",
   "execution_count": null,
   "metadata": {
    "collapsed": false
   },
   "outputs": [],
   "source": [
    "# The cma module uses the numpy random number generator\n",
    "np.random.seed(128)\n",
    "\n",
    "# The CMA-ES algorithm takes a population of one individual as argument\n",
    "# The centroid is set to a vector of 5.0 see http://www.lri.fr/~hansen/cmaes_inmatlab.html\n",
    "# for more details about the rastrigin and other tests for CMA-ES\n",
    "strategy = cma.Strategy(centroid=[1.0]*N*N, sigma=5.0) # lambda_=20*N\n",
    "toolbox.register(\"generate\", strategy.generate, creator.Individual)\n",
    "toolbox.register(\"update\", strategy.update)\n",
    "\n",
    "hof = tools.HallOfFame(1)\n",
    "stats = tools.Statistics(lambda ind: ind.fitness.values)\n",
    "stats.register(\"avg\", np.mean)\n",
    "# stats.register(\"std\", numpy.std)\n",
    "# stats.register(\"min\", numpy.min)\n",
    "stats.register(\"max\", np.max)\n",
    "#logger = tools.EvolutionLogger(stats.functions.keys())"
   ]
  },
  {
   "cell_type": "code",
   "execution_count": null,
   "metadata": {
    "collapsed": false,
    "scrolled": true
   },
   "outputs": [],
   "source": [
    "# The CMA-ES algorithm converge with good probability with those settings\n",
    "pop, logbook = algorithms.eaGenerateUpdate(toolbox, ngen=250, stats=stats, halloffame=hof)"
   ]
  },
  {
   "cell_type": "code",
   "execution_count": null,
   "metadata": {
    "collapsed": false
   },
   "outputs": [],
   "source": [
    "# print \"Best individual is %s, %s\" % (hof[0], hof[0].fitness.values)\n",
    "hof[0].fitness.values[0]\n",
    "hof[0], knnEvaluation(np.abs(hof[0]))\n",
    "knnEvaluation(hof[0]), hof[0]"
   ]
  },
  {
   "cell_type": "code",
   "execution_count": null,
   "metadata": {
    "collapsed": false,
    "scrolled": true
   },
   "outputs": [],
   "source": [
    "pop"
   ]
  },
  {
   "cell_type": "code",
   "execution_count": null,
   "metadata": {
    "collapsed": false
   },
   "outputs": [],
   "source": [
    "logbook"
   ]
  },
  {
   "cell_type": "code",
   "execution_count": null,
   "metadata": {
    "collapsed": false
   },
   "outputs": [],
   "source": []
  },
  {
   "cell_type": "code",
   "execution_count": null,
   "metadata": {
    "collapsed": true
   },
   "outputs": [],
   "source": []
  }
 ],
 "metadata": {
  "kernelspec": {
   "display_name": "Python 3",
   "language": "python",
   "name": "python3"
  },
  "language_info": {
   "codemirror_mode": {
    "name": "ipython",
    "version": 3
   },
   "file_extension": ".py",
   "mimetype": "text/x-python",
   "name": "python",
   "nbconvert_exporter": "python",
   "pygments_lexer": "ipython3",
   "version": "3.5.2"
  }
 },
 "nbformat": 4,
 "nbformat_minor": 1
}
