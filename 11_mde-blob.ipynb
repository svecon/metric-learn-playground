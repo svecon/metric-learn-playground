{
 "cells": [
  {
   "cell_type": "code",
   "execution_count": 1,
   "metadata": {
    "collapsed": true
   },
   "outputs": [],
   "source": [
    "import numpy as np\n",
    "import pandas as pd\n",
    "import glob\n",
    "import os.path\n",
    "import sys\n",
    "from datetime import datetime\n",
    "\n",
    "# from svecon.HierarchicalGridSearchCV import HierarchicalGridSearchCV\n",
    "# from svecon.EmptyTransformer import EmptyTransformer\n",
    "\n",
    "# from sklearn.cross_validation import StratifiedKFold\n",
    "from sklearn.neighbors import KNeighborsClassifier\n",
    "from sklearn.pipeline import Pipeline\n",
    "from sklearn.preprocessing import Imputer, StandardScaler, LabelEncoder\n",
    "from sklearn.metrics import confusion_matrix, precision_recall_fscore_support\n",
    "\n",
    "from metric_learn import LMNN, NCA, LFDA, Covariance\n",
    "from metric_learn import ITML_Supervised, SDML_Supervised, LSML_Supervised, RCA_Supervised"
   ]
  },
  {
   "cell_type": "code",
   "execution_count": 2,
   "metadata": {
    "collapsed": true
   },
   "outputs": [],
   "source": [
    "def firstSmallerThan(threshold):\n",
    "    def firstSmaller(L):\n",
    "        for i,v in enumerate(L):\n",
    "            if v<threshold:\n",
    "                return i,v\n",
    "        return None,None\n",
    "    return firstSmaller\n",
    "\n",
    "def firstHigherThan(threshold):\n",
    "    def firstHigher(L):\n",
    "        for i,v in enumerate(L):\n",
    "            if v>=threshold:\n",
    "                return i,v\n",
    "        return None,None\n",
    "    return firstHigher\n",
    "\n",
    "def findMalwareAndClean(L):\n",
    "    findMalware = firstHigherThan(X_train.shape[0]//2)\n",
    "    findClean =  firstSmallerThan(X_train.shape[0]//2)\n",
    "    \n",
    "    im,vm = findMalware(L)\n",
    "    ic,vc = findClean(L)\n",
    "    return ic,im\n",
    "\n",
    "def timestampToStr(t):\n",
    "    return datetime.fromtimestamp(t).strftime('%Y-%m-%d')\n",
    "\n",
    "def renameColumns(d):\n",
    "    def checkDict(c):\n",
    "        if c in d:\n",
    "            return d[c]\n",
    "        return c\n",
    "    return checkDict\n",
    "\n",
    "def evaluateResults(label, y_true, y_pred):\n",
    "    # TrainSize: 68000\n",
    "    # TestSize: 28000\n",
    "    # Ratio: 1.5000\n",
    "    # MinCln: 96\n",
    "    # MaxMal: 600\n",
    "    # FP: 292 (0.0209)\n",
    "    # FN: 1805 (0.1289)\n",
    "    # TP: 12195 (0.8711)\n",
    "    # TN: 13708 (0.9791)\n",
    "    # Precision: 0.9766\n",
    "    # Recall: 0.8711\n",
    "    # Accuracy: 0.9251\n",
    "    # F1 measure: 0.9208\n",
    "\n",
    "    n = len(y_true)\n",
    "    tn, fp, fn, tp = confusion_matrix(y_true, y_pred).ravel()\n",
    "    precision = tp/(tp+fp)\n",
    "    recall = tp/(tp+fn)\n",
    "    accuracy = (tp+tn)/n\n",
    "    f1 = 2*((precision*recall)/(precision+recall))\n",
    "    \n",
    "    print(\"===== {}\".format(label))\n",
    "    print(\"FP: {}  ({})\".format(fp, fp-292))\n",
    "    print(\"FN: {}  ({})\".format(fn, fn-1805))\n",
    "    print(\"TP: {}  ({})\".format(tp, tp-12195))\n",
    "    print(\"TN: {}  ({})\".format(tn, tn-13708))\n",
    "    print(\"Precision: {}  ({})\".format( 100*precision, 100*(precision-0.9766) ))\n",
    "    print(\"Recall: {}  ({})\".format( 100*recall, 100*(recall-0.8711) ))\n",
    "    print(\"Accuracy: {}  ({})\".format( 100*accuracy, 100*(accuracy-0.9251) ))\n",
    "    print(\"F1 measure: {}  ({})\".format( 100*f1, 100*(f1-0.9208) ))\n",
    "    print()\n",
    "    return {\n",
    "        'fp': fp,\n",
    "        'fn': fn,\n",
    "        'tp': tp,\n",
    "        'tn': tn,\n",
    "        'precision': precision,\n",
    "        'recall': recall,\n",
    "        'accuracy': accuracy,\n",
    "        'f1': f1,\n",
    "    }\n",
    "\n",
    "def gridSearchKNN(label, X_train, y_train, X_test, y_test, transformer=None):\n",
    "    return []\n",
    "    results = []\n",
    "    \n",
    "    if transformer:\n",
    "        X_train_trans = transformer.transform(X_train)\n",
    "        X_test_trans = transformer.transform(X_test)\n",
    "    else:\n",
    "        X_train_trans = X_train\n",
    "        X_test_trans = X_test\n",
    "    \n",
    "    for weight in ['uniform', 'distance']:\n",
    "        for k in [1,2,4,8,16,32]:\n",
    "            knn = KNeighborsClassifier(n_neighbors=k, weights=weight, n_jobs=-1)\n",
    "            knn.fit(X_train_trans, y_train)\n",
    "            results.append( evaluateResults(label.format(k, weight), y_test, knn.predict(X_test_trans)) )\n",
    "            results[-1]['label'] = label.format(k, weight)\n",
    "    return results\n",
    "\n",
    "def getDist(D,i):\n",
    "    if i is None:\n",
    "        return float('inf')\n",
    "    return D[i]\n",
    "\n",
    "def gridSearchKNNratio(label, X_train, y_train, X_test, y_test, transformer=None):\n",
    "    results = []\n",
    "    \n",
    "    if transformer:\n",
    "        X_train_trans = transformer.transform(X_train)\n",
    "        X_test_trans = transformer.transform(X_test)\n",
    "    else:\n",
    "        X_train_trans = X_train\n",
    "        X_test_trans = X_test\n",
    "    \n",
    "\n",
    "    knn = KNeighborsClassifier(n_neighbors=X_train.shape[0]//2, weights='uniform', n_jobs=1)\n",
    "    knn.fit(X_train_trans, y_train)\n",
    "    distances, indices = knn.kneighbors(X_test_trans)\n",
    "\n",
    "    malwareAndCleanIndices = list(map(findMalwareAndClean, indices))\n",
    "    distancesClosest = [(getDist(D, i[0]),getDist(D, i[1])) for D,i in zip(distances, malwareAndCleanIndices)]\n",
    "\n",
    "    for ratio in [.25,.5,.75,1,1.25,1.5,1.75,2,2.5,3,3.5,4,5]:\n",
    "        distanceRatios = [x/y if y>0 else ratio+1 for x,y in distancesClosest]\n",
    "        y_pred = [0 if x<ratio else 1 for x in distanceRatios]\n",
    "\n",
    "        results.append( evaluateResults(label.format(ratio), y_test, y_pred))\n",
    "        results[-1]['label'] = label.format(ratio)\n",
    "    return results"
   ]
  },
  {
   "cell_type": "code",
   "execution_count": 3,
   "metadata": {
    "collapsed": false
   },
   "outputs": [
    {
     "data": {
      "text/plain": [
       "((260000, 99), (90000, 99))"
      ]
     },
     "execution_count": 3,
     "metadata": {},
     "output_type": "execute_result"
    }
   ],
   "source": [
    "X_train = pd.read_csv('kovac/train260k_features.csv', sep=',', low_memory=False, index_col=False, dtype=float)\n",
    "X_test = pd.read_csv('kovac/test90k_features.csv', sep=',', low_memory=False, index_col=False, dtype=float)\n",
    "X_train.values.shape, X_test.shape"
   ]
  },
  {
   "cell_type": "code",
   "execution_count": 4,
   "metadata": {
    "collapsed": false
   },
   "outputs": [
    {
     "data": {
      "text/html": [
       "<div>\n",
       "<table border=\"1\" class=\"dataframe\">\n",
       "  <thead>\n",
       "    <tr style=\"text-align: right;\">\n",
       "      <th></th>\n",
       "      <th>file_length</th>\n",
       "      <th>pe_imgbase</th>\n",
       "      <th>pe_ep_rvao</th>\n",
       "      <th>pe_dir_rva_0</th>\n",
       "      <th>pe_dir_rva_1</th>\n",
       "      <th>pe_dir_rva_2</th>\n",
       "      <th>pe_dir_rva_3</th>\n",
       "      <th>pe_dir_rva_4</th>\n",
       "      <th>pe_dir_rva_5</th>\n",
       "      <th>pe_dir_rva_6</th>\n",
       "      <th>...</th>\n",
       "      <th>dotnet_strings_size</th>\n",
       "      <th>dotnet_ustrings_size</th>\n",
       "      <th>dotnet_blob_size</th>\n",
       "      <th>dotnet_tilde_size</th>\n",
       "      <th>dotnet_stream_cnt</th>\n",
       "      <th>pe_link_maj</th>\n",
       "      <th>pe_link_min</th>\n",
       "      <th>pe_res_types_count</th>\n",
       "      <th>pe_res_ratio_to_size</th>\n",
       "      <th>pe_res_manifest_req_admin</th>\n",
       "    </tr>\n",
       "  </thead>\n",
       "  <tbody>\n",
       "    <tr>\n",
       "      <th>count</th>\n",
       "      <td>2.600000e+05</td>\n",
       "      <td>2.600000e+05</td>\n",
       "      <td>2.600000e+05</td>\n",
       "      <td>2.600000e+05</td>\n",
       "      <td>2.600000e+05</td>\n",
       "      <td>2.600000e+05</td>\n",
       "      <td>2.600000e+05</td>\n",
       "      <td>2.600000e+05</td>\n",
       "      <td>2.600000e+05</td>\n",
       "      <td>2.600000e+05</td>\n",
       "      <td>...</td>\n",
       "      <td>2.600000e+05</td>\n",
       "      <td>2.600000e+05</td>\n",
       "      <td>2.600000e+05</td>\n",
       "      <td>2.600000e+05</td>\n",
       "      <td>260000.000000</td>\n",
       "      <td>260000.000000</td>\n",
       "      <td>260000.000000</td>\n",
       "      <td>260000.000000</td>\n",
       "      <td>260000.000000</td>\n",
       "      <td>260000.000000</td>\n",
       "    </tr>\n",
       "    <tr>\n",
       "      <th>mean</th>\n",
       "      <td>1.145662e+06</td>\n",
       "      <td>2.013257e+15</td>\n",
       "      <td>5.050496e+05</td>\n",
       "      <td>3.056768e+05</td>\n",
       "      <td>6.395278e+05</td>\n",
       "      <td>1.135777e+06</td>\n",
       "      <td>1.287517e+05</td>\n",
       "      <td>6.410754e+05</td>\n",
       "      <td>7.953875e+05</td>\n",
       "      <td>2.358749e+05</td>\n",
       "      <td>...</td>\n",
       "      <td>2.646548e+03</td>\n",
       "      <td>2.463844e+03</td>\n",
       "      <td>1.243963e+03</td>\n",
       "      <td>4.121195e+03</td>\n",
       "      <td>0.622658</td>\n",
       "      <td>7.465869</td>\n",
       "      <td>6.332196</td>\n",
       "      <td>0.849015</td>\n",
       "      <td>16.020285</td>\n",
       "      <td>0.022835</td>\n",
       "    </tr>\n",
       "    <tr>\n",
       "      <th>std</th>\n",
       "      <td>8.851515e+06</td>\n",
       "      <td>1.847337e+17</td>\n",
       "      <td>1.363868e+07</td>\n",
       "      <td>1.452777e+07</td>\n",
       "      <td>6.492955e+06</td>\n",
       "      <td>1.416634e+07</td>\n",
       "      <td>1.431852e+07</td>\n",
       "      <td>1.499641e+07</td>\n",
       "      <td>1.815283e+07</td>\n",
       "      <td>1.006417e+07</td>\n",
       "      <td>...</td>\n",
       "      <td>3.009574e+04</td>\n",
       "      <td>6.215809e+04</td>\n",
       "      <td>1.628180e+04</td>\n",
       "      <td>5.293543e+04</td>\n",
       "      <td>1.653254</td>\n",
       "      <td>5.169654</td>\n",
       "      <td>13.360378</td>\n",
       "      <td>2.165276</td>\n",
       "      <td>27.493918</td>\n",
       "      <td>0.149376</td>\n",
       "    </tr>\n",
       "    <tr>\n",
       "      <th>min</th>\n",
       "      <td>7.840000e+02</td>\n",
       "      <td>0.000000e+00</td>\n",
       "      <td>0.000000e+00</td>\n",
       "      <td>0.000000e+00</td>\n",
       "      <td>0.000000e+00</td>\n",
       "      <td>0.000000e+00</td>\n",
       "      <td>0.000000e+00</td>\n",
       "      <td>0.000000e+00</td>\n",
       "      <td>0.000000e+00</td>\n",
       "      <td>0.000000e+00</td>\n",
       "      <td>...</td>\n",
       "      <td>0.000000e+00</td>\n",
       "      <td>0.000000e+00</td>\n",
       "      <td>0.000000e+00</td>\n",
       "      <td>0.000000e+00</td>\n",
       "      <td>0.000000</td>\n",
       "      <td>0.000000</td>\n",
       "      <td>0.000000</td>\n",
       "      <td>0.000000</td>\n",
       "      <td>0.000000</td>\n",
       "      <td>0.000000</td>\n",
       "    </tr>\n",
       "    <tr>\n",
       "      <th>25%</th>\n",
       "      <td>6.553600e+04</td>\n",
       "      <td>4.194304e+06</td>\n",
       "      <td>6.075000e+03</td>\n",
       "      <td>0.000000e+00</td>\n",
       "      <td>1.748100e+04</td>\n",
       "      <td>1.228800e+04</td>\n",
       "      <td>0.000000e+00</td>\n",
       "      <td>0.000000e+00</td>\n",
       "      <td>0.000000e+00</td>\n",
       "      <td>0.000000e+00</td>\n",
       "      <td>...</td>\n",
       "      <td>0.000000e+00</td>\n",
       "      <td>0.000000e+00</td>\n",
       "      <td>0.000000e+00</td>\n",
       "      <td>0.000000e+00</td>\n",
       "      <td>0.000000</td>\n",
       "      <td>6.000000</td>\n",
       "      <td>0.000000</td>\n",
       "      <td>0.000000</td>\n",
       "      <td>0.000000</td>\n",
       "      <td>0.000000</td>\n",
       "    </tr>\n",
       "    <tr>\n",
       "      <th>50%</th>\n",
       "      <td>2.567040e+05</td>\n",
       "      <td>4.194304e+06</td>\n",
       "      <td>3.033800e+04</td>\n",
       "      <td>0.000000e+00</td>\n",
       "      <td>7.634400e+04</td>\n",
       "      <td>6.963200e+04</td>\n",
       "      <td>0.000000e+00</td>\n",
       "      <td>0.000000e+00</td>\n",
       "      <td>2.457600e+04</td>\n",
       "      <td>0.000000e+00</td>\n",
       "      <td>...</td>\n",
       "      <td>0.000000e+00</td>\n",
       "      <td>0.000000e+00</td>\n",
       "      <td>0.000000e+00</td>\n",
       "      <td>0.000000e+00</td>\n",
       "      <td>0.000000</td>\n",
       "      <td>7.000000</td>\n",
       "      <td>0.000000</td>\n",
       "      <td>0.000000</td>\n",
       "      <td>2.000000</td>\n",
       "      <td>0.000000</td>\n",
       "    </tr>\n",
       "    <tr>\n",
       "      <th>75%</th>\n",
       "      <td>8.357320e+05</td>\n",
       "      <td>2.684355e+08</td>\n",
       "      <td>1.490560e+05</td>\n",
       "      <td>4.336000e+03</td>\n",
       "      <td>2.920080e+05</td>\n",
       "      <td>3.809280e+05</td>\n",
       "      <td>0.000000e+00</td>\n",
       "      <td>0.000000e+00</td>\n",
       "      <td>2.129920e+05</td>\n",
       "      <td>6.128000e+03</td>\n",
       "      <td>...</td>\n",
       "      <td>0.000000e+00</td>\n",
       "      <td>0.000000e+00</td>\n",
       "      <td>0.000000e+00</td>\n",
       "      <td>0.000000e+00</td>\n",
       "      <td>0.000000</td>\n",
       "      <td>9.000000</td>\n",
       "      <td>10.000000</td>\n",
       "      <td>0.000000</td>\n",
       "      <td>16.000000</td>\n",
       "      <td>0.000000</td>\n",
       "    </tr>\n",
       "    <tr>\n",
       "      <th>max</th>\n",
       "      <td>1.966969e+09</td>\n",
       "      <td>1.844674e+19</td>\n",
       "      <td>3.221379e+09</td>\n",
       "      <td>4.294967e+09</td>\n",
       "      <td>1.092039e+09</td>\n",
       "      <td>1.092096e+09</td>\n",
       "      <td>2.975263e+09</td>\n",
       "      <td>3.408354e+09</td>\n",
       "      <td>4.278190e+09</td>\n",
       "      <td>2.975263e+09</td>\n",
       "      <td>...</td>\n",
       "      <td>6.655260e+06</td>\n",
       "      <td>1.230202e+07</td>\n",
       "      <td>2.443600e+06</td>\n",
       "      <td>6.193232e+06</td>\n",
       "      <td>11.000000</td>\n",
       "      <td>255.000000</td>\n",
       "      <td>255.000000</td>\n",
       "      <td>54.000000</td>\n",
       "      <td>100.000000</td>\n",
       "      <td>1.000000</td>\n",
       "    </tr>\n",
       "  </tbody>\n",
       "</table>\n",
       "<p>8 rows × 99 columns</p>\n",
       "</div>"
      ],
      "text/plain": [
       "        file_length    pe_imgbase    pe_ep_rvao   pe_dir_rva_0   pe_dir_rva_1  \\\n",
       "count  2.600000e+05  2.600000e+05  2.600000e+05   2.600000e+05   2.600000e+05   \n",
       "mean   1.145662e+06  2.013257e+15  5.050496e+05   3.056768e+05   6.395278e+05   \n",
       "std    8.851515e+06  1.847337e+17  1.363868e+07   1.452777e+07   6.492955e+06   \n",
       "min    7.840000e+02  0.000000e+00  0.000000e+00   0.000000e+00   0.000000e+00   \n",
       "25%    6.553600e+04  4.194304e+06  6.075000e+03   0.000000e+00   1.748100e+04   \n",
       "50%    2.567040e+05  4.194304e+06  3.033800e+04   0.000000e+00   7.634400e+04   \n",
       "75%    8.357320e+05  2.684355e+08  1.490560e+05   4.336000e+03   2.920080e+05   \n",
       "max    1.966969e+09  1.844674e+19  3.221379e+09   4.294967e+09   1.092039e+09   \n",
       "\n",
       "        pe_dir_rva_2   pe_dir_rva_3   pe_dir_rva_4   pe_dir_rva_5  \\\n",
       "count   2.600000e+05   2.600000e+05   2.600000e+05   2.600000e+05   \n",
       "mean    1.135777e+06   1.287517e+05   6.410754e+05   7.953875e+05   \n",
       "std     1.416634e+07   1.431852e+07   1.499641e+07   1.815283e+07   \n",
       "min     0.000000e+00   0.000000e+00   0.000000e+00   0.000000e+00   \n",
       "25%     1.228800e+04   0.000000e+00   0.000000e+00   0.000000e+00   \n",
       "50%     6.963200e+04   0.000000e+00   0.000000e+00   2.457600e+04   \n",
       "75%     3.809280e+05   0.000000e+00   0.000000e+00   2.129920e+05   \n",
       "max     1.092096e+09   2.975263e+09   3.408354e+09   4.278190e+09   \n",
       "\n",
       "        pe_dir_rva_6             ...               dotnet_strings_size  \\\n",
       "count   2.600000e+05             ...                      2.600000e+05   \n",
       "mean    2.358749e+05             ...                      2.646548e+03   \n",
       "std     1.006417e+07             ...                      3.009574e+04   \n",
       "min     0.000000e+00             ...                      0.000000e+00   \n",
       "25%     0.000000e+00             ...                      0.000000e+00   \n",
       "50%     0.000000e+00             ...                      0.000000e+00   \n",
       "75%     6.128000e+03             ...                      0.000000e+00   \n",
       "max     2.975263e+09             ...                      6.655260e+06   \n",
       "\n",
       "        dotnet_ustrings_size   dotnet_blob_size   dotnet_tilde_size  \\\n",
       "count           2.600000e+05       2.600000e+05        2.600000e+05   \n",
       "mean            2.463844e+03       1.243963e+03        4.121195e+03   \n",
       "std             6.215809e+04       1.628180e+04        5.293543e+04   \n",
       "min             0.000000e+00       0.000000e+00        0.000000e+00   \n",
       "25%             0.000000e+00       0.000000e+00        0.000000e+00   \n",
       "50%             0.000000e+00       0.000000e+00        0.000000e+00   \n",
       "75%             0.000000e+00       0.000000e+00        0.000000e+00   \n",
       "max             1.230202e+07       2.443600e+06        6.193232e+06   \n",
       "\n",
       "        dotnet_stream_cnt    pe_link_maj    pe_link_min   pe_res_types_count  \\\n",
       "count       260000.000000  260000.000000  260000.000000        260000.000000   \n",
       "mean             0.622658       7.465869       6.332196             0.849015   \n",
       "std              1.653254       5.169654      13.360378             2.165276   \n",
       "min              0.000000       0.000000       0.000000             0.000000   \n",
       "25%              0.000000       6.000000       0.000000             0.000000   \n",
       "50%              0.000000       7.000000       0.000000             0.000000   \n",
       "75%              0.000000       9.000000      10.000000             0.000000   \n",
       "max             11.000000     255.000000     255.000000            54.000000   \n",
       "\n",
       "        pe_res_ratio_to_size   pe_res_manifest_req_admin  \n",
       "count          260000.000000               260000.000000  \n",
       "mean               16.020285                    0.022835  \n",
       "std                27.493918                    0.149376  \n",
       "min                 0.000000                    0.000000  \n",
       "25%                 0.000000                    0.000000  \n",
       "50%                 2.000000                    0.000000  \n",
       "75%                16.000000                    0.000000  \n",
       "max               100.000000                    1.000000  \n",
       "\n",
       "[8 rows x 99 columns]"
      ]
     },
     "execution_count": 4,
     "metadata": {},
     "output_type": "execute_result"
    }
   ],
   "source": [
    "X_train.describe(include='all')"
   ]
  },
  {
   "cell_type": "code",
   "execution_count": 5,
   "metadata": {
    "collapsed": false
   },
   "outputs": [
    {
     "data": {
      "text/plain": [
       "((99,), (99,))"
      ]
     },
     "execution_count": 5,
     "metadata": {},
     "output_type": "execute_result"
    }
   ],
   "source": [
    "XTM = X_test.mean(axis=0)\n",
    "XTS = X_train.std(axis=0)\n",
    "XTM.shape, XTS.shape"
   ]
  },
  {
   "cell_type": "code",
   "execution_count": 6,
   "metadata": {
    "collapsed": false
   },
   "outputs": [
    {
     "data": {
      "text/html": [
       "<div>\n",
       "<table border=\"1\" class=\"dataframe\">\n",
       "  <thead>\n",
       "    <tr style=\"text-align: right;\">\n",
       "      <th></th>\n",
       "      <th>file_length</th>\n",
       "      <th>pe_imgbase</th>\n",
       "      <th>pe_ep_rvao</th>\n",
       "      <th>pe_dir_rva_0</th>\n",
       "      <th>pe_dir_rva_1</th>\n",
       "      <th>pe_dir_rva_2</th>\n",
       "      <th>pe_dir_rva_3</th>\n",
       "      <th>pe_dir_rva_4</th>\n",
       "      <th>pe_dir_rva_5</th>\n",
       "      <th>pe_dir_rva_6</th>\n",
       "      <th>...</th>\n",
       "      <th>dotnet_strings_size</th>\n",
       "      <th>dotnet_ustrings_size</th>\n",
       "      <th>dotnet_blob_size</th>\n",
       "      <th>dotnet_tilde_size</th>\n",
       "      <th>dotnet_stream_cnt</th>\n",
       "      <th>pe_link_maj</th>\n",
       "      <th>pe_link_min</th>\n",
       "      <th>pe_res_types_count</th>\n",
       "      <th>pe_res_ratio_to_size</th>\n",
       "      <th>pe_res_manifest_req_admin</th>\n",
       "    </tr>\n",
       "  </thead>\n",
       "  <tbody>\n",
       "    <tr>\n",
       "      <th>count</th>\n",
       "      <td>260000.000000</td>\n",
       "      <td>260000.000000</td>\n",
       "      <td>260000.000000</td>\n",
       "      <td>260000.000000</td>\n",
       "      <td>260000.000000</td>\n",
       "      <td>260000.000000</td>\n",
       "      <td>260000.000000</td>\n",
       "      <td>260000.000000</td>\n",
       "      <td>260000.000000</td>\n",
       "      <td>260000.000000</td>\n",
       "      <td>...</td>\n",
       "      <td>260000.000000</td>\n",
       "      <td>260000.000000</td>\n",
       "      <td>260000.000000</td>\n",
       "      <td>260000.000000</td>\n",
       "      <td>260000.000000</td>\n",
       "      <td>260000.000000</td>\n",
       "      <td>260000.000000</td>\n",
       "      <td>260000.000000</td>\n",
       "      <td>260000.000000</td>\n",
       "      <td>260000.000000</td>\n",
       "    </tr>\n",
       "    <tr>\n",
       "      <th>mean</th>\n",
       "      <td>-0.005920</td>\n",
       "      <td>0.006029</td>\n",
       "      <td>-0.000731</td>\n",
       "      <td>0.001179</td>\n",
       "      <td>-0.000752</td>\n",
       "      <td>-0.002641</td>\n",
       "      <td>0.000162</td>\n",
       "      <td>0.001075</td>\n",
       "      <td>-0.001230</td>\n",
       "      <td>-0.000012</td>\n",
       "      <td>...</td>\n",
       "      <td>0.008771</td>\n",
       "      <td>0.000970</td>\n",
       "      <td>0.003250</td>\n",
       "      <td>0.004258</td>\n",
       "      <td>0.003046</td>\n",
       "      <td>-0.004433</td>\n",
       "      <td>-0.003657</td>\n",
       "      <td>-0.002630</td>\n",
       "      <td>-0.004038</td>\n",
       "      <td>0.002314</td>\n",
       "    </tr>\n",
       "    <tr>\n",
       "      <th>std</th>\n",
       "      <td>1.000000</td>\n",
       "      <td>1.000000</td>\n",
       "      <td>1.000000</td>\n",
       "      <td>1.000000</td>\n",
       "      <td>1.000000</td>\n",
       "      <td>1.000000</td>\n",
       "      <td>1.000000</td>\n",
       "      <td>1.000000</td>\n",
       "      <td>1.000000</td>\n",
       "      <td>1.000000</td>\n",
       "      <td>...</td>\n",
       "      <td>1.000000</td>\n",
       "      <td>1.000000</td>\n",
       "      <td>1.000000</td>\n",
       "      <td>1.000000</td>\n",
       "      <td>1.000000</td>\n",
       "      <td>1.000000</td>\n",
       "      <td>1.000000</td>\n",
       "      <td>1.000000</td>\n",
       "      <td>1.000000</td>\n",
       "      <td>1.000000</td>\n",
       "    </tr>\n",
       "    <tr>\n",
       "      <th>min</th>\n",
       "      <td>-0.135262</td>\n",
       "      <td>-0.004869</td>\n",
       "      <td>-0.037762</td>\n",
       "      <td>-0.019862</td>\n",
       "      <td>-0.099248</td>\n",
       "      <td>-0.082815</td>\n",
       "      <td>-0.008830</td>\n",
       "      <td>-0.041674</td>\n",
       "      <td>-0.045046</td>\n",
       "      <td>-0.023449</td>\n",
       "      <td>...</td>\n",
       "      <td>-0.079166</td>\n",
       "      <td>-0.038668</td>\n",
       "      <td>-0.073152</td>\n",
       "      <td>-0.073595</td>\n",
       "      <td>-0.373580</td>\n",
       "      <td>-1.448605</td>\n",
       "      <td>-0.477610</td>\n",
       "      <td>-0.394735</td>\n",
       "      <td>-0.586722</td>\n",
       "      <td>-0.150552</td>\n",
       "    </tr>\n",
       "    <tr>\n",
       "      <th>25%</th>\n",
       "      <td>-0.127947</td>\n",
       "      <td>-0.004869</td>\n",
       "      <td>-0.037316</td>\n",
       "      <td>-0.019862</td>\n",
       "      <td>-0.096556</td>\n",
       "      <td>-0.081948</td>\n",
       "      <td>-0.008830</td>\n",
       "      <td>-0.041674</td>\n",
       "      <td>-0.045046</td>\n",
       "      <td>-0.023449</td>\n",
       "      <td>...</td>\n",
       "      <td>-0.079166</td>\n",
       "      <td>-0.038668</td>\n",
       "      <td>-0.073152</td>\n",
       "      <td>-0.073595</td>\n",
       "      <td>-0.373580</td>\n",
       "      <td>-0.287986</td>\n",
       "      <td>-0.477610</td>\n",
       "      <td>-0.394735</td>\n",
       "      <td>-0.586722</td>\n",
       "      <td>-0.150552</td>\n",
       "    </tr>\n",
       "    <tr>\n",
       "      <th>50%</th>\n",
       "      <td>-0.106350</td>\n",
       "      <td>-0.004869</td>\n",
       "      <td>-0.035537</td>\n",
       "      <td>-0.019862</td>\n",
       "      <td>-0.087490</td>\n",
       "      <td>-0.077900</td>\n",
       "      <td>-0.008830</td>\n",
       "      <td>-0.041674</td>\n",
       "      <td>-0.043692</td>\n",
       "      <td>-0.023449</td>\n",
       "      <td>...</td>\n",
       "      <td>-0.079166</td>\n",
       "      <td>-0.038668</td>\n",
       "      <td>-0.073152</td>\n",
       "      <td>-0.073595</td>\n",
       "      <td>-0.373580</td>\n",
       "      <td>-0.094550</td>\n",
       "      <td>-0.477610</td>\n",
       "      <td>-0.394735</td>\n",
       "      <td>-0.513979</td>\n",
       "      <td>-0.150552</td>\n",
       "    </tr>\n",
       "    <tr>\n",
       "      <th>75%</th>\n",
       "      <td>-0.040934</td>\n",
       "      <td>-0.004869</td>\n",
       "      <td>-0.026833</td>\n",
       "      <td>-0.019563</td>\n",
       "      <td>-0.054275</td>\n",
       "      <td>-0.055926</td>\n",
       "      <td>-0.008830</td>\n",
       "      <td>-0.041674</td>\n",
       "      <td>-0.033313</td>\n",
       "      <td>-0.022840</td>\n",
       "      <td>...</td>\n",
       "      <td>-0.079166</td>\n",
       "      <td>-0.038668</td>\n",
       "      <td>-0.073152</td>\n",
       "      <td>-0.073595</td>\n",
       "      <td>-0.373580</td>\n",
       "      <td>0.292323</td>\n",
       "      <td>0.270871</td>\n",
       "      <td>-0.394735</td>\n",
       "      <td>-0.004776</td>\n",
       "      <td>-0.150552</td>\n",
       "    </tr>\n",
       "    <tr>\n",
       "      <th>max</th>\n",
       "      <td>222.083054</td>\n",
       "      <td>99.850960</td>\n",
       "      <td>236.156467</td>\n",
       "      <td>295.618516</td>\n",
       "      <td>168.088999</td>\n",
       "      <td>77.008110</td>\n",
       "      <td>207.782459</td>\n",
       "      <td>227.236417</td>\n",
       "      <td>235.631101</td>\n",
       "      <td>295.605684</td>\n",
       "      <td>...</td>\n",
       "      <td>221.057099</td>\n",
       "      <td>197.876299</td>\n",
       "      <td>150.008552</td>\n",
       "      <td>116.922367</td>\n",
       "      <td>6.279964</td>\n",
       "      <td>47.877713</td>\n",
       "      <td>18.608676</td>\n",
       "      <td>24.544345</td>\n",
       "      <td>3.050446</td>\n",
       "      <td>6.543950</td>\n",
       "    </tr>\n",
       "  </tbody>\n",
       "</table>\n",
       "<p>8 rows × 99 columns</p>\n",
       "</div>"
      ],
      "text/plain": [
       "         file_length     pe_imgbase     pe_ep_rvao   pe_dir_rva_0  \\\n",
       "count  260000.000000  260000.000000  260000.000000  260000.000000   \n",
       "mean       -0.005920       0.006029      -0.000731       0.001179   \n",
       "std         1.000000       1.000000       1.000000       1.000000   \n",
       "min        -0.135262      -0.004869      -0.037762      -0.019862   \n",
       "25%        -0.127947      -0.004869      -0.037316      -0.019862   \n",
       "50%        -0.106350      -0.004869      -0.035537      -0.019862   \n",
       "75%        -0.040934      -0.004869      -0.026833      -0.019563   \n",
       "max       222.083054      99.850960     236.156467     295.618516   \n",
       "\n",
       "        pe_dir_rva_1   pe_dir_rva_2   pe_dir_rva_3   pe_dir_rva_4  \\\n",
       "count  260000.000000  260000.000000  260000.000000  260000.000000   \n",
       "mean       -0.000752      -0.002641       0.000162       0.001075   \n",
       "std         1.000000       1.000000       1.000000       1.000000   \n",
       "min        -0.099248      -0.082815      -0.008830      -0.041674   \n",
       "25%        -0.096556      -0.081948      -0.008830      -0.041674   \n",
       "50%        -0.087490      -0.077900      -0.008830      -0.041674   \n",
       "75%        -0.054275      -0.055926      -0.008830      -0.041674   \n",
       "max       168.088999      77.008110     207.782459     227.236417   \n",
       "\n",
       "        pe_dir_rva_5   pe_dir_rva_6             ...              \\\n",
       "count  260000.000000  260000.000000             ...               \n",
       "mean       -0.001230      -0.000012             ...               \n",
       "std         1.000000       1.000000             ...               \n",
       "min        -0.045046      -0.023449             ...               \n",
       "25%        -0.045046      -0.023449             ...               \n",
       "50%        -0.043692      -0.023449             ...               \n",
       "75%        -0.033313      -0.022840             ...               \n",
       "max       235.631101     295.605684             ...               \n",
       "\n",
       "        dotnet_strings_size   dotnet_ustrings_size   dotnet_blob_size  \\\n",
       "count         260000.000000          260000.000000      260000.000000   \n",
       "mean               0.008771               0.000970           0.003250   \n",
       "std                1.000000               1.000000           1.000000   \n",
       "min               -0.079166              -0.038668          -0.073152   \n",
       "25%               -0.079166              -0.038668          -0.073152   \n",
       "50%               -0.079166              -0.038668          -0.073152   \n",
       "75%               -0.079166              -0.038668          -0.073152   \n",
       "max              221.057099             197.876299         150.008552   \n",
       "\n",
       "        dotnet_tilde_size   dotnet_stream_cnt    pe_link_maj    pe_link_min  \\\n",
       "count       260000.000000       260000.000000  260000.000000  260000.000000   \n",
       "mean             0.004258            0.003046      -0.004433      -0.003657   \n",
       "std              1.000000            1.000000       1.000000       1.000000   \n",
       "min             -0.073595           -0.373580      -1.448605      -0.477610   \n",
       "25%             -0.073595           -0.373580      -0.287986      -0.477610   \n",
       "50%             -0.073595           -0.373580      -0.094550      -0.477610   \n",
       "75%             -0.073595           -0.373580       0.292323       0.270871   \n",
       "max            116.922367            6.279964      47.877713      18.608676   \n",
       "\n",
       "        pe_res_types_count   pe_res_ratio_to_size   pe_res_manifest_req_admin  \n",
       "count        260000.000000          260000.000000               260000.000000  \n",
       "mean             -0.002630              -0.004038                    0.002314  \n",
       "std               1.000000               1.000000                    1.000000  \n",
       "min              -0.394735              -0.586722                   -0.150552  \n",
       "25%              -0.394735              -0.586722                   -0.150552  \n",
       "50%              -0.394735              -0.513979                   -0.150552  \n",
       "75%              -0.394735              -0.004776                   -0.150552  \n",
       "max              24.544345               3.050446                    6.543950  \n",
       "\n",
       "[8 rows x 99 columns]"
      ]
     },
     "execution_count": 6,
     "metadata": {},
     "output_type": "execute_result"
    }
   ],
   "source": [
    "X_train_norm = (X_train - XTM) / XTS\n",
    "X_test_norm = (X_test - XTM) / XTS\n",
    "X_train_norm.describe(include='all')"
   ]
  },
  {
   "cell_type": "code",
   "execution_count": 7,
   "metadata": {
    "collapsed": false
   },
   "outputs": [
    {
     "data": {
      "text/plain": [
       "((260000,), (90000,))"
      ]
     },
     "execution_count": 7,
     "metadata": {},
     "output_type": "execute_result"
    }
   ],
   "source": [
    "y_train = np.concatenate((np.zeros(X_train.shape[0]//2), np.ones(X_train.shape[0]//2)))\n",
    "y_test = np.concatenate((np.zeros(X_test.shape[0]//2), np.ones(X_test.shape[0]//2)))\n",
    "y_train.shape, y_test.shape"
   ]
  },
  {
   "cell_type": "code",
   "execution_count": 8,
   "metadata": {
    "collapsed": true
   },
   "outputs": [],
   "source": [
    "allResults = []"
   ]
  },
  {
   "cell_type": "markdown",
   "metadata": {},
   "source": [
    "# Euklid"
   ]
  },
  {
   "cell_type": "code",
   "execution_count": 9,
   "metadata": {
    "collapsed": false
   },
   "outputs": [],
   "source": [
    "allResults += gridSearchKNN(\"{}NN-{}\", X_train, y_train, X_test, y_test)"
   ]
  },
  {
   "cell_type": "code",
   "execution_count": 16,
   "metadata": {
    "collapsed": false
   },
   "outputs": [],
   "source": [
    "allResults += gridSearchKNN(\"norm + {}NN-{}\", X_train_norm, y_train, X_test_norm, y_test)"
   ]
  },
  {
   "cell_type": "code",
   "execution_count": null,
   "metadata": {
    "collapsed": false
   },
   "outputs": [],
   "source": [
    "allResults += gridSearchKNNratio(\"NN-{}\", X_train, y_train, X_test, y_test)"
   ]
  },
  {
   "cell_type": "code",
   "execution_count": null,
   "metadata": {
    "collapsed": false
   },
   "outputs": [],
   "source": [
    "allResults += gridSearchKNNratio(\"norm + NN-{}\", X_train_norm, y_train, X_test_norm, y_test)"
   ]
  },
  {
   "cell_type": "markdown",
   "metadata": {},
   "source": [
    "# LFDA"
   ]
  },
  {
   "cell_type": "code",
   "execution_count": 11,
   "metadata": {
    "collapsed": false
   },
   "outputs": [
    {
     "data": {
      "text/plain": [
       "((64823, 99), (64823, 99))"
      ]
     },
     "execution_count": 11,
     "metadata": {},
     "output_type": "execute_result"
    }
   ],
   "source": [
    "subset = .25\n",
    "train_mask = np.random.choice([True, False], X_train.shape[0], p=[subset, 1-subset])\n",
    "\n",
    "X_train_sample = X_train[train_mask]\n",
    "X_train_sample_norm = X_train_norm[train_mask]\n",
    "y_train_sample = y_train[train_mask]\n",
    "\n",
    "X_train_sample.shape, X_train_sample_norm.shape\n",
    "\n",
    "# should be around 70000 * 99"
   ]
  },
  {
   "cell_type": "code",
   "execution_count": null,
   "metadata": {
    "collapsed": false
   },
   "outputs": [],
   "source": [
    "lfda = LFDA()\n",
    "lfda.fit(X_train_sample.values, y_train_sample)"
   ]
  },
  {
   "cell_type": "code",
   "execution_count": null,
   "metadata": {
    "collapsed": false
   },
   "outputs": [],
   "source": [
    "allResults += gridSearchKNN(\"LFDA + {}NN-{}\", X_train, y_train, X_test, y_test, lfda)"
   ]
  },
  {
   "cell_type": "code",
   "execution_count": null,
   "metadata": {
    "collapsed": false
   },
   "outputs": [],
   "source": [
    "allResults += gridSearchKNNratio(\"LFDA + NN-{}\", X_train, y_train, X_test, y_test, lfda)"
   ]
  },
  {
   "cell_type": "markdown",
   "metadata": {},
   "source": [
    "# LFDA norm"
   ]
  },
  {
   "cell_type": "code",
   "execution_count": null,
   "metadata": {
    "collapsed": false
   },
   "outputs": [],
   "source": [
    "lfda_norm = LFDA()\n",
    "lfda_norm.fit(X_train_sample_norm.values, y_train_sample)"
   ]
  },
  {
   "cell_type": "code",
   "execution_count": null,
   "metadata": {
    "collapsed": false
   },
   "outputs": [],
   "source": [
    "allResults += gridSearchKNN(\"norm + LFDA + {}NN-{}\", X_train_norm, y_train, X_test_norm, y_test, lfda)"
   ]
  },
  {
   "cell_type": "code",
   "execution_count": null,
   "metadata": {
    "collapsed": false
   },
   "outputs": [],
   "source": [
    "allResults += gridSearchKNNratio(\"norm + LFDA + NN-{}\", X_train_norm, y_train, X_test_norm, y_test, lfda)"
   ]
  },
  {
   "cell_type": "markdown",
   "metadata": {},
   "source": [
    "# LMNN"
   ]
  },
  {
   "cell_type": "code",
   "execution_count": 16,
   "metadata": {
    "collapsed": false
   },
   "outputs": [
    {
     "data": {
      "text/plain": [
       "((20874, 99), (20874, 99))"
      ]
     },
     "execution_count": 16,
     "metadata": {},
     "output_type": "execute_result"
    }
   ],
   "source": [
    "subset = 0.08\n",
    "train_mask = np.random.choice([True, False], X_train.shape[0], p=[subset, 1-subset])\n",
    "\n",
    "X_train_sample = X_train[train_mask]\n",
    "X_train_sample_norm = X_train_norm[train_mask]\n",
    "y_train_sample = y_train[train_mask]\n",
    "\n",
    "X_train_sample.shape, X_train_sample_norm.shape\n",
    "\n",
    "# should be around 20.000 * 99"
   ]
  },
  {
   "cell_type": "code",
   "execution_count": 14,
   "metadata": {
    "collapsed": false
   },
   "outputs": [
    {
     "ename": "KeyboardInterrupt",
     "evalue": "",
     "output_type": "error",
     "traceback": [
      "\u001b[0;31m---------------------------------------------------------------------------\u001b[0m",
      "\u001b[0;31mKeyboardInterrupt\u001b[0m                         Traceback (most recent call last)",
      "\u001b[0;32m<ipython-input-14-48f5b01602f1>\u001b[0m in \u001b[0;36m<module>\u001b[0;34m()\u001b[0m\n\u001b[1;32m      1\u001b[0m \u001b[0mlmnn\u001b[0m \u001b[0;34m=\u001b[0m \u001b[0mLMNN\u001b[0m\u001b[0;34m(\u001b[0m\u001b[0;34m)\u001b[0m\u001b[0;34m\u001b[0m\u001b[0m\n\u001b[0;32m----> 2\u001b[0;31m \u001b[0mlmnn\u001b[0m\u001b[0;34m.\u001b[0m\u001b[0mfit\u001b[0m\u001b[0;34m(\u001b[0m\u001b[0mX_train_sample\u001b[0m\u001b[0;34m.\u001b[0m\u001b[0mvalues\u001b[0m\u001b[0;34m,\u001b[0m \u001b[0my_train_sample\u001b[0m\u001b[0;34m)\u001b[0m\u001b[0;34m\u001b[0m\u001b[0m\n\u001b[0m",
      "\u001b[0;32m/home/sveco/metric-learn/metric_learn/lmnn.py\u001b[0m in \u001b[0;36mfit\u001b[0;34m(self, X, labels)\u001b[0m\n\u001b[1;32m     62\u001b[0m     \u001b[0mself\u001b[0m\u001b[0;34m.\u001b[0m\u001b[0m_process_inputs\u001b[0m\u001b[0;34m(\u001b[0m\u001b[0mX\u001b[0m\u001b[0;34m,\u001b[0m \u001b[0mlabels\u001b[0m\u001b[0;34m)\u001b[0m\u001b[0;34m\u001b[0m\u001b[0m\n\u001b[1;32m     63\u001b[0m \u001b[0;34m\u001b[0m\u001b[0m\n\u001b[0;32m---> 64\u001b[0;31m     \u001b[0mtarget_neighbors\u001b[0m \u001b[0;34m=\u001b[0m \u001b[0mself\u001b[0m\u001b[0;34m.\u001b[0m\u001b[0m_select_targets\u001b[0m\u001b[0;34m(\u001b[0m\u001b[0;34m)\u001b[0m\u001b[0;34m\u001b[0m\u001b[0m\n\u001b[0m\u001b[1;32m     65\u001b[0m     \u001b[0mimpostors\u001b[0m \u001b[0;34m=\u001b[0m \u001b[0mself\u001b[0m\u001b[0;34m.\u001b[0m\u001b[0m_find_impostors\u001b[0m\u001b[0;34m(\u001b[0m\u001b[0mtarget_neighbors\u001b[0m\u001b[0;34m[\u001b[0m\u001b[0;34m:\u001b[0m\u001b[0;34m,\u001b[0m\u001b[0;34m-\u001b[0m\u001b[0;36m1\u001b[0m\u001b[0;34m]\u001b[0m\u001b[0;34m)\u001b[0m\u001b[0;34m\u001b[0m\u001b[0m\n\u001b[1;32m     66\u001b[0m     \u001b[0;32mif\u001b[0m \u001b[0mlen\u001b[0m\u001b[0;34m(\u001b[0m\u001b[0mimpostors\u001b[0m\u001b[0;34m)\u001b[0m \u001b[0;34m==\u001b[0m \u001b[0;36m0\u001b[0m\u001b[0;34m:\u001b[0m\u001b[0;34m\u001b[0m\u001b[0m\n",
      "\u001b[0;32m/home/sveco/metric-learn/metric_learn/lmnn.py\u001b[0m in \u001b[0;36m_select_targets\u001b[0;34m(self)\u001b[0m\n\u001b[1;32m    185\u001b[0m       \u001b[0mdd\u001b[0m \u001b[0;34m=\u001b[0m \u001b[0mpairwise_distances\u001b[0m\u001b[0;34m(\u001b[0m\u001b[0mself\u001b[0m\u001b[0;34m.\u001b[0m\u001b[0mX\u001b[0m\u001b[0;34m[\u001b[0m\u001b[0minds\u001b[0m\u001b[0;34m]\u001b[0m\u001b[0;34m)\u001b[0m\u001b[0;34m\u001b[0m\u001b[0m\n\u001b[1;32m    186\u001b[0m       \u001b[0mnp\u001b[0m\u001b[0;34m.\u001b[0m\u001b[0mfill_diagonal\u001b[0m\u001b[0;34m(\u001b[0m\u001b[0mdd\u001b[0m\u001b[0;34m,\u001b[0m \u001b[0mnp\u001b[0m\u001b[0;34m.\u001b[0m\u001b[0minf\u001b[0m\u001b[0;34m)\u001b[0m\u001b[0;34m\u001b[0m\u001b[0m\n\u001b[0;32m--> 187\u001b[0;31m       \u001b[0mnn\u001b[0m \u001b[0;34m=\u001b[0m \u001b[0mnp\u001b[0m\u001b[0;34m.\u001b[0m\u001b[0margsort\u001b[0m\u001b[0;34m(\u001b[0m\u001b[0mdd\u001b[0m\u001b[0;34m)\u001b[0m\u001b[0;34m[\u001b[0m\u001b[0;34m...\u001b[0m\u001b[0;34m,\u001b[0m\u001b[0;34m:\u001b[0m\u001b[0mk\u001b[0m\u001b[0;34m]\u001b[0m\u001b[0;34m\u001b[0m\u001b[0m\n\u001b[0m\u001b[1;32m    188\u001b[0m       \u001b[0mtarget_neighbors\u001b[0m\u001b[0;34m[\u001b[0m\u001b[0minds\u001b[0m\u001b[0;34m]\u001b[0m \u001b[0;34m=\u001b[0m \u001b[0minds\u001b[0m\u001b[0;34m[\u001b[0m\u001b[0mnn\u001b[0m\u001b[0;34m]\u001b[0m\u001b[0;34m\u001b[0m\u001b[0m\n\u001b[1;32m    189\u001b[0m     \u001b[0;32mreturn\u001b[0m \u001b[0mtarget_neighbors\u001b[0m\u001b[0;34m\u001b[0m\u001b[0m\n",
      "\u001b[0;32m/home/sveco/miniconda3/lib/python3.5/site-packages/numpy/core/fromnumeric.py\u001b[0m in \u001b[0;36margsort\u001b[0;34m(a, axis, kind, order)\u001b[0m\n\u001b[1;32m    911\u001b[0m     \u001b[0;32mexcept\u001b[0m \u001b[0mAttributeError\u001b[0m\u001b[0;34m:\u001b[0m\u001b[0;34m\u001b[0m\u001b[0m\n\u001b[1;32m    912\u001b[0m         \u001b[0;32mreturn\u001b[0m \u001b[0m_wrapit\u001b[0m\u001b[0;34m(\u001b[0m\u001b[0ma\u001b[0m\u001b[0;34m,\u001b[0m \u001b[0;34m'argsort'\u001b[0m\u001b[0;34m,\u001b[0m \u001b[0maxis\u001b[0m\u001b[0;34m,\u001b[0m \u001b[0mkind\u001b[0m\u001b[0;34m,\u001b[0m \u001b[0morder\u001b[0m\u001b[0;34m)\u001b[0m\u001b[0;34m\u001b[0m\u001b[0m\n\u001b[0;32m--> 913\u001b[0;31m     \u001b[0;32mreturn\u001b[0m \u001b[0margsort\u001b[0m\u001b[0;34m(\u001b[0m\u001b[0maxis\u001b[0m\u001b[0;34m,\u001b[0m \u001b[0mkind\u001b[0m\u001b[0;34m,\u001b[0m \u001b[0morder\u001b[0m\u001b[0;34m)\u001b[0m\u001b[0;34m\u001b[0m\u001b[0m\n\u001b[0m\u001b[1;32m    914\u001b[0m \u001b[0;34m\u001b[0m\u001b[0m\n\u001b[1;32m    915\u001b[0m \u001b[0;34m\u001b[0m\u001b[0m\n",
      "\u001b[0;31mKeyboardInterrupt\u001b[0m: "
     ]
    }
   ],
   "source": [
    "lmnn = LMNN()\n",
    "lmnn.fit(X_train_sample.values, y_train_sample)"
   ]
  },
  {
   "cell_type": "code",
   "execution_count": null,
   "metadata": {
    "collapsed": true
   },
   "outputs": [],
   "source": [
    "allResults += gridSearchKNN(\"LMNN + {}NN-{}\", X_train, y_train, X_test, y_test, lmnn)"
   ]
  },
  {
   "cell_type": "code",
   "execution_count": null,
   "metadata": {
    "collapsed": false
   },
   "outputs": [],
   "source": [
    "allResults += gridSearchKNNratio(\"LMNN + NN-{}\", X_train, y_train, X_test, y_test, lmnn)"
   ]
  },
  {
   "cell_type": "markdown",
   "metadata": {},
   "source": [
    "# LMNN norm"
   ]
  },
  {
   "cell_type": "code",
   "execution_count": null,
   "metadata": {
    "collapsed": true
   },
   "outputs": [],
   "source": [
    "lmnn_norm = LMNN()\n",
    "lmnn_norm.fit(X_train_sample_norm.values, y_train_sample)"
   ]
  },
  {
   "cell_type": "code",
   "execution_count": null,
   "metadata": {
    "collapsed": true
   },
   "outputs": [],
   "source": [
    "allResults += gridSearchKNN(\"norm + LMNN + {}NN-{}\", X_train_norm, y_train, X_test_norm, y_test, lmnn)"
   ]
  },
  {
   "cell_type": "code",
   "execution_count": null,
   "metadata": {
    "collapsed": true
   },
   "outputs": [],
   "source": [
    "allResults += gridSearchKNNratio(\"norm + LMNN + NN-{}\", X_train_norm, y_train, X_test_norm, y_test, lmnn)"
   ]
  },
  {
   "cell_type": "markdown",
   "metadata": {},
   "source": [
    "# NCA"
   ]
  },
  {
   "cell_type": "code",
   "execution_count": 18,
   "metadata": {
    "collapsed": false
   },
   "outputs": [
    {
     "data": {
      "text/plain": [
       "((988, 99), (988, 99))"
      ]
     },
     "execution_count": 18,
     "metadata": {},
     "output_type": "execute_result"
    }
   ],
   "source": [
    "subset = 0.015/4\n",
    "train_mask = np.random.choice([True, False], X_train.shape[0], p=[subset, 1-subset])\n",
    "\n",
    "X_train_sample = X_train[train_mask]\n",
    "X_train_sample_norm = X_train_norm[train_mask]\n",
    "y_train_sample = y_train[train_mask]\n",
    "\n",
    "X_train_sample.shape, X_train_sample_norm.shape"
   ]
  },
  {
   "cell_type": "code",
   "execution_count": null,
   "metadata": {
    "collapsed": true
   },
   "outputs": [],
   "source": [
    "nca = NCA()\n",
    "nca.fit(X_train_sample.values, y_train_sample)"
   ]
  },
  {
   "cell_type": "code",
   "execution_count": null,
   "metadata": {
    "collapsed": true
   },
   "outputs": [],
   "source": [
    "allResults += gridSearchKNN(\"NCA + {}NN-{}\", X_train, y_train, X_test, y_test, nca)"
   ]
  },
  {
   "cell_type": "code",
   "execution_count": null,
   "metadata": {
    "collapsed": true
   },
   "outputs": [],
   "source": [
    "allResults += gridSearchKNNratio(\"NCA + NN-{}\", X_train, y_train, X_test, y_test, nca)"
   ]
  },
  {
   "cell_type": "markdown",
   "metadata": {},
   "source": [
    "# NCA norm"
   ]
  },
  {
   "cell_type": "code",
   "execution_count": null,
   "metadata": {
    "collapsed": true
   },
   "outputs": [],
   "source": [
    "nca_norm = NCA()\n",
    "nca_norm.fit(X_train_sample_norm.values, y_train_sample)"
   ]
  },
  {
   "cell_type": "code",
   "execution_count": null,
   "metadata": {
    "collapsed": true
   },
   "outputs": [],
   "source": [
    "allResults += gridSearchKNN(\"norm + NCA + {}NN-{}\", X_train_norm, y_train, X_test_norm, y_test, nca)"
   ]
  },
  {
   "cell_type": "code",
   "execution_count": null,
   "metadata": {
    "collapsed": true
   },
   "outputs": [],
   "source": [
    "allResults += gridSearchKNNratio(\"norm + NCA + NN-{}\", X_train_norm, y_train, X_test_norm, y_test, nca)"
   ]
  },
  {
   "cell_type": "markdown",
   "metadata": {
    "collapsed": true
   },
   "source": [
    "# Results"
   ]
  },
  {
   "cell_type": "code",
   "execution_count": null,
   "metadata": {
    "collapsed": false
   },
   "outputs": [],
   "source": [
    "allResults"
   ]
  },
  {
   "cell_type": "code",
   "execution_count": null,
   "metadata": {
    "collapsed": true
   },
   "outputs": [],
   "source": [
    "resPd = pd.DataFrame(allResults)"
   ]
  },
  {
   "cell_type": "code",
   "execution_count": null,
   "metadata": {
    "collapsed": false
   },
   "outputs": [],
   "source": [
    "resPd"
   ]
  },
  {
   "cell_type": "code",
   "execution_count": null,
   "metadata": {
    "collapsed": true
   },
   "outputs": [],
   "source": [
    "resPd.to_csv('res_mde.csv')"
   ]
  }
 ],
 "metadata": {
  "anaconda-cloud": {},
  "kernelspec": {
   "display_name": "Python [default]",
   "language": "python",
   "name": "python3"
  },
  "language_info": {
   "codemirror_mode": {
    "name": "ipython",
    "version": 3
   },
   "file_extension": ".py",
   "mimetype": "text/x-python",
   "name": "python",
   "nbconvert_exporter": "python",
   "pygments_lexer": "ipython3",
   "version": "3.5.2"
  }
 },
 "nbformat": 4,
 "nbformat_minor": 1
}
