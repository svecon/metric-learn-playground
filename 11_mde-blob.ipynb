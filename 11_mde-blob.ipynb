{
 "cells": [
  {
   "cell_type": "code",
   "execution_count": null,
   "metadata": {
    "collapsed": true
   },
   "outputs": [],
   "source": [
    "import numpy as np\n",
    "import pandas as pd\n",
    "import glob\n",
    "import os.path\n",
    "import sys\n",
    "from datetime import datetime\n",
    "\n",
    "# from svecon.HierarchicalGridSearchCV import HierarchicalGridSearchCV\n",
    "# from svecon.EmptyTransformer import EmptyTransformer\n",
    "\n",
    "# from sklearn.cross_validation import StratifiedKFold\n",
    "from sklearn.neighbors import KNeighborsClassifier\n",
    "from sklearn.pipeline import Pipeline\n",
    "from sklearn.preprocessing import Imputer, StandardScaler, LabelEncoder\n",
    "from sklearn.metrics import confusion_matrix, precision_recall_fscore_support\n",
    "\n",
    "from metric_learn import LMNN, NCA, LFDA, Covariance\n",
    "from metric_learn import ITML_Supervised, SDML_Supervised, LSML_Supervised, RCA_Supervised"
   ]
  },
  {
   "cell_type": "code",
   "execution_count": null,
   "metadata": {
    "collapsed": true
   },
   "outputs": [],
   "source": [
    "def firstSmallerThan(threshold):\n",
    "    def firstSmaller(L):\n",
    "        for i,v in enumerate(L):\n",
    "            if v<threshold:\n",
    "                return i,v\n",
    "        return None,None\n",
    "    return firstSmaller\n",
    "\n",
    "def firstHigherThan(threshold):\n",
    "    def firstHigher(L):\n",
    "        for i,v in enumerate(L):\n",
    "            if v>=threshold:\n",
    "                return i,v\n",
    "        return None,None\n",
    "    return firstHigher\n",
    "\n",
    "def findMalwareAndClean(L):\n",
    "    findMalware = firstHigherThan(X_train.shape[0]//2)\n",
    "    findClean =  firstSmallerThan(X_train.shape[0]//2)\n",
    "    \n",
    "    im,vm = findMalware(L)\n",
    "    ic,vc = findClean(L)\n",
    "    return ic,im\n",
    "\n",
    "def timestampToStr(t):\n",
    "    return datetime.fromtimestamp(t).strftime('%Y-%m-%d')\n",
    "\n",
    "def renameColumns(d):\n",
    "    def checkDict(c):\n",
    "        if c in d:\n",
    "            return d[c]\n",
    "        return c\n",
    "    return checkDict\n",
    "\n",
    "def evaluateResults(label, y_true, y_pred):\n",
    "    # TrainSize: 68000\n",
    "    # TestSize: 28000\n",
    "    # Ratio: 1.5000\n",
    "    # MinCln: 96\n",
    "    # MaxMal: 600\n",
    "    # FP: 292 (0.0209)\n",
    "    # FN: 1805 (0.1289)\n",
    "    # TP: 12195 (0.8711)\n",
    "    # TN: 13708 (0.9791)\n",
    "    # Precision: 0.9766\n",
    "    # Recall: 0.8711\n",
    "    # Accuracy: 0.9251\n",
    "    # F1 measure: 0.9208\n",
    "\n",
    "    n = len(y_true)\n",
    "    tn, fp, fn, tp = confusion_matrix(y_true, y_pred).ravel()\n",
    "    precision = tp/(tp+fp)\n",
    "    recall = tp/(tp+fn)\n",
    "    accuracy = (tp+tn)/n\n",
    "    f1 = 2*((precision*recall)/(precision+recall))\n",
    "    \n",
    "    print(\"===== {}\".format(label))\n",
    "    print(\"FP: {}  ({})\".format(fp, fp-292))\n",
    "    print(\"FN: {}  ({})\".format(fn, fn-1805))\n",
    "    print(\"TP: {}  ({})\".format(tp, tp-12195))\n",
    "    print(\"TN: {}  ({})\".format(tn, tn-13708))\n",
    "    print(\"Precision: {}  ({})\".format( 100*precision, 100*(precision-0.9766) ))\n",
    "    print(\"Recall: {}  ({})\".format( 100*recall, 100*(recall-0.8711) ))\n",
    "    print(\"Accuracy: {}  ({})\".format( 100*accuracy, 100*(accuracy-0.9251) ))\n",
    "    print(\"F1 measure: {}  ({})\".format( 100*f1, 100*(f1-0.9208) ))\n",
    "    return {\n",
    "        'fp': fp,\n",
    "        'fn': fn,\n",
    "        'tp': tp,\n",
    "        'tn': tn,\n",
    "        'precision': precision,\n",
    "        'recall': recall,\n",
    "        'accuracy': accuracy,\n",
    "        'f1': f1,\n",
    "    }\n",
    "\n",
    "def gridSearchKNN(label, X_train, y_train, X_test, y_test, transformer=None):\n",
    "    results = []\n",
    "    \n",
    "    if transformer:\n",
    "        X_train_trans = transformer.transform(X_train)\n",
    "        X_test_trans = transformer.transform(X_test)\n",
    "    else:\n",
    "        X_train_trans = X_train\n",
    "        X_test_trans = X_test\n",
    "    \n",
    "    for weight in ['uniform', 'distance']:\n",
    "        for k in [1,2,4,8,16,32]:\n",
    "            knn = KNeighborsClassifier(n_neighbors=k, weights=weight, n_jobs=-1)\n",
    "            knn.fit(X_train_trans, y_train)\n",
    "            results.append( evaluateResults(label.format(k, weight), y_test, knn.predict(X_test_trans)) )\n",
    "            results[-1]['label'] = label.format(k, weight)\n",
    "    return results\n",
    "\n",
    "def gridSearchKNNratio(label, X_train, y_train, X_test, y_test, transformer=None):\n",
    "    results = []\n",
    "    \n",
    "    if transformer:\n",
    "        X_train_trans = transformer.transform(X_train)\n",
    "        X_test_trans = transformer.transform(X_test)\n",
    "    else:\n",
    "        X_train_trans = X_train\n",
    "        X_test_trans = X_test\n",
    "    \n",
    "\n",
    "    knn = KNeighborsClassifier(n_neighbors=X_train.shape[0]//2, weights='uniform', n_jobs=-1)\n",
    "    knn.fit(X_train_trans, y_train)\n",
    "    distances, indices = knn.kneighbors(X_test_trans)\n",
    "\n",
    "    malwareAndCleanIndices = list(map(findMalwareAndClean, indices))\n",
    "    distancesClosest = [(D[i[0]],D[i[1]]) for D,i in zip(distances, malwareAndCleanIndices)]\n",
    "\n",
    "    for ratio in [.25,.5,.75,1,1.25,1.5,1.75,2,2.5]:\n",
    "        distanceRatios = [x/y if y>0 else ratio+1 for x,y in distancesClosest]\n",
    "        y_pred = [0 if x<ratio else 1 for x in distanceRatios]\n",
    "\n",
    "        results.append( evaluateResults(label.format(ratio), y_test, y_pred))\n",
    "        results[-1]['label'] = label.format(ratio)\n",
    "    return results"
   ]
  },
  {
   "cell_type": "code",
   "execution_count": null,
   "metadata": {
    "collapsed": false
   },
   "outputs": [],
   "source": [
    "X_train = pd.read_csv('kovac/train68k_features.csv', sep=',', low_memory=False, index_col=False, dtype=float)\n",
    "X_test = pd.read_csv('kovac/test28k_features.csv', sep=',', low_memory=False, index_col=False, dtype=float)\n",
    "X_train.values.shape, X_test.shape"
   ]
  },
  {
   "cell_type": "code",
   "execution_count": null,
   "metadata": {
    "collapsed": false
   },
   "outputs": [],
   "source": [
    "X_train.describe(include='all')"
   ]
  },
  {
   "cell_type": "code",
   "execution_count": null,
   "metadata": {
    "collapsed": false
   },
   "outputs": [],
   "source": [
    "XTM = X_test.mean(axis=0)\n",
    "XTS = X_train.std(axis=0)\n",
    "XTM.shape, XTS.shape"
   ]
  },
  {
   "cell_type": "code",
   "execution_count": null,
   "metadata": {
    "collapsed": false
   },
   "outputs": [],
   "source": [
    "X_train_norm = (X_train - XTM) / XTS\n",
    "X_test_norm = (X_test - XTM) / XTS\n",
    "X_train_norm.describe(include='all')"
   ]
  },
  {
   "cell_type": "code",
   "execution_count": null,
   "metadata": {
    "collapsed": false
   },
   "outputs": [],
   "source": [
    "y_train = np.concatenate((np.zeros(X_train.shape[0]//2), np.ones(X_train.shape[0]//2)))\n",
    "y_test = np.concatenate((np.zeros(X_test.shape[0]//2), np.ones(X_test.shape[0]//2)))\n",
    "y_train.shape, y_test.shape"
   ]
  },
  {
   "cell_type": "code",
   "execution_count": null,
   "metadata": {
    "collapsed": true
   },
   "outputs": [],
   "source": [
    "allResults = []"
   ]
  },
  {
   "cell_type": "markdown",
   "metadata": {},
   "source": [
    "# Euklid"
   ]
  },
  {
   "cell_type": "code",
   "execution_count": null,
   "metadata": {
    "collapsed": false
   },
   "outputs": [],
   "source": [
    "allResults += gridSearchKNN(\"{}NN-{}\", X_train, y_train, X_test, y_test)"
   ]
  },
  {
   "cell_type": "code",
   "execution_count": null,
   "metadata": {
    "collapsed": false
   },
   "outputs": [],
   "source": [
    "allResults += gridSearchKNN(\"norm + {}NN-{}\", X_train_norm, y_train, X_test_norm, y_test)"
   ]
  },
  {
   "cell_type": "code",
   "execution_count": null,
   "metadata": {
    "collapsed": true
   },
   "outputs": [],
   "source": [
    "allResults += gridSearchKNNratio(\"NN-{}\", X_train, y_train, X_test, y_test)"
   ]
  },
  {
   "cell_type": "code",
   "execution_count": null,
   "metadata": {
    "collapsed": true
   },
   "outputs": [],
   "source": [
    "allResults += gridSearchKNNratio(\"norm + NN-{}\", X_train_norm, y_train, X_test_norm, y_test)"
   ]
  },
  {
   "cell_type": "markdown",
   "metadata": {},
   "source": [
    "# LFDA"
   ]
  },
  {
   "cell_type": "code",
   "execution_count": null,
   "metadata": {
    "collapsed": false
   },
   "outputs": [],
   "source": [
    "subset = 0.75\n",
    "train_mask = np.random.choice([True, False], X_train.shape[0], p=[subset, 1-subset])\n",
    "\n",
    "X_train_sample = X_train[train_mask]\n",
    "X_train_sample_norm = X_train_norm[train_mask]\n",
    "y_train_sample = y_train[train_mask]\n",
    "\n",
    "X_train_sample.shape, X_train_sample_norm.shape"
   ]
  },
  {
   "cell_type": "code",
   "execution_count": null,
   "metadata": {
    "collapsed": false
   },
   "outputs": [],
   "source": [
    "lfda = LFDA()\n",
    "lfda.fit(X_train_sample.values, y_train_sample)"
   ]
  },
  {
   "cell_type": "code",
   "execution_count": null,
   "metadata": {
    "collapsed": false
   },
   "outputs": [],
   "source": [
    "allResults += gridSearchKNN(\"LFDA + {}NN-{}\", X_train, y_train, X_test, y_test, lfda)"
   ]
  },
  {
   "cell_type": "code",
   "execution_count": null,
   "metadata": {
    "collapsed": true
   },
   "outputs": [],
   "source": [
    "allResults += gridSearchKNNratio(\"LFDA + NN-{}\", X_train, y_train, X_test, y_test, lfda)"
   ]
  },
  {
   "cell_type": "markdown",
   "metadata": {},
   "source": [
    "# LFDA norm"
   ]
  },
  {
   "cell_type": "code",
   "execution_count": null,
   "metadata": {
    "collapsed": false
   },
   "outputs": [],
   "source": [
    "lfda_norm = LFDA()\n",
    "lfda_norm.fit(X_train_sample_norm.values, y_train_sample)"
   ]
  },
  {
   "cell_type": "code",
   "execution_count": null,
   "metadata": {
    "collapsed": false
   },
   "outputs": [],
   "source": [
    "allResults += gridSearchKNN(\"norm + LFDA + {}NN-{}\", X_train_norm, y_train, X_test_norm, y_test, lfda)"
   ]
  },
  {
   "cell_type": "code",
   "execution_count": null,
   "metadata": {
    "collapsed": true
   },
   "outputs": [],
   "source": [
    "allResults += gridSearchKNNratio(\"norm + LFDA + NN-{}\", X_train_norm, y_train, X_test_norm, y_test, lfda)"
   ]
  },
  {
   "cell_type": "markdown",
   "metadata": {},
   "source": [
    "# LMNN"
   ]
  },
  {
   "cell_type": "code",
   "execution_count": null,
   "metadata": {
    "collapsed": false
   },
   "outputs": [],
   "source": [
    "subset = 0.25\n",
    "train_mask = np.random.choice([True, False], X_train.shape[0], p=[subset, 1-subset])\n",
    "\n",
    "X_train_sample = X_train[train_mask]\n",
    "X_train_sample_norm = X_train_norm[train_mask]\n",
    "y_train_sample = y_train[train_mask]\n",
    "\n",
    "X_train_sample.shape, X_train_sample_norm.shape"
   ]
  },
  {
   "cell_type": "code",
   "execution_count": null,
   "metadata": {
    "collapsed": false
   },
   "outputs": [],
   "source": [
    "lmnn = LMNN()\n",
    "lmnn.fit(X_train_sample.values, y_train_sample)"
   ]
  },
  {
   "cell_type": "code",
   "execution_count": null,
   "metadata": {
    "collapsed": true
   },
   "outputs": [],
   "source": [
    "allResults += gridSearchKNN(\"LMNN + {}NN-{}\", X_train, y_train, X_test, y_test, lmnn)"
   ]
  },
  {
   "cell_type": "code",
   "execution_count": null,
   "metadata": {
    "collapsed": true
   },
   "outputs": [],
   "source": [
    "allResults += gridSearchKNNratio(\"LMNN + NN-{}\", X_train, y_train, X_test, y_test, lmnn)"
   ]
  },
  {
   "cell_type": "markdown",
   "metadata": {},
   "source": [
    "# LMNN norm"
   ]
  },
  {
   "cell_type": "code",
   "execution_count": null,
   "metadata": {
    "collapsed": true
   },
   "outputs": [],
   "source": [
    "lmnn_norm = LMNN()\n",
    "lmnn_norm.fit(X_train_sample_norm.values, y_train_sample)"
   ]
  },
  {
   "cell_type": "code",
   "execution_count": null,
   "metadata": {
    "collapsed": true
   },
   "outputs": [],
   "source": [
    "allResults += gridSearchKNN(\"norm + LMNN + {}NN-{}\", X_train_norm, y_train, X_test_norm, y_test, lmnn)"
   ]
  },
  {
   "cell_type": "code",
   "execution_count": null,
   "metadata": {
    "collapsed": true
   },
   "outputs": [],
   "source": [
    "allResults += gridSearchKNNratio(\"norm + LMNN + NN-{}\", X_train_norm, y_train, X_test_norm, y_test, lmnn)"
   ]
  },
  {
   "cell_type": "markdown",
   "metadata": {},
   "source": [
    "# NCA"
   ]
  },
  {
   "cell_type": "code",
   "execution_count": null,
   "metadata": {
    "collapsed": false
   },
   "outputs": [],
   "source": [
    "subset = 0.015\n",
    "train_mask = np.random.choice([True, False], X_train.shape[0], p=[subset, 1-subset])\n",
    "\n",
    "X_train_sample = X_train[train_mask]\n",
    "X_train_sample_norm = X_train_norm[train_mask]\n",
    "y_train_sample = y_train[train_mask]\n",
    "\n",
    "X_train_sample.shape, X_train_sample_norm.shape"
   ]
  },
  {
   "cell_type": "code",
   "execution_count": null,
   "metadata": {
    "collapsed": true
   },
   "outputs": [],
   "source": [
    "nca = NCA()\n",
    "nca.fit(X_train_sample.values, y_train_sample)"
   ]
  },
  {
   "cell_type": "code",
   "execution_count": null,
   "metadata": {
    "collapsed": true
   },
   "outputs": [],
   "source": [
    "allResults += gridSearchKNN(\"NCA + {}NN-{}\", X_train, y_train, X_test, y_test, nca)"
   ]
  },
  {
   "cell_type": "code",
   "execution_count": null,
   "metadata": {
    "collapsed": true
   },
   "outputs": [],
   "source": [
    "allResults += gridSearchKNNratio(\"NCA + NN-{}\", X_train, y_train, X_test, y_test, nca)"
   ]
  },
  {
   "cell_type": "markdown",
   "metadata": {},
   "source": [
    "# NCA norm"
   ]
  },
  {
   "cell_type": "code",
   "execution_count": null,
   "metadata": {
    "collapsed": true
   },
   "outputs": [],
   "source": [
    "nca_norm = NCA()\n",
    "nca_norm.fit(X_train_sample_norm.values, y_train_sample)"
   ]
  },
  {
   "cell_type": "code",
   "execution_count": null,
   "metadata": {
    "collapsed": true
   },
   "outputs": [],
   "source": [
    "allResults += gridSearchKNN(\"norm + NCA + {}NN-{}\", X_train_norm, y_train, X_test_norm, y_test, nca)"
   ]
  },
  {
   "cell_type": "code",
   "execution_count": null,
   "metadata": {
    "collapsed": true
   },
   "outputs": [],
   "source": [
    "allResults += gridSearchKNNratio(\"norm + NCA + NN-{}\", X_train_norm, y_train, X_test_norm, y_test, nca)"
   ]
  },
  {
   "cell_type": "markdown",
   "metadata": {
    "collapsed": true
   },
   "source": [
    "# Results"
   ]
  },
  {
   "cell_type": "code",
   "execution_count": null,
   "metadata": {
    "collapsed": false
   },
   "outputs": [],
   "source": [
    "allResults"
   ]
  },
  {
   "cell_type": "code",
   "execution_count": null,
   "metadata": {
    "collapsed": true
   },
   "outputs": [],
   "source": []
  }
 ],
 "metadata": {
  "anaconda-cloud": {},
  "kernelspec": {
   "display_name": "Python [default]",
   "language": "python",
   "name": "python3"
  },
  "language_info": {
   "codemirror_mode": {
    "name": "ipython",
    "version": 3
   },
   "file_extension": ".py",
   "mimetype": "text/x-python",
   "name": "python",
   "nbconvert_exporter": "python",
   "pygments_lexer": "ipython3",
   "version": "3.5.2"
  }
 },
 "nbformat": 4,
 "nbformat_minor": 1
}
