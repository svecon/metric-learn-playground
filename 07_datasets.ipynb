{
 "cells": [
  {
   "cell_type": "markdown",
   "metadata": {},
   "source": [
    "Datasets\n",
    "========"
   ]
  },
  {
   "cell_type": "code",
   "execution_count": null,
   "metadata": {
    "collapsed": false
   },
   "outputs": [],
   "source": [
    "# import csv\n",
    "import numpy as np\n",
    "# import scipy.linalg as la\n",
    "# import matplotlib.pyplot as plt\n",
    "import pandas as pd\n",
    "\n",
    "# from svecon.KNNClassifierPerClass import KNNClassifierPerClass\n",
    "\n",
    "from sklearn.cross_validation import StratifiedKFold#, cross_val_score, train_test_split\n",
    "# from sklearn.utils import shuffle\n",
    "# from sklearn import metrics\n",
    "# from sklearn.metrics import confusion_matrix\n",
    "from sklearn.neighbors import KNeighborsClassifier\n",
    "\n",
    "from sklearn.grid_search import GridSearchCV\n",
    "from sklearn.pipeline import Pipeline\n",
    "from sklearn.preprocessing import Imputer, StandardScaler\n",
    "\n",
    "from metric_learn import LMNN, NCA, LFDA\n",
    "\n",
    "from plotly.offline import download_plotlyjs, init_notebook_mode\n",
    "init_notebook_mode()"
   ]
  },
  {
   "cell_type": "code",
   "execution_count": null,
   "metadata": {
    "collapsed": false
   },
   "outputs": [],
   "source": [
    "def evaluateKnn(X_train, y_train, X_test, y_test, k=1, classifier=KNeighborsClassifier, show_confusion=False):\n",
    "    knn = classifier(k)\n",
    "    knn.fit(X_train, y_train)\n",
    "    \n",
    "    predicted = knn.predict(X_test)\n",
    "    wrongVec = predicted!=y_test\n",
    "    N = len(y_test)\n",
    "    print('{}% success ({}/{})'.format((1-sum(wrongVec)/N)*100, N-sum(wrongVec), N) )\n",
    "    \n",
    "    if show_confusion:\n",
    "        print(confusion_matrix(y_test, predicted))\n",
    "    \n",
    "    return (knn, wrongVec)"
   ]
  },
  {
   "cell_type": "code",
   "execution_count": null,
   "metadata": {
    "collapsed": true
   },
   "outputs": [],
   "source": [
    "def evaluateClassifierOLD(X, y, name=None, transformation=None):\n",
    "    smallestClass = y.value_counts().min()\n",
    "\n",
    "    bestAccuracy = (0,0,0)\n",
    "    for k in range(1,smallestClass+1):\n",
    "        classifier = KNeighborsClassifier(n_neighbors=k, n_jobs=1)\n",
    "        cv = StratifiedKFold(y, n_folds=5, shuffle=True, random_state=777)\n",
    "    \n",
    "        scores = []\n",
    "        for train,test in cv:\n",
    "            \n",
    "            y_train = y.loc[train].values\n",
    "            y_test = y.loc[test].values\n",
    "            \n",
    "            if transformation is None:\n",
    "                X_train, X_test = X.loc[train], X.loc[test]\n",
    "            else:\n",
    "                X_train, X_test = transformation(X.loc[train].astype(float).values, y_train, X.loc[test].astype(float).values)\n",
    "            \n",
    "            classifier.fit(X_train, y_train)\n",
    "            scores.append( classifier.score(X_test, y_test) )\n",
    "\n",
    "        if bestAccuracy[0]<np.mean(scores): bestAccuracy = (np.mean(scores), np.std(scores) * 2, k)\n",
    "    \n",
    "    print(\"{} -> Best Accuracy: {} (+/- {}) for K={}\".format(name, bestAccuracy[0], bestAccuracy[1], bestAccuracy[2]))"
   ]
  },
  {
   "cell_type": "code",
   "execution_count": null,
   "metadata": {
    "collapsed": false
   },
   "outputs": [],
   "source": [
    "from time import time\n",
    "\n",
    "def evaluateClassifier(X, y, pipeline, parameters, name=None):\n",
    "    \n",
    "    cv = StratifiedKFold(y, n_folds=5, shuffle=False, random_state=777)\n",
    "    grid_search = GridSearchCV(pipeline, parameters, n_jobs=4, verbose=True, cv=cv, iid=True)\n",
    "    \n",
    "    t0 = time()\n",
    "    grid_search.fit(X.values, y.values)\n",
    "    print(name)\n",
    "    print(\"\\tDone in {}s\".format(time() - t0))\n",
    "    print(\"\\tBest score: {}%\".format(grid_search.best_score_))\n",
    "    print(\"\\tBest params: {}\".format(grid_search.best_params_))\n",
    "    print()\n",
    "    return grid_search\n",
    "#     print(\"Grid scores\", grid_search.grid_scores_)\n",
    "#     print(\"Best parameters set:\")\n",
    "#     best_parameters = grid_search.best_estimator_.get_params()\n",
    "#     for param_name in sorted(parameters.keys()):\n",
    "#         print(\"\\t%s: %r\" % (param_name, best_parameters[param_name]))"
   ]
  },
  {
   "cell_type": "code",
   "execution_count": null,
   "metadata": {
    "collapsed": false
   },
   "outputs": [],
   "source": [
    "import glob, os\n",
    "\n",
    "datasets = []\n",
    "for file in glob.glob(\"datasets/*.csv\"):\n",
    "    datasets.append(file)\n",
    "    \n",
    "datasets.sort()\n",
    "datasetsNames = [x[9:-4] for x in datasets]\n",
    "\n",
    "print(datasetsNames)"
   ]
  },
  {
   "cell_type": "code",
   "execution_count": null,
   "metadata": {
    "collapsed": false
   },
   "outputs": [],
   "source": [
    "filename = datasets[0]\n",
    "\n",
    "data = pd.read_csv(filename, sep=',', skiprows=1, header=0)\n",
    "\n",
    "y = data['class']\n",
    "X = data.drop(['class'], axis=1)\n",
    "\n",
    "defaultParams = {\n",
    "    'knn__n_neighbors': (1, 2, 4, 8, 16, 32),\n",
    "}\n",
    "defaultImputer = Imputer(missing_values='NaN', strategy='mean', axis=0, verbose=0, copy=False)\n",
    "defaultStandardizer = StandardScaler(copy=False, with_mean=True, with_std=True)\n",
    "\n",
    "# pipeline = Pipeline([\n",
    "#     ('imputer', defaultImputer),\n",
    "#     ('knn', KNeighborsClassifier()),\n",
    "# ])\n",
    "# params = {\n",
    "#     **defaultParams\n",
    "# }\n",
    "# # evaluateClassifier(X, y, pipeline, params, \"Original+kNN\")\n",
    "\n",
    "\n",
    "# pipeline = Pipeline([\n",
    "#     ('imputer', defaultImputer),\n",
    "#     ('standardizer', defaultStandardizer),\n",
    "#     ('knn', KNeighborsClassifier()),\n",
    "# ])\n",
    "# params = {\n",
    "#     **defaultParams\n",
    "# }\n",
    "# evaluateClassifier(X, y, pipeline, params, \"Standardized+kNN\")\n",
    "\n",
    "\n",
    "pipeline = Pipeline([\n",
    "    ('imputer', defaultImputer),\n",
    "    ('standardizer', defaultStandardizer),\n",
    "    ('lmnn', LMNN(k=3, min_iter=50, max_iter=1000, learn_rate=1e-07, regularization=0.5, convergence_tol=0.001)),\n",
    "    ('knn', KNeighborsClassifier()),\n",
    "])\n",
    "params = {\n",
    "    **defaultParams,\n",
    "    'lmnn__k': (1, 2),#, 2, 4, 8, 16),\n",
    "#     'lmnn__regularization': (.1, .5, .9),\n",
    "#     'lmnn__max_iter': (100, 500, 1000),\n",
    "#     'lmnn__learn_rate': (1e-7, 1e-8, 1e-9),\n",
    "}\n",
    "gs = evaluateClassifier(X, y, pipeline, params, \"LMNN+kNN\")"
   ]
  },
  {
   "cell_type": "code",
   "execution_count": null,
   "metadata": {
    "collapsed": false
   },
   "outputs": [],
   "source": [
    "gs.grid_scores_"
   ]
  },
  {
   "cell_type": "code",
   "execution_count": null,
   "metadata": {
    "collapsed": false
   },
   "outputs": [],
   "source": []
  },
  {
   "cell_type": "code",
   "execution_count": null,
   "metadata": {
    "collapsed": false
   },
   "outputs": [],
   "source": [
    "pipeline = Pipeline([\n",
    "    ('imputer', defaultImputer),\n",
    "    ('nca', NCA(max_iter=100, learning_rate=0.01)),\n",
    "    ('knn', KNeighborsClassifier()),\n",
    "])\n",
    "params = {\n",
    "    **defaultParams,\n",
    "    'nca__max_iter': (100,),#, 500, 1000),\n",
    "    'nca__learn_rate': (0.1, 0.01),# 1e-3, 1e-5),\n",
    "}\n",
    "evaluateClassifier(X, y, pipeline, params, \"NCA+kNN\")"
   ]
  },
  {
   "cell_type": "code",
   "execution_count": null,
   "metadata": {
    "collapsed": false
   },
   "outputs": [],
   "source": [
    "pipeline = Pipeline([\n",
    "    ('imputer', defaultImputer),\n",
    "    ('lfda', LFDA(dim=None, k=7, metric='weighted')),\n",
    "    ('knn', KNeighborsClassifier()),\n",
    "])\n",
    "params = {\n",
    "    **defaultParams,\n",
    "    'lfda__k': (1, 2, 3),#, 4, 8, 16),\n",
    "    'lfda__metric': ('weighted', 'orthonormalized'),\n",
    "}\n",
    "evaluateClassifier(X, y, pipeline, params, \"LFDA+kNN\")"
   ]
  },
  {
   "cell_type": "code",
   "execution_count": null,
   "metadata": {
    "collapsed": true
   },
   "outputs": [],
   "source": []
  }
 ],
 "metadata": {
  "kernelspec": {
   "display_name": "Python 3",
   "language": "python",
   "name": "python3"
  },
  "language_info": {
   "codemirror_mode": {
    "name": "ipython",
    "version": 3
   },
   "file_extension": ".py",
   "mimetype": "text/x-python",
   "name": "python",
   "nbconvert_exporter": "python",
   "pygments_lexer": "ipython3",
   "version": "3.5.2"
  }
 },
 "nbformat": 4,
 "nbformat_minor": 0
}
