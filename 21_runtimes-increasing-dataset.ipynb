{
 "cells": [
  {
   "cell_type": "markdown",
   "metadata": {},
   "source": [
    "Runtimes for increasing dataset\n",
    "========"
   ]
  },
  {
   "cell_type": "code",
   "execution_count": null,
   "metadata": {
    "collapsed": false
   },
   "outputs": [],
   "source": [
    "import numpy as np\n",
    "import pandas as pd\n",
    "import glob, os, os.path, sys, warnings, math, time, re, collections\n",
    "\n",
    "%matplotlib inline\n",
    "import matplotlib.pyplot as plt\n",
    "from plotting.plots import *\n",
    "\n",
    "from sklearn.model_selection import train_test_split\n",
    "from sklearn.neighbors import KNeighborsClassifier\n",
    "from sklearn.pipeline import Pipeline\n",
    "from sklearn.preprocessing import Imputer, StandardScaler, LabelEncoder\n",
    "from sklearn.decomposition import PCA\n",
    "from sklearn.manifold import TSNE\n",
    "\n",
    "from techniques import sortedTechniques\n",
    "from metric_learn import LMNN, NCA, LFDA, Covariance, MetricEvolution, NeuralNetworkTransformer, FullMatrixTransformer, DiagonalMatrixTransformer\n",
    "from metric_learn import ITML_Supervised, SDML_Supervised, LSML_Supervised, RCA_Supervised\n",
    "\n",
    "\n",
    "datasetsDirectory = 'datasets'\n",
    "resultsDirectory = 'results/runtimes-cont'\n",
    "\n",
    "if not os.path.exists(resultsDirectory):\n",
    "    os.makedirs(resultsDirectory)\n",
    "\n",
    "# np.set_printoptions(precision=7, suppress=True, threshold=np.nan)\n",
    "np.set_printoptions(formatter={'float': lambda x: \"{0:0.5f}\".format(x)})\n",
    "\n",
    "import pickle\n",
    "def save_obj(obj, name):\n",
    "    with open('{}/{}.pkl'.format(resultsDirectory, name), 'wb') as f:\n",
    "        pickle.dump(obj, f, pickle.HIGHEST_PROTOCOL)\n",
    "\n",
    "def load_obj(name):\n",
    "    with open('{}/{}.pkl'.format(resultsDirectory, name), 'rb') as f:\n",
    "        return pickle.load(f)\n",
    "    \n",
    "def exists_obj(name):\n",
    "    return os.path.exists('{}/{}.pkl'.format(resultsDirectory, name))\n",
    "\n",
    "def gfn(filename):\n",
    "    odir = '../thesis-distance-metric-learning/thesis/graphs/learning-times'\n",
    "    if not os.path.exists(odir):\n",
    "        os.makedirs(odir)\n",
    "    return '{}/{}'.format(odir, filename)"
   ]
  },
  {
   "cell_type": "code",
   "execution_count": null,
   "metadata": {
    "collapsed": false
   },
   "outputs": [],
   "source": [
    "common_ea_params = {\n",
    "    's__stats': None,\n",
    "    's__n_gen': 200,\n",
    "    'transformer': 'full',\n",
    "}\n",
    "\n",
    "bestAlgorithms = [\n",
    "    (['full'], 'stand+Cov+kNN', Covariance()),\n",
    "    (['full'], 'stand+LMNN+kNN', LMNN(k=4, regularization=0.9, learn_rate=1e-8, max_iter=200)),\n",
    "    (['full'], 'stand+NCA+kNN', NCA(max_iter=200, learning_rate=0.01)),\n",
    "    (['full'], 'stand+LFDA+kNN', LFDA(k=3, num_dims=None)),\n",
    "    \n",
    "    (['full', 'diagonal'], 'stand+CMAES+kNN', MetricEvolution(**common_ea_params, strategy='cmaes', fitnesses=[('knn', {'n_neighbors':8})])),\n",
    "    (['full', 'diagonal'], 'stand+CMAESFme+kNN', MetricEvolution(**common_ea_params, strategy='cmaes', fitnesses='wfme')),\n",
    "    \n",
    "    (['full', 'diagonal'], 'stand+JDE+kNN', MetricEvolution(**common_ea_params, strategy='jde', fitnesses='wfme')),\n",
    "    (['full', 'diagonal'], 'stand+JDEkNN+kNN', MetricEvolution(**common_ea_params, strategy='jde', fitnesses=[('knn', {'n_neighbors':8})])),\n",
    "]\n",
    "\n",
    "mainAlgorithms = [\n",
    "    (['full'], 'stand+Cov+kNN', Covariance()),\n",
    "    (['full'], 'stand+LMNN+kNN', LMNN(k=4, regularization=0.9, learn_rate=1e-8, max_iter=200)),\n",
    "    (['full'], 'stand+NCA+kNN', NCA(max_iter=200, learning_rate=0.01)),\n",
    "    (['full'], 'stand+LFDA+kNN', LFDA(k=3, num_dims=None)),\n",
    "    \n",
    "    (['full', 'diagonal'], 'stand+CMAES+kNN', MetricEvolution(**common_ea_params, strategy='cmaes', fitnesses=[('knn', {'n_neighbors':8})])),\n",
    "    (['full', 'diagonal'], 'stand+JDE+kNN', MetricEvolution(**common_ea_params, strategy='jde', fitnesses='wfme')),\n",
    "    \n",
    "    (['full', 'diagonal'], 'stand+CMAESfMe+kNN', MetricEvolution(**common_ea_params, strategy='cmaes', fitnesses='wfme')),\n",
    "    (['full', 'diagonal'], 'stand+JDEkNN+kNN', MetricEvolution(**common_ea_params, strategy='jde', fitnesses=[('knn', {'n_neighbors':8})])),\n",
    "]"
   ]
  },
  {
   "cell_type": "code",
   "execution_count": null,
   "metadata": {
    "collapsed": false
   },
   "outputs": [],
   "source": [
    "data = pd.read_csv('datasets/digits10.csv', sep=',', skiprows=1, header=0)\n",
    "y = data['class']\n",
    "X = data.drop(['class'], axis=1).values\n",
    "\n",
    "le = LabelEncoder()\n",
    "y = le.fit_transform(y)\n",
    "\n",
    "for _ in range(10):\n",
    "    for dim in range(2, 10):\n",
    "        pca = PCA(n_components=dim)\n",
    "        X_trans = pca.fit_transform(X)\n",
    "        \n",
    "        split_sizes_list = [500]\n",
    "        if dim == 5:\n",
    "            split_sizes_list = list(range(100, 1501, 100))\n",
    "        \n",
    "        for split_size in split_sizes_list:\n",
    "            X_train, X_test, y_train, y_test = train_test_split(X_trans, y, train_size=split_size)\n",
    "\n",
    "            imputer = Imputer(missing_values='NaN', strategy='mean', axis=0, verbose=0, copy=False)\n",
    "            X_train = imputer.fit_transform(X_train)\n",
    "            X_test = imputer.transform(X_test)\n",
    "\n",
    "            standard = StandardScaler()\n",
    "            X_train = standard.fit_transform(X_train)\n",
    "            X_test = standard.transform(X_test)\n",
    "\n",
    "            for transformers, methodName, method in mainAlgorithms:\n",
    "                for transformer in transformers:\n",
    "#                     if transformer=='diagonal': continue\n",
    "\n",
    "                    dump_filename = '{}__{}__{}__{}'.format(methodName, transformer, dim, split_size)\n",
    "                    if not exists_obj(dump_filename):\n",
    "                        save_obj([], dump_filename)\n",
    "\n",
    "                    prev_runtimes = load_obj(dump_filename)\n",
    "\n",
    "                    if len(prev_runtimes)>=5:\n",
    "                        print('skipping {}, already exists'.format(dump_filename))\n",
    "                        continue\n",
    "\n",
    "                    print(\"starting {} ({})\".format(dump_filename, X_train.shape))\n",
    "                    print(\"{} runs so far: {}\".format(len(prev_runtimes), prev_runtimes))\n",
    "\n",
    "                    try:\n",
    "                        start = time.clock()\n",
    "\n",
    "                        me = method\n",
    "#                         me.params['transformer'] = transformer\n",
    "                        me.fit(X_train, y_train)\n",
    "\n",
    "                        end = time.clock()\n",
    "\n",
    "                        save_obj(prev_runtimes+[end-start], dump_filename)\n",
    "                    except:\n",
    "                        print(\"Unexpected error:\", sys.exc_info()[0])"
   ]
  },
  {
   "cell_type": "code",
   "execution_count": null,
   "metadata": {
    "collapsed": true
   },
   "outputs": [],
   "source": []
  },
  {
   "cell_type": "code",
   "execution_count": null,
   "metadata": {
    "collapsed": false
   },
   "outputs": [],
   "source": [
    "results = []\n",
    "for file in glob.glob(\"{}/*.pkl\".format(resultsDirectory)):\n",
    "    results.append(file)\n",
    "results.sort()\n",
    "\n",
    "resultsByDataset = {}\n",
    "for x in results:\n",
    "    _,_,filename = re.split('/|\\\\\\\\', x)\n",
    "    methodName,transformer,dims,samples = filename[:-4].split('__')\n",
    "    samples = int(samples)\n",
    "    dims = int(dims)\n",
    "    \n",
    "    if methodName not in resultsByDataset:\n",
    "        resultsByDataset[methodName] = {}\n",
    "    if transformer not in resultsByDataset[methodName]:\n",
    "        resultsByDataset[methodName][transformer] = collections.OrderedDict()\n",
    "    if samples not in resultsByDataset[methodName][transformer]:\n",
    "        resultsByDataset[methodName][transformer][samples] = collections.OrderedDict()\n",
    "\n",
    "    resultsByDataset[methodName][transformer][samples][dims] = load_obj(filename[:-4])"
   ]
  },
  {
   "cell_type": "code",
   "execution_count": null,
   "metadata": {
    "collapsed": false
   },
   "outputs": [],
   "source": [
    "# methodTitles = list(filter(lambda x:x[0][:5]=='stand', sortedTechniques))[-4:]\n",
    "methodTitles = [\n",
    "#     ('stand+Cov+kNN', 'Covariance'),\n",
    "    ('stand+LMNN+kNN', 'LMNN'),\n",
    "    ('stand+NCA+kNN', 'NCA'),\n",
    "#     ('stand+LFDA+kNN', 'LFDA'),\n",
    "    \n",
    "    ('stand+CMAES+kNN', 'CMAES.kNN'),\n",
    "    ('stand+JDEkNN+kNN', 'jDE.kNN'),\n",
    "\n",
    "    ('stand+CMAESfMe+kNN', 'CMAES.fMe'),\n",
    "    ('stand+JDE+kNN', 'jDE.fMe'),\n",
    "]\n",
    "\n",
    "transformerName = {\n",
    "    'full': 'full',\n",
    "    'diagonal': 'diag',\n",
    "}"
   ]
  },
  {
   "cell_type": "code",
   "execution_count": null,
   "metadata": {
    "collapsed": false
   },
   "outputs": [],
   "source": [
    "# [np.mean(v) for k,v in resultsByDataset['stand+CMAES+kNN']['full'][500].items()]\n",
    "# resultsByDataset['stand+CMAES+kNN']['full'][500]\n",
    "# resultsByDataset['stand+CMAES+kNN']"
   ]
  },
  {
   "cell_type": "code",
   "execution_count": null,
   "metadata": {
    "collapsed": false
   },
   "outputs": [],
   "source": [
    "fig, axes = startGraphing('Learning times for an increasing dimension (fixed number of samples)'.format(), 1, 2, size=(8, 12), sharey=False)\n",
    "alldata = resultsByDataset\n",
    "data = []\n",
    "titles = []\n",
    "markers = []\n",
    "for transformer in ['full', 'diagonal']:\n",
    "    for method, title in methodTitles:\n",
    "\n",
    "        if method not in alldata:\n",
    "            print('{}'.format(method))\n",
    "            continue\n",
    "        if transformer not in alldata[method]:\n",
    "            print('{} {}'.format(method, transformer))\n",
    "            continue\n",
    "        if 500 not in alldata[method][transformer]:\n",
    "            print('{} {} {}'.format(method, transformer, 500))\n",
    "            continue\n",
    "\n",
    "        data.append(np.asarray([np.mean(v) for k,v in sorted(alldata[method][transformer][500].items())]))\n",
    "#         print(data)\n",
    "#         print(datasetName, title, math.ceil(data['runtime']))\n",
    "\n",
    "        if '.' in title: title += \" ({})\".format(transformerName[transformer])\n",
    "        titles.append(title)\n",
    "        markers.append('-o' if transformer=='full' else ':s')\n",
    "        \n",
    "plotLines(axes[0], data, x_ticks=range(2, 10), title=None, ylabel='learning time (seconds)', xlabel='dimension', markers=markers)\n",
    "plt.yscale('log')\n",
    "plotLines(axes[1], data, x_ticks=range(2, 10), title=None, ylabel='learning time (seconds)', xlabel='dimension', markers=markers)\n",
    "endGraphing(fig, legend=titles, filename=gfn('dimensions'), move_title=.94, adjust_legend=.12)\n",
    "#     break"
   ]
  },
  {
   "cell_type": "code",
   "execution_count": null,
   "metadata": {
    "collapsed": false
   },
   "outputs": [],
   "source": [
    "fig, axes = startGraphing('Learning times for an increasing number of samples (fixed dimension)'.format(), 1, 2, size=(8, 12), sharey=False)\n",
    "alldata = resultsByDataset\n",
    "data = []\n",
    "titles = []\n",
    "for transformer in ['full', 'diagonal']:\n",
    "    for method, title in methodTitles:\n",
    "\n",
    "        if method not in alldata \\\n",
    "        or transformer not in alldata[method]:\n",
    "            print('{} {}'.format(method, transformer))\n",
    "            continue\n",
    "\n",
    "        data.append(np.asarray([np.mean(v[5]) for k,v in sorted(alldata[method][transformer].items())]))\n",
    "#         print(data)\n",
    "#         print(datasetName, title, math.ceil(data['runtime']))\n",
    "\n",
    "        if '.' in title: title += \" ({})\".format(transformerName[transformer])\n",
    "        titles.append(title)\n",
    "        \n",
    "print(len(data))\n",
    "plotLines(axes[0], data, x_ticks=range(100, 1501, 100), title=None, ylabel='learning time (seconds)', xlabel='number of samples', markers=markers)\n",
    "plt.yscale('log')\n",
    "plotLines(axes[1], data, x_ticks=range(100, 1501, 100), title=None, ylabel='learning time (seconds)', xlabel='number of samples', markers=markers)\n",
    "endGraphing(fig, legend=titles, filename=gfn('samples'), move_title=.94, adjust_legend=.12)\n",
    "#     break"
   ]
  },
  {
   "cell_type": "code",
   "execution_count": null,
   "metadata": {
    "collapsed": true
   },
   "outputs": [],
   "source": []
  },
  {
   "cell_type": "code",
   "execution_count": null,
   "metadata": {
    "collapsed": false
   },
   "outputs": [],
   "source": [
    "# ## RENAMING results for full/diag\n",
    "# results = []\n",
    "# for file in glob.glob(\"{}/*.pkl\".format(resultsDirectory)):\n",
    "#     results.append(file)\n",
    "# results.sort()\n",
    "# results\n",
    "\n",
    "# for x in results:\n",
    "#     os.rename(x, x.replace('.pkl', '__full.pkl'))"
   ]
  }
 ],
 "metadata": {
  "anaconda-cloud": {},
  "kernelspec": {
   "display_name": "Python 3",
   "language": "python",
   "name": "python3"
  },
  "language_info": {
   "codemirror_mode": {
    "name": "ipython",
    "version": 3
   },
   "file_extension": ".py",
   "mimetype": "text/x-python",
   "name": "python",
   "nbconvert_exporter": "python",
   "pygments_lexer": "ipython3",
   "version": "3.5.2"
  }
 },
 "nbformat": 4,
 "nbformat_minor": 0
}
