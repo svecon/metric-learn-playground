{
 "cells": [
  {
   "cell_type": "code",
   "execution_count": 2,
   "metadata": {
    "collapsed": true
   },
   "outputs": [],
   "source": [
    "import numpy as np\n",
    "import pandas as pd\n",
    "import glob\n",
    "import os.path\n",
    "\n",
    "datasetsDirectory = 'datasets'\n",
    "resultsDirectory = 'datasets-results'"
   ]
  },
  {
   "cell_type": "code",
   "execution_count": 4,
   "metadata": {
    "collapsed": false
   },
   "outputs": [],
   "source": [
    "resultsDirectory = 'datasets-results-all'\n",
    "resultsMask = \"{}/*_result.csv\".format(resultsDirectory)\n",
    "alldata = pd.concat([pd.DataFrame.from_csv(x) for x in sorted(glob.glob(resultsMask))])\n",
    "flat = alldata.copy(deep=True)\n",
    "alldata = alldata.set_index(['dataset','technique', alldata.index])\n",
    "\n",
    "for dataset in alldata.index.levels[0]:\n",
    "    for technique in alldata.index.levels[1]:\n",
    "        f = \"{}_{}_result.csv\".format(dataset,technique)\n",
    "        f = f.lower()\n",
    "        f = \"\".join([word[0].upper() + word[1:] if i >= 1 else word for i,word in enumerate(f.split('+'))])\n",
    "        f = f.replace('_stand', '_Stand')\n",
    "        techniqueRows = flat.loc[(flat['dataset']==dataset) & (flat['technique']==technique)]\n",
    "        techniqueRows.to_csv('datasets-results-converted/{}'.format(f))"
   ]
  },
  {
   "cell_type": "code",
   "execution_count": null,
   "metadata": {
    "collapsed": true
   },
   "outputs": [],
   "source": []
  }
 ],
 "metadata": {
  "kernelspec": {
   "display_name": "Python 3",
   "language": "python",
   "name": "python3"
  },
  "language_info": {
   "codemirror_mode": {
    "name": "ipython",
    "version": 3
   },
   "file_extension": ".py",
   "mimetype": "text/x-python",
   "name": "python",
   "nbconvert_exporter": "python",
   "pygments_lexer": "ipython3",
   "version": "3.5.1"
  }
 },
 "nbformat": 4,
 "nbformat_minor": 0
}
